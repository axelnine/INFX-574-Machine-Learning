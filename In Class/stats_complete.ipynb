{
 "cells": [
  {
   "cell_type": "code",
   "execution_count": 2,
   "metadata": {
    "autoscroll": false,
    "ein.tags": "worksheet-0",
    "slideshow": {
     "slide_type": "-"
    }
   },
   "outputs": [],
   "source": [
    "import pandas as pd\n",
    "import numpy as np\n",
    "import matplotlib.pyplot as plt\n",
    "%matplotlib inline"
   ]
  },
  {
   "cell_type": "markdown",
   "metadata": {
    "ein.tags": "worksheet-0",
    "slideshow": {
     "slide_type": "-"
    }
   },
   "source": [
    "## 1. Variance of normal RV-s\n",
    "\n",
    "Create a large sample (>= 1000) of standard random numbers.  Compute\n",
    "the sample variance using both of the formulas, and by the np.var method."
   ]
  },
  {
   "cell_type": "code",
   "execution_count": 3,
   "metadata": {
    "autoscroll": false,
    "ein.tags": "worksheet-0",
    "slideshow": {
     "slide_type": "-"
    }
   },
   "outputs": [
    {
     "name": "stdout",
     "output_type": "stream",
     "text": [
      "mean: -0.002006138952698099\n",
      "-0.002006138952698099\n",
      "variance: 0.959530659425031\n",
      "variance 2: 0.9595306594250308\n",
      "variance 3: 0.959530659425031\n",
      "st.dev: 0.9795563584730748\n"
     ]
    }
   ],
   "source": [
    "n = 1000\n",
    "x = np.random.normal(size=(n))\n",
    "barx = x.mean()\n",
    "print(\"mean:\", barx)\n",
    "print(np.mean(x))\n",
    "vx = np.mean((x - x.mean())**2)\n",
    "print(\"variance:\", vx)\n",
    "vx2 = np.mean(x*x) - np.mean(x)**2\n",
    "print(\"variance 2:\", vx2)\n",
    "vx3 = x.var()\n",
    "print(\"variance 3:\", vx3)\n",
    "sdx = np.sqrt(vx3)\n",
    "print(\"st.dev:\", sdx)"
   ]
  },
  {
   "cell_type": "markdown",
   "metadata": {
    "ein.tags": "worksheet-0",
    "slideshow": {
     "slide_type": "-"
    }
   },
   "source": [
    "Compute the confidence intervals: $[mean - 1.96*std, mean +\n",
    "                                    1.96*std]$.  Given the confidence\n",
    "intervals, find which percentage of the sample falls outside of the interval."
   ]
  },
  {
   "cell_type": "code",
   "execution_count": 4,
   "metadata": {
    "autoscroll": false,
    "ein.tags": "worksheet-0",
    "slideshow": {
     "slide_type": "-"
    }
   },
   "outputs": [
    {
     "name": "stdout",
     "output_type": "stream",
     "text": [
      "outside pct: 0.043\n"
     ]
    }
   ],
   "source": [
    "x1 = barx - 1.96*sdx\n",
    "x2 = barx + 1.96*sdx\n",
    "outside = np.logical_or(x < x1, x > x2)\n",
    "print(\"outside pct:\", outside.mean())"
   ]
  },
  {
   "cell_type": "markdown",
   "metadata": {
    "ein.tags": "worksheet-0",
    "slideshow": {
     "slide_type": "-"
    }
   },
   "source": [
    "All results are exactly the same, i.e. numpy uses a similar formula\n",
    "for the variance.  Also, the results are terribly close to 1, which is\n",
    "not surprising as we picked the standard normals."
   ]
  },
  {
   "cell_type": "markdown",
   "metadata": {
    "ein.tags": "worksheet-0",
    "slideshow": {
     "slide_type": "-"
    }
   },
   "source": [
    "## 2. Variance of means\n",
    "\n",
    "Do a similar exercise, just instead of random numbers, pick means of a\n",
    "random sample (of size $n$ = 1, 3, 10, 30, ..., 1000, ... as far as your\n",
    "               computer can go).\n",
    "* How big is the variance of these means?\n",
    "* what is the confidence interval?\n",
    "* what percentage of observations fall outside of the interval?\n",
    "* how does all that depend on the sample size $n$?"
   ]
  },
  {
   "cell_type": "code",
   "execution_count": 5,
   "metadata": {
    "autoscroll": false,
    "ein.tags": "worksheet-0",
    "slideshow": {
     "slide_type": "-"
    }
   },
   "outputs": [
    {
     "name": "stdout",
     "output_type": "stream",
     "text": [
      "var(mu): 0.9970136434639529\n",
      "confidence interval: -1.9469587029664934 1.967183661706065\n",
      "inside pct: 0.949\n"
     ]
    }
   ],
   "source": [
    "n = 1\n",
    "m = 1000\n",
    "mu = np.random.normal(size=(m,n)).mean(axis=1)\n",
    "print(\"var(mu):\", mu.var())\n",
    "barx = mu.mean()\n",
    "std = np.sqrt(mu.var())\n",
    "x1 = barx - 1.96*std\n",
    "x2 = barx + 1.96*std\n",
    "print(\"confidence interval:\", x1, x2)\n",
    "inside = np.logical_and(mu >= x1, mu <= x2)\n",
    "print(\"inside pct:\", inside.mean())\n"
   ]
  },
  {
   "cell_type": "markdown",
   "metadata": {
    "ein.tags": "worksheet-0",
    "slideshow": {
     "slide_type": "-"
    }
   },
   "source": [
    "Now write it as a function"
   ]
  },
  {
   "cell_type": "code",
   "execution_count": 6,
   "metadata": {
    "autoscroll": false,
    "ein.tags": "worksheet-0",
    "slideshow": {
     "slide_type": "-"
    }
   },
   "outputs": [
    {
     "data": {
      "text/plain": [
       "(-0.006234979538176967, 0.006271910670392052, 0.951)"
      ]
     },
     "execution_count": 6,
     "metadata": {},
     "output_type": "execute_result"
    }
   ],
   "source": [
    "def meansamples(m, n):\n",
    "    mu = np.random.normal(size=(m,n)).mean(axis=1)\n",
    "    barx = mu.mean()\n",
    "    std = np.sqrt(mu.var())\n",
    "    x1 = barx - 1.96*std\n",
    "    x2 = barx + 1.96*std\n",
    "    inside = np.logical_and(mu >= x1, mu <= x2).mean()\n",
    "    return (x1, x2, inside)\n",
    "meansamples(1000,100000)    "
   ]
  },
  {
   "cell_type": "code",
   "execution_count": 7,
   "metadata": {
    "autoscroll": false,
    "ein.tags": "worksheet-0",
    "slideshow": {
     "slide_type": "-"
    }
   },
   "outputs": [
    {
     "name": "stdout",
     "output_type": "stream",
     "text": [
      "           lower    pct     upper\n",
      "1.0     1.932165  0.955  1.932165\n",
      "3.0     1.129630  0.952  1.129630\n",
      "10.0    0.634324  0.957  0.634324\n",
      "30.0    0.375213  0.955  0.375213\n",
      "100.0   0.185759  0.961  0.185759\n",
      "300.0   0.116558  0.957  0.116558\n",
      "1000.0  0.061320  0.952  0.061320\n",
      "3000.0  0.036494  0.952  0.036494\n"
     ]
    },
    {
     "data": {
      "text/plain": [
       "<matplotlib.legend.Legend at 0x1b847f48160>"
      ]
     },
     "execution_count": 7,
     "metadata": {},
     "output_type": "execute_result"
    },
    {
     "data": {
      "image/png": "[encoded data removed]",
      "text/plain": [
       "<Figure size 432x288 with 1 Axes>"
      ]
     },
     "metadata": {},
     "output_type": "display_data"
    }
   ],
   "source": [
    "ns = np.array([1, 3, 10, 30, 100, 300, 1000, 3000], dtype=\"float\")\n",
    "pcts = np.empty_like(ns)\n",
    "lowers = np.empty_like(ns)\n",
    "uppers = np.empty_like(ns)\n",
    "for i, n in enumerate(ns):\n",
    "    l, u, pct = meansamples(m, int(n))\n",
    "    pcts[i] = pct\n",
    "    lowers[i] = u\n",
    "    uppers[i] = u\n",
    "\n",
    "data = pd.DataFrame({\"lower\": lowers, \"upper\": uppers, \"pct\": pcts},\n",
    "                    index=ns)\n",
    "print(data)\n",
    "plt.loglog(ns, pcts, label='percent')\n",
    "plt.loglog(ns, uppers, label='upper limit')\n",
    "plt.legend()"
   ]
  },
  {
   "cell_type": "markdown",
   "metadata": {
    "ein.tags": "worksheet-0",
    "slideshow": {
     "slide_type": "-"
    }
   },
   "source": [
    "Comment: pct is the same, interval falls rapidly."
   ]
  },
  {
   "cell_type": "markdown",
   "metadata": {
    "ein.tags": "worksheet-0",
    "slideshow": {
     "slide_type": "-"
    }
   },
   "source": [
    "## 3. extra task"
   ]
  },
  {
   "cell_type": "code",
   "execution_count": 9,
   "metadata": {
    "autoscroll": false,
    "ein.tags": "worksheet-0",
    "slideshow": {
     "slide_type": "-"
    }
   },
   "outputs": [
    {
     "name": "stdout",
     "output_type": "stream",
     "text": [
      "-10.797232799733463 11.848523715901353\n"
     ]
    },
    {
     "data": {
      "text/plain": [
       "(-10.797232799733463, 11.848523715901353, 0.94)"
      ]
     },
     "execution_count": 9,
     "metadata": {},
     "output_type": "execute_result"
    }
   ],
   "source": [
    "def meansamples2(m, n):\n",
    "    mu = np.random.normal(size=(m,n)).cumsum(axis=1).mean(axis=1)\n",
    "    barx = mu.mean()\n",
    "    std = np.sqrt(mu.var())\n",
    "    x1 = barx - 1.96*std\n",
    "    x2 = barx + 1.96*std\n",
    "    inside = np.logical_and(mu >= x1, mu <= x2).mean()\n",
    "    print(x1, x2)\n",
    "    return (x1, x2, inside)\n",
    "\n",
    "meansamples2(100,100)"
   ]
  },
  {
   "cell_type": "code",
   "execution_count": 11,
   "metadata": {
    "autoscroll": false,
    "ein.tags": "worksheet-0",
    "slideshow": {
     "slide_type": "-"
    }
   },
   "outputs": [
    {
     "name": "stdout",
     "output_type": "stream",
     "text": [
      "-1.8894083422932686 1.8737305657159273\n",
      "-2.480840284541944 2.414866494387119\n",
      "-4.029041023977701 3.9067470479572237\n",
      "-6.2883429670043 6.372703511061293\n",
      "-11.458678239246105 11.489980998339352\n",
      "-19.392033249397322 19.003177000551638\n",
      "-35.07553984951828 34.94992878763047\n",
      "-61.19572745588588 63.22042735878548\n",
      "            lower    pct      upper\n",
      "1.0     -1.889408  0.952   1.873731\n",
      "3.0     -2.480840  0.946   2.414866\n",
      "10.0    -4.029041  0.950   3.906747\n",
      "30.0    -6.288343  0.954   6.372704\n",
      "100.0  -11.458678  0.950  11.489981\n",
      "300.0  -19.392033  0.955  19.003177\n",
      "1000.0 -35.075540  0.947  34.949929\n",
      "3000.0 -61.195727  0.953  63.220427\n"
     ]
    },
    {
     "data": {
      "text/plain": [
       "<matplotlib.legend.Legend at 0x1b848187710>"
      ]
     },
     "execution_count": 11,
     "metadata": {},
     "output_type": "execute_result"
    },
    {
     "data": {
      "image/png": "[encoded data removed]",
      "text/plain": [
       "<Figure size 432x288 with 1 Axes>"
      ]
     },
     "metadata": {},
     "output_type": "display_data"
    }
   ],
   "source": [
    "ns = np.array([1, 3, 10, 30, 100, 300, 1000, 3000], dtype=\"float\")\n",
    "pcts = np.empty_like(ns)\n",
    "lowers = np.empty_like(ns)\n",
    "uppers = np.empty_like(ns)\n",
    "for i, n in enumerate(ns):\n",
    "    l, u, pct = meansamples2(m, int(n))\n",
    "    pcts[i] = pct\n",
    "    lowers[i] = l\n",
    "    uppers[i] = u\n",
    "\n",
    "data = pd.DataFrame({\"lower\": lowers, \"upper\": uppers, \"pct\": pcts},\n",
    "                    index=ns)\n",
    "print(data)\n",
    "plt.loglog(ns, pcts, label='percent')\n",
    "plt.loglog(ns, uppers, label='upper limit')\n",
    "plt.legend()"
   ]
  },
  {
   "cell_type": "markdown",
   "metadata": {
    "ein.tags": "worksheet-0",
    "slideshow": {
     "slide_type": "-"
    }
   },
   "source": [
    "Now the upper limit is increasing..."
   ]
  }
 ],
 "metadata": {
  "kernelspec": {
   "display_name": "Python 3",
   "language": "python",
   "name": "python3"
  },
  "language_info": {
   "codemirror_mode": {
    "name": "ipython",
    "version": 3
   },
   "file_extension": ".py",
   "mimetype": "text/x-python",
   "name": "python",
   "nbconvert_exporter": "python",
   "pygments_lexer": "ipython3",
   "version": "3.6.4"
  },
  "name": "lab01_stats.ipynb"
 },
 "nbformat": 4,
 "nbformat_minor": 2
}
