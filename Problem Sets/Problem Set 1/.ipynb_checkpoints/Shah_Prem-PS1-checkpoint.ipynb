{
 "cells": [
  {
   "cell_type": "markdown",
   "metadata": {
    "ein.tags": "worksheet-0",
    "slideshow": {
     "slide_type": "-"
    }
   },
   "source": [
    "# Problem Set 1\n",
    "Due April 11th at 5:30pm -- at the start of the class so we can\n",
    "discuss the solutions in class.\n",
    "\n",
    "### Before You Start\n",
    "\n",
    "Make sure to at least take a basic tutorial in the IPython notebook,\n",
    "otherwise you'll be totally lost.  For this problem set, you should\n",
    "download flights.csv.bz2 and weather.csv.bz2 datasets from\n",
    "Canvas (files-data).   Rename the notebook to\n",
    "LASTNAME_FIRSTNAME-PS1.ipynb.\n",
    "\n",
    "When done, please submit\n",
    "1. the notebook itself\n",
    "2. the rendered html or pdf of it.\n",
    "\n"
   ]
  },
  {
   "cell_type": "markdown",
   "metadata": {
    "ein.tags": "worksheet-0",
    "slideshow": {
     "slide_type": "-"
    }
   },
   "source": [
    "## About the Problem Set: \n",
    "\n",
    "This problem set is rather similar to ones used for R, dplyr, and\n",
    "flights data.  Just we use python and pandas.\n",
    "\n",
    "In this problem set you will perform a basic exploratory analysis on\n",
    "an example dataset, bringing to bear all of your new skills in data\n",
    "manipulation and visualization. You will be required to submit well\n",
    "commented python code, documenting all code used in this problem set,\n",
    "along with a write up answering all questions below. Use figures as\n",
    "appropriate to support your answers, and when required by the problem.\n"
   ]
  },
  {
   "cell_type": "markdown",
   "metadata": {
    "ein.tags": "worksheet-0",
    "slideshow": {
     "slide_type": "-"
    }
   },
   "source": [
    "## Preliminaries\n",
    "\n",
    "You should also make sure the following libraries load correctly (click on the box below and hit Ctrl-Enter)"
   ]
  },
  {
   "cell_type": "code",
   "execution_count": 4,
   "metadata": {
    "autoscroll": false,
    "ein.tags": "worksheet-0",
    "slideshow": {
     "slide_type": "-"
    }
   },
   "outputs": [
    {
     "name": "stdout",
     "output_type": "stream",
     "text": [
      "IPython version:       6.2.1 (need at least 1.0)\n",
      "Numpy version:        1.14.2 (need at least 1.7.1)\n",
      "SciPy version:         1.0.1 (need at least 0.12.0)\n",
      "Pandas version:       0.22.0 (need at least 0.11.0)\n",
      "Matplotlib version:     2.2.2 (need at least 1.2.1)\n",
      "Scikit-Learn version: 0.19.1 (need at least 0.13.1)\n"
     ]
    }
   ],
   "source": [
    "#IPython is what you are using now to run the notebook\n",
    "import IPython\n",
    "print( \"IPython version:      %6.6s (need at least 1.0)\" % IPython.__version__)\n",
    "\n",
    "# Numpy is a library for working with Arrays\n",
    "import numpy as np\n",
    "print( \"Numpy version:        %6.6s (need at least 1.7.1)\" % np.__version__)\n",
    "\n",
    "# SciPy implements many different numerical algorithms\n",
    "import scipy as sp\n",
    "print( \"SciPy version:        %6.6s (need at least 0.12.0)\" % sp.__version__)\n",
    "\n",
    "# Pandas makes working with data tables easier\n",
    "import pandas as pd\n",
    "print( \"Pandas version:       %6.6s (need at least 0.11.0)\" % pd.__version__)\n",
    "\n",
    "# Module for plotting\n",
    "import matplotlib.pyplot as plt\n",
    "import matplotlib\n",
    "print( \"Matplotlib version:    %6.6s (need at least 1.2.1)\" %\n",
    "       matplotlib.__version__)\n",
    "%matplotlib inline\n",
    "# necessary for in-line graphics\n",
    "\n",
    "# SciKit Learn implements several Machine Learning algorithms\n",
    "import sklearn\n",
    "print( \"Scikit-Learn version: %6.6s (need at least 0.13.1)\" % sklearn.__version__)"
   ]
  },
  {
   "cell_type": "code",
   "execution_count": 5,
   "metadata": {
    "autoscroll": false,
    "ein.tags": "worksheet-0",
    "slideshow": {
     "slide_type": "-"
    }
   },
   "outputs": [],
   "source": [
    "## Let's read the data and print some summary information\n",
    "## adjust the path for your file system!\n",
    "flights_df= pd.read_csv('data/flights.csv.bz2')\n",
    "weather_df = pd.read_csv('data/weather.csv.bz2')"
   ]
  },
  {
   "cell_type": "code",
   "execution_count": 5,
   "metadata": {
    "autoscroll": false,
    "ein.tags": "worksheet-0",
    "slideshow": {
     "slide_type": "-"
    }
   },
   "outputs": [
    {
     "name": "stdout",
     "output_type": "stream",
     "text": [
      "(336776, 17)\n",
      "Index(['Unnamed: 0', 'year', 'month', 'day', 'dep_time', 'dep_delay',\n",
      "       'arr_time', 'arr_delay', 'carrier', 'tailnum', 'flight', 'origin',\n",
      "       'dest', 'air_time', 'distance', 'hour', 'minute'],\n",
      "      dtype='object')\n",
      "Unnamed: 0      int64\n",
      "year            int64\n",
      "month           int64\n",
      "day             int64\n",
      "dep_time      float64\n",
      "dep_delay     float64\n",
      "arr_time      float64\n",
      "arr_delay     float64\n",
      "carrier        object\n",
      "tailnum        object\n",
      "flight          int64\n",
      "origin         object\n",
      "dest           object\n",
      "air_time      float64\n",
      "distance        int64\n",
      "hour          float64\n",
      "minute        float64\n",
      "dtype: object\n"
     ]
    }
   ],
   "source": [
    "print (flights_df.shape)\n",
    "print (flights_df.columns)\n",
    "print (flights_df.dtypes)"
   ]
  },
  {
   "cell_type": "code",
   "execution_count": 40,
   "metadata": {
    "autoscroll": false,
    "ein.tags": "worksheet-0",
    "slideshow": {
     "slide_type": "-"
    }
   },
   "outputs": [
    {
     "data": {
      "text/html": [
       "<div>\n",
       "<style scoped>\n",
       "    .dataframe tbody tr th:only-of-type {\n",
       "        vertical-align: middle;\n",
       "    }\n",
       "\n",
       "    .dataframe tbody tr th {\n",
       "        vertical-align: top;\n",
       "    }\n",
       "\n",
       "    .dataframe thead th {\n",
       "        text-align: right;\n",
       "    }\n",
       "</style>\n",
       "<table border=\"1\" class=\"dataframe\">\n",
       "  <thead>\n",
       "    <tr style=\"text-align: right;\">\n",
       "      <th></th>\n",
       "      <th>Unnamed: 0</th>\n",
       "      <th>year</th>\n",
       "      <th>month</th>\n",
       "      <th>day</th>\n",
       "      <th>dep_time</th>\n",
       "      <th>dep_delay</th>\n",
       "      <th>arr_time</th>\n",
       "      <th>arr_delay</th>\n",
       "      <th>carrier</th>\n",
       "      <th>tailnum</th>\n",
       "      <th>flight</th>\n",
       "      <th>origin</th>\n",
       "      <th>dest</th>\n",
       "      <th>air_time</th>\n",
       "      <th>distance</th>\n",
       "      <th>hour</th>\n",
       "      <th>minute</th>\n",
       "    </tr>\n",
       "  </thead>\n",
       "  <tbody>\n",
       "    <tr>\n",
       "      <th>0</th>\n",
       "      <td>1</td>\n",
       "      <td>2013</td>\n",
       "      <td>1</td>\n",
       "      <td>1</td>\n",
       "      <td>517.0</td>\n",
       "      <td>2.0</td>\n",
       "      <td>830.0</td>\n",
       "      <td>11.0</td>\n",
       "      <td>UA</td>\n",
       "      <td>N14228</td>\n",
       "      <td>1545</td>\n",
       "      <td>EWR</td>\n",
       "      <td>IAH</td>\n",
       "      <td>227.0</td>\n",
       "      <td>1400</td>\n",
       "      <td>5.0</td>\n",
       "      <td>17.0</td>\n",
       "    </tr>\n",
       "    <tr>\n",
       "      <th>1</th>\n",
       "      <td>2</td>\n",
       "      <td>2013</td>\n",
       "      <td>1</td>\n",
       "      <td>1</td>\n",
       "      <td>533.0</td>\n",
       "      <td>4.0</td>\n",
       "      <td>850.0</td>\n",
       "      <td>20.0</td>\n",
       "      <td>UA</td>\n",
       "      <td>N24211</td>\n",
       "      <td>1714</td>\n",
       "      <td>LGA</td>\n",
       "      <td>IAH</td>\n",
       "      <td>227.0</td>\n",
       "      <td>1416</td>\n",
       "      <td>5.0</td>\n",
       "      <td>33.0</td>\n",
       "    </tr>\n",
       "    <tr>\n",
       "      <th>2</th>\n",
       "      <td>3</td>\n",
       "      <td>2013</td>\n",
       "      <td>1</td>\n",
       "      <td>1</td>\n",
       "      <td>542.0</td>\n",
       "      <td>2.0</td>\n",
       "      <td>923.0</td>\n",
       "      <td>33.0</td>\n",
       "      <td>AA</td>\n",
       "      <td>N619AA</td>\n",
       "      <td>1141</td>\n",
       "      <td>JFK</td>\n",
       "      <td>MIA</td>\n",
       "      <td>160.0</td>\n",
       "      <td>1089</td>\n",
       "      <td>5.0</td>\n",
       "      <td>42.0</td>\n",
       "    </tr>\n",
       "    <tr>\n",
       "      <th>3</th>\n",
       "      <td>4</td>\n",
       "      <td>2013</td>\n",
       "      <td>1</td>\n",
       "      <td>1</td>\n",
       "      <td>544.0</td>\n",
       "      <td>-1.0</td>\n",
       "      <td>1004.0</td>\n",
       "      <td>-18.0</td>\n",
       "      <td>B6</td>\n",
       "      <td>N804JB</td>\n",
       "      <td>725</td>\n",
       "      <td>JFK</td>\n",
       "      <td>BQN</td>\n",
       "      <td>183.0</td>\n",
       "      <td>1576</td>\n",
       "      <td>5.0</td>\n",
       "      <td>44.0</td>\n",
       "    </tr>\n",
       "    <tr>\n",
       "      <th>4</th>\n",
       "      <td>5</td>\n",
       "      <td>2013</td>\n",
       "      <td>1</td>\n",
       "      <td>1</td>\n",
       "      <td>554.0</td>\n",
       "      <td>-6.0</td>\n",
       "      <td>812.0</td>\n",
       "      <td>-25.0</td>\n",
       "      <td>DL</td>\n",
       "      <td>N668DN</td>\n",
       "      <td>461</td>\n",
       "      <td>LGA</td>\n",
       "      <td>ATL</td>\n",
       "      <td>116.0</td>\n",
       "      <td>762</td>\n",
       "      <td>5.0</td>\n",
       "      <td>54.0</td>\n",
       "    </tr>\n",
       "    <tr>\n",
       "      <th>5</th>\n",
       "      <td>6</td>\n",
       "      <td>2013</td>\n",
       "      <td>1</td>\n",
       "      <td>1</td>\n",
       "      <td>554.0</td>\n",
       "      <td>-4.0</td>\n",
       "      <td>740.0</td>\n",
       "      <td>12.0</td>\n",
       "      <td>UA</td>\n",
       "      <td>N39463</td>\n",
       "      <td>1696</td>\n",
       "      <td>EWR</td>\n",
       "      <td>ORD</td>\n",
       "      <td>150.0</td>\n",
       "      <td>719</td>\n",
       "      <td>5.0</td>\n",
       "      <td>54.0</td>\n",
       "    </tr>\n",
       "    <tr>\n",
       "      <th>6</th>\n",
       "      <td>7</td>\n",
       "      <td>2013</td>\n",
       "      <td>1</td>\n",
       "      <td>1</td>\n",
       "      <td>555.0</td>\n",
       "      <td>-5.0</td>\n",
       "      <td>913.0</td>\n",
       "      <td>19.0</td>\n",
       "      <td>B6</td>\n",
       "      <td>N516JB</td>\n",
       "      <td>507</td>\n",
       "      <td>EWR</td>\n",
       "      <td>FLL</td>\n",
       "      <td>158.0</td>\n",
       "      <td>1065</td>\n",
       "      <td>5.0</td>\n",
       "      <td>55.0</td>\n",
       "    </tr>\n",
       "    <tr>\n",
       "      <th>7</th>\n",
       "      <td>8</td>\n",
       "      <td>2013</td>\n",
       "      <td>1</td>\n",
       "      <td>1</td>\n",
       "      <td>557.0</td>\n",
       "      <td>-3.0</td>\n",
       "      <td>709.0</td>\n",
       "      <td>-14.0</td>\n",
       "      <td>EV</td>\n",
       "      <td>N829AS</td>\n",
       "      <td>5708</td>\n",
       "      <td>LGA</td>\n",
       "      <td>IAD</td>\n",
       "      <td>53.0</td>\n",
       "      <td>229</td>\n",
       "      <td>5.0</td>\n",
       "      <td>57.0</td>\n",
       "    </tr>\n",
       "    <tr>\n",
       "      <th>8</th>\n",
       "      <td>9</td>\n",
       "      <td>2013</td>\n",
       "      <td>1</td>\n",
       "      <td>1</td>\n",
       "      <td>557.0</td>\n",
       "      <td>-3.0</td>\n",
       "      <td>838.0</td>\n",
       "      <td>-8.0</td>\n",
       "      <td>B6</td>\n",
       "      <td>N593JB</td>\n",
       "      <td>79</td>\n",
       "      <td>JFK</td>\n",
       "      <td>MCO</td>\n",
       "      <td>140.0</td>\n",
       "      <td>944</td>\n",
       "      <td>5.0</td>\n",
       "      <td>57.0</td>\n",
       "    </tr>\n",
       "    <tr>\n",
       "      <th>9</th>\n",
       "      <td>10</td>\n",
       "      <td>2013</td>\n",
       "      <td>1</td>\n",
       "      <td>1</td>\n",
       "      <td>558.0</td>\n",
       "      <td>-2.0</td>\n",
       "      <td>753.0</td>\n",
       "      <td>8.0</td>\n",
       "      <td>AA</td>\n",
       "      <td>N3ALAA</td>\n",
       "      <td>301</td>\n",
       "      <td>LGA</td>\n",
       "      <td>ORD</td>\n",
       "      <td>138.0</td>\n",
       "      <td>733</td>\n",
       "      <td>5.0</td>\n",
       "      <td>58.0</td>\n",
       "    </tr>\n",
       "  </tbody>\n",
       "</table>\n",
       "</div>"
      ],
      "text/plain": [
       "   Unnamed: 0  year  month  day  dep_time  dep_delay  arr_time  arr_delay  \\\n",
       "0           1  2013      1    1     517.0        2.0     830.0       11.0   \n",
       "1           2  2013      1    1     533.0        4.0     850.0       20.0   \n",
       "2           3  2013      1    1     542.0        2.0     923.0       33.0   \n",
       "3           4  2013      1    1     544.0       -1.0    1004.0      -18.0   \n",
       "4           5  2013      1    1     554.0       -6.0     812.0      -25.0   \n",
       "5           6  2013      1    1     554.0       -4.0     740.0       12.0   \n",
       "6           7  2013      1    1     555.0       -5.0     913.0       19.0   \n",
       "7           8  2013      1    1     557.0       -3.0     709.0      -14.0   \n",
       "8           9  2013      1    1     557.0       -3.0     838.0       -8.0   \n",
       "9          10  2013      1    1     558.0       -2.0     753.0        8.0   \n",
       "\n",
       "  carrier tailnum  flight origin dest  air_time  distance  hour  minute  \n",
       "0      UA  N14228    1545    EWR  IAH     227.0      1400   5.0    17.0  \n",
       "1      UA  N24211    1714    LGA  IAH     227.0      1416   5.0    33.0  \n",
       "2      AA  N619AA    1141    JFK  MIA     160.0      1089   5.0    42.0  \n",
       "3      B6  N804JB     725    JFK  BQN     183.0      1576   5.0    44.0  \n",
       "4      DL  N668DN     461    LGA  ATL     116.0       762   5.0    54.0  \n",
       "5      UA  N39463    1696    EWR  ORD     150.0       719   5.0    54.0  \n",
       "6      B6  N516JB     507    EWR  FLL     158.0      1065   5.0    55.0  \n",
       "7      EV  N829AS    5708    LGA  IAD      53.0       229   5.0    57.0  \n",
       "8      B6  N593JB      79    JFK  MCO     140.0       944   5.0    57.0  \n",
       "9      AA  N3ALAA     301    LGA  ORD     138.0       733   5.0    58.0  "
      ]
     },
     "execution_count": 40,
     "metadata": {},
     "output_type": "execute_result"
    }
   ],
   "source": [
    "flights_df.dest.unique()\n",
    "flights_df.head(10)"
   ]
  },
  {
   "cell_type": "markdown",
   "metadata": {
    "ein.tags": "worksheet-0",
    "slideshow": {
     "slide_type": "-"
    }
   },
   "source": [
    "## Some Tips\n",
    "\n",
    "* This assignment involves extensive Data frame splitting and aggregation. You should look into the details of the methods groupby, transform, sum, count, mean etc\n",
    "* Many of the tasks in the assignment can be done either through the Pandas Data Frame or by converting the data frames to Series. Many of the methods in the numpy are applicable to Series only. When stuck, try to explore the type of object (Pandas Data Frame or Numpy Series) you are dealing with."
   ]
  },
  {
   "cell_type": "markdown",
   "metadata": {
    "ein.tags": "worksheet-0",
    "slideshow": {
     "slide_type": "-"
    }
   },
   "source": [
    "## Question 1\n",
    "Let’s explore flights from NYC to Seattle. Use the flights dataset to answer the following questions.\n",
    "\n",
    "(a) How many flights were there from NYC airports to Seattle in 2013?"
   ]
  },
  {
   "cell_type": "code",
   "execution_count": 102,
   "metadata": {
    "autoscroll": false,
    "ein.tags": "worksheet-0",
    "slideshow": {
     "slide_type": "-"
    }
   },
   "outputs": [
    {
     "data": {
      "text/plain": [
       "array([2013], dtype=int64)"
      ]
     },
     "execution_count": 102,
     "metadata": {},
     "output_type": "execute_result"
    }
   ],
   "source": [
    "#We only have data for the year 2013. As we can see below\n",
    "flights_df.year.unique()"
   ]
  },
  {
   "cell_type": "code",
   "execution_count": 103,
   "metadata": {},
   "outputs": [
    {
     "data": {
      "text/plain": [
       "3923"
      ]
     },
     "execution_count": 103,
     "metadata": {},
     "output_type": "execute_result"
    }
   ],
   "source": [
    "#Find number of flights from New York City to Seattle.\n",
    "nyctosea = flights_df[flights_df.dest == 'SEA']\n",
    "nyctosea['Unnamed: 0'].count()"
   ]
  },
  {
   "cell_type": "markdown",
   "metadata": {
    "ein.tags": "worksheet-0",
    "slideshow": {
     "slide_type": "-"
    }
   },
   "source": [
    "There have been 3923 flights from New York City to Seattle, we do not slice according to number since the dataset only contains flights from 2013"
   ]
  },
  {
   "cell_type": "markdown",
   "metadata": {
    "ein.tags": "worksheet-0",
    "slideshow": {
     "slide_type": "-"
    }
   },
   "source": [
    "(b) How many airlines fly from NYC to Seattle?"
   ]
  },
  {
   "cell_type": "code",
   "execution_count": 104,
   "metadata": {
    "autoscroll": false,
    "ein.tags": "worksheet-0",
    "slideshow": {
     "slide_type": "-"
    }
   },
   "outputs": [
    {
     "name": "stdout",
     "output_type": "stream",
     "text": [
      "Airlines from NYC to SEA\n",
      "['AS' 'DL' 'UA' 'B6' 'AA']\n"
     ]
    }
   ],
   "source": [
    "#Find unique carriers flying\n",
    "print('Airlines from NYC to SEA')\n",
    "print(nyctosea['carrier'].unique())"
   ]
  },
  {
   "cell_type": "markdown",
   "metadata": {
    "ein.tags": "worksheet-0",
    "slideshow": {
     "slide_type": "-"
    }
   },
   "source": [
    "5 airlines fly from NYC to Seattle. They are Alaska Airlines (AS), Delta Air (DL), United Airlines (UA), JetBlue (B6), American Airlines (AA)."
   ]
  },
  {
   "cell_type": "markdown",
   "metadata": {
    "ein.tags": "worksheet-0",
    "slideshow": {
     "slide_type": "-"
    }
   },
   "source": [
    "(c) How many unique air planes fly from NYC to Seattle?"
   ]
  },
  {
   "cell_type": "code",
   "execution_count": 105,
   "metadata": {
    "autoscroll": false,
    "ein.tags": "worksheet-0",
    "slideshow": {
     "slide_type": "-"
    }
   },
   "outputs": [
    {
     "data": {
      "text/plain": [
       "936"
      ]
     },
     "execution_count": 105,
     "metadata": {},
     "output_type": "execute_result"
    }
   ],
   "source": [
    "#Find unique airplanes (tail number) from the data\n",
    "len(nyctosea['tailnum'].unique())"
   ]
  },
  {
   "cell_type": "markdown",
   "metadata": {
    "ein.tags": "worksheet-0",
    "slideshow": {
     "slide_type": "-"
    }
   },
   "source": [
    "936 airplanes fly from NYC to Seattle."
   ]
  },
  {
   "cell_type": "markdown",
   "metadata": {
    "ein.tags": "worksheet-0",
    "slideshow": {
     "slide_type": "-"
    }
   },
   "source": [
    "(d) What is the average arrival delay for flights from NYC to Seattle?"
   ]
  },
  {
   "cell_type": "code",
   "execution_count": 106,
   "metadata": {
    "autoscroll": false,
    "ein.tags": "worksheet-0",
    "slideshow": {
     "slide_type": "-"
    }
   },
   "outputs": [
    {
     "data": {
      "text/plain": [
       "-1.0990990990990992"
      ]
     },
     "execution_count": 106,
     "metadata": {},
     "output_type": "execute_result"
    }
   ],
   "source": [
    "\n",
    "np.mean(nyctosea['arr_delay'])"
   ]
  },
  {
   "cell_type": "markdown",
   "metadata": {
    "ein.tags": "worksheet-0",
    "slideshow": {
     "slide_type": "-"
    }
   },
   "source": [
    "The average arrival delay for flights from NYC to Seattle is -1.099 minutes.\n"
   ]
  },
  {
   "cell_type": "markdown",
   "metadata": {},
   "source": [
    "(e) What proportion of flights to Seattle come from each NYC airport"
   ]
  },
  {
   "cell_type": "code",
   "execution_count": 109,
   "metadata": {
    "autoscroll": false,
    "ein.tags": "worksheet-0",
    "scrolled": true,
    "slideshow": {
     "slide_type": "-"
    }
   },
   "outputs": [
    {
     "data": {
      "text/plain": [
       "JFK    53.326536\n",
       "EWR    46.673464\n",
       "Name: origin, dtype: float64"
      ]
     },
     "execution_count": 109,
     "metadata": {},
     "output_type": "execute_result"
    }
   ],
   "source": [
    "#Group by origin value counts and then calculate percentage\n",
    "100*(nyctosea['origin'].value_counts()/nyctosea['dest'].count())"
   ]
  },
  {
   "cell_type": "markdown",
   "metadata": {
    "ein.tags": "worksheet-0",
    "slideshow": {
     "slide_type": "-"
    }
   },
   "source": [
    "As we can see above, the 5% of the flights come to Seattle from JFK and the rest come from Newark."
   ]
  },
  {
   "cell_type": "markdown",
   "metadata": {
    "ein.tags": "worksheet-0",
    "slideshow": {
     "slide_type": "-"
    }
   },
   "source": [
    "## Question 2\n",
    "Flights are often delayed. Consider the following questions exploring delay patterns.\n",
    "\n",
    "(a) Which date has the largest average departure delay? Which date has the largest average arrival delay?"
   ]
  },
  {
   "cell_type": "code",
   "execution_count": 114,
   "metadata": {
    "autoscroll": false,
    "ein.tags": "worksheet-0",
    "slideshow": {
     "slide_type": "-"
    }
   },
   "outputs": [
    {
     "data": {
      "text/plain": [
       "(3, 8)"
      ]
     },
     "execution_count": 114,
     "metadata": {},
     "output_type": "execute_result"
    }
   ],
   "source": [
    "#Group by departure delay and find maximum value\n",
    "dep_delay = flights_df.groupby(['month','day'])['dep_delay'].mean().idxmax()\n",
    "dep_delay"
   ]
  },
  {
   "cell_type": "code",
   "execution_count": 117,
   "metadata": {},
   "outputs": [
    {
     "data": {
      "text/plain": [
       "(3, 8)"
      ]
     },
     "execution_count": 117,
     "metadata": {},
     "output_type": "execute_result"
    }
   ],
   "source": [
    "#Group by arrival delay and find maximum value\n",
    "arr_delay = flights_df.groupby(['month','day'])['arr_delay'].mean().idxmax()\n",
    "arr_delay"
   ]
  },
  {
   "cell_type": "markdown",
   "metadata": {
    "ein.tags": "worksheet-0",
    "slideshow": {
     "slide_type": "-"
    }
   },
   "source": [
    "As we can see from the above results, the highest departure and arrival delay was on 8th March 2013."
   ]
  },
  {
   "cell_type": "markdown",
   "metadata": {
    "ein.tags": "worksheet-0",
    "slideshow": {
     "slide_type": "-"
    }
   },
   "source": [
    "(b) What was the worst day to fly out of NYC in 2013 if you dislike delayed flights?\n"
   ]
  },
  {
   "cell_type": "code",
   "execution_count": 125,
   "metadata": {
    "autoscroll": false,
    "ein.tags": "worksheet-0",
    "slideshow": {
     "slide_type": "-"
    }
   },
   "outputs": [
    {
     "name": "stdout",
     "output_type": "stream",
     "text": [
      "(12, 23)\n",
      "(3, 8)\n"
     ]
    }
   ],
   "source": [
    "#Since this question is subjective we consider departure delays as a metric to consider worst days \n",
    "#to fly out of NYC.\n",
    "\n",
    "#If we consider any delay greater than 0 minutes\n",
    "print(flights_df[flights_df.dep_delay>0.0].groupby(['month','day'])['dep_delay'].count().idxmax())\n",
    "\n",
    "#If we consider any delay greater than 2 minutes\n",
    "print(flights_df[flights_df.dep_delay>2.0].groupby(['month','day'])['dep_delay'].count().idxmax())\n"
   ]
  },
  {
   "cell_type": "markdown",
   "metadata": {
    "ein.tags": "worksheet-0",
    "slideshow": {
     "slide_type": "-"
    }
   },
   "source": [
    "Here, we see an interesting result. If we consider delays more than 0 minutes, then 23rd December has the most number of departure delays. But if we consider delays greater than 2 minutes as a metric, 8th March seems to be the worst day to fly out of NYC."
   ]
  },
  {
   "cell_type": "markdown",
   "metadata": {
    "ein.tags": "worksheet-0",
    "slideshow": {
     "slide_type": "-"
    }
   },
   "source": [
    "(c) Are there any seasonal patterns in departure delays for flights from NYC?"
   ]
  },
  {
   "cell_type": "code",
   "execution_count": 137,
   "metadata": {
    "autoscroll": false,
    "ein.tags": "worksheet-0",
    "scrolled": true,
    "slideshow": {
     "slide_type": "-"
    }
   },
   "outputs": [
    {
     "data": {
      "image/png": "[encoded data removed]",
      "text/plain": [
       "<Figure size 432x288 with 1 Axes>"
      ]
     },
     "metadata": {},
     "output_type": "display_data"
    }
   ],
   "source": [
    "#Plot departure delay grouped by month\n",
    "dep_delay_by_month = flights_df.groupby(['month'])['dep_delay'].mean()\n",
    "plt.plot(dep_delay_by_month)\n",
    "plt.show()"
   ]
  },
  {
   "cell_type": "markdown",
   "metadata": {
    "ein.tags": "worksheet-0",
    "slideshow": {
     "slide_type": "-"
    }
   },
   "source": [
    "There seems to be an increase in delays in the months of July and December which coincide with Independence Day and Christmas respectively. Due to it being festive season, there are more flights and that might be an explanation for the increased delays. Also in December, harsh weather can also be a contributor to the delays."
   ]
  },
  {
   "cell_type": "markdown",
   "metadata": {
    "ein.tags": "worksheet-0",
    "slideshow": {
     "slide_type": "-"
    }
   },
   "source": [
    "(d) On average, how do departure delays vary over the course of a day?"
   ]
  },
  {
   "cell_type": "code",
   "execution_count": 139,
   "metadata": {
    "autoscroll": false,
    "ein.tags": "worksheet-0",
    "slideshow": {
     "slide_type": "-"
    }
   },
   "outputs": [
    {
     "data": {
      "image/png": "[encoded data removed]",
      "text/plain": [
       "<Figure size 432x288 with 1 Axes>"
      ]
     },
     "metadata": {},
     "output_type": "display_data"
    }
   ],
   "source": [
    "#Plot departure delay grouped by hour\n",
    "dep_delay_by_hour = flights_df.groupby(['hour'])['dep_delay'].mean()\n",
    "plt.plot(dep_delay_by_hour)\n",
    "plt.grid()\n",
    "plt.show()\n"
   ]
  },
  {
   "cell_type": "markdown",
   "metadata": {
    "ein.tags": "worksheet-0",
    "slideshow": {
     "slide_type": "-"
    }
   },
   "source": [
    "From the above graph, we can see that departure delay increases very fast from 12 to 4 AM where its the highest. Then afterwarads flights from 4 to 6 AM seem to be leaving early or on time. And after that there is a steady increase in the departure delay, with a slight jump at 11 PM."
   ]
  },
  {
   "cell_type": "markdown",
   "metadata": {
    "ein.tags": "worksheet-0",
    "slideshow": {
     "slide_type": "-"
    }
   },
   "source": [
    "## Question 3\n",
    "   Which flight departing NYC in 2013 flew the fastest?"
   ]
  },
  {
   "cell_type": "code",
   "execution_count": 141,
   "metadata": {
    "autoscroll": false,
    "ein.tags": "worksheet-0",
    "slideshow": {
     "slide_type": "-"
    }
   },
   "outputs": [
    {
     "data": {
      "text/html": [
       "<div>\n",
       "<style scoped>\n",
       "    .dataframe tbody tr th:only-of-type {\n",
       "        vertical-align: middle;\n",
       "    }\n",
       "\n",
       "    .dataframe tbody tr th {\n",
       "        vertical-align: top;\n",
       "    }\n",
       "\n",
       "    .dataframe thead th {\n",
       "        text-align: right;\n",
       "    }\n",
       "</style>\n",
       "<table border=\"1\" class=\"dataframe\">\n",
       "  <thead>\n",
       "    <tr style=\"text-align: right;\">\n",
       "      <th></th>\n",
       "      <th>Unnamed: 0</th>\n",
       "      <th>year</th>\n",
       "      <th>month</th>\n",
       "      <th>day</th>\n",
       "      <th>dep_time</th>\n",
       "      <th>dep_delay</th>\n",
       "      <th>arr_time</th>\n",
       "      <th>arr_delay</th>\n",
       "      <th>carrier</th>\n",
       "      <th>tailnum</th>\n",
       "      <th>flight</th>\n",
       "      <th>origin</th>\n",
       "      <th>dest</th>\n",
       "      <th>air_time</th>\n",
       "      <th>distance</th>\n",
       "      <th>hour</th>\n",
       "      <th>minute</th>\n",
       "    </tr>\n",
       "  </thead>\n",
       "  <tbody>\n",
       "    <tr>\n",
       "      <th>216447</th>\n",
       "      <td>216448</td>\n",
       "      <td>2013</td>\n",
       "      <td>5</td>\n",
       "      <td>25</td>\n",
       "      <td>1709.0</td>\n",
       "      <td>9.0</td>\n",
       "      <td>1923.0</td>\n",
       "      <td>-14.0</td>\n",
       "      <td>DL</td>\n",
       "      <td>N666DN</td>\n",
       "      <td>1499</td>\n",
       "      <td>LGA</td>\n",
       "      <td>ATL</td>\n",
       "      <td>65.0</td>\n",
       "      <td>762</td>\n",
       "      <td>17.0</td>\n",
       "      <td>9.0</td>\n",
       "    </tr>\n",
       "  </tbody>\n",
       "</table>\n",
       "</div>"
      ],
      "text/plain": [
       "        Unnamed: 0  year  month  day  dep_time  dep_delay  arr_time  \\\n",
       "216447      216448  2013      5   25    1709.0        9.0    1923.0   \n",
       "\n",
       "        arr_delay carrier tailnum  flight origin dest  air_time  distance  \\\n",
       "216447      -14.0      DL  N666DN    1499    LGA  ATL      65.0       762   \n",
       "\n",
       "        hour  minute  \n",
       "216447  17.0     9.0  "
      ]
     },
     "execution_count": 141,
     "metadata": {},
     "output_type": "execute_result"
    }
   ],
   "source": [
    "#Calculate distance/airtime\n",
    "flights_df[flights_df['distance']/flights_df['air_time'] == np.max(flights_df['distance']/flights_df['air_time'])]"
   ]
  },
  {
   "cell_type": "markdown",
   "metadata": {
    "ein.tags": "worksheet-0",
    "slideshow": {
     "slide_type": "-"
    }
   },
   "source": [
    "Flight number N666DN departing from LaGuardia to Seattle flew the fastest."
   ]
  },
  {
   "cell_type": "markdown",
   "metadata": {
    "ein.tags": "worksheet-0",
    "slideshow": {
     "slide_type": "-"
    }
   },
   "source": [
    "## Question 4\n",
    "Which flights (i.e. carrier + flight + dest) happen every day? Where do they fly to?"
   ]
  },
  {
   "cell_type": "code",
   "execution_count": 74,
   "metadata": {
    "autoscroll": false,
    "ein.tags": "worksheet-0",
    "slideshow": {
     "slide_type": "-"
    }
   },
   "outputs": [
    {
     "data": {
      "text/html": [
       "<div>\n",
       "<style scoped>\n",
       "    .dataframe tbody tr th:only-of-type {\n",
       "        vertical-align: middle;\n",
       "    }\n",
       "\n",
       "    .dataframe tbody tr th {\n",
       "        vertical-align: top;\n",
       "    }\n",
       "\n",
       "    .dataframe thead th {\n",
       "        text-align: right;\n",
       "    }\n",
       "</style>\n",
       "<table border=\"1\" class=\"dataframe\">\n",
       "  <thead>\n",
       "    <tr style=\"text-align: right;\">\n",
       "      <th></th>\n",
       "      <th>carrier</th>\n",
       "      <th>flight</th>\n",
       "      <th>dest</th>\n",
       "      <th>Unnamed: 0</th>\n",
       "      <th>year</th>\n",
       "      <th>month</th>\n",
       "      <th>day</th>\n",
       "      <th>dep_time</th>\n",
       "      <th>dep_delay</th>\n",
       "      <th>arr_time</th>\n",
       "      <th>arr_delay</th>\n",
       "      <th>tailnum</th>\n",
       "      <th>origin</th>\n",
       "      <th>air_time</th>\n",
       "      <th>distance</th>\n",
       "      <th>hour</th>\n",
       "      <th>minute</th>\n",
       "    </tr>\n",
       "  </thead>\n",
       "  <tbody>\n",
       "    <tr>\n",
       "      <th>914</th>\n",
       "      <td>AA</td>\n",
       "      <td>1611</td>\n",
       "      <td>MIA</td>\n",
       "      <td>365</td>\n",
       "      <td>365</td>\n",
       "      <td>365</td>\n",
       "      <td>365</td>\n",
       "      <td>360</td>\n",
       "      <td>360</td>\n",
       "      <td>360</td>\n",
       "      <td>360</td>\n",
       "      <td>364</td>\n",
       "      <td>365</td>\n",
       "      <td>360</td>\n",
       "      <td>365</td>\n",
       "      <td>360</td>\n",
       "      <td>360</td>\n",
       "    </tr>\n",
       "    <tr>\n",
       "      <th>1243</th>\n",
       "      <td>B6</td>\n",
       "      <td>703</td>\n",
       "      <td>SJU</td>\n",
       "      <td>365</td>\n",
       "      <td>365</td>\n",
       "      <td>365</td>\n",
       "      <td>365</td>\n",
       "      <td>364</td>\n",
       "      <td>364</td>\n",
       "      <td>364</td>\n",
       "      <td>364</td>\n",
       "      <td>365</td>\n",
       "      <td>365</td>\n",
       "      <td>364</td>\n",
       "      <td>365</td>\n",
       "      <td>364</td>\n",
       "      <td>364</td>\n",
       "    </tr>\n",
       "    <tr>\n",
       "      <th>904</th>\n",
       "      <td>AA</td>\n",
       "      <td>1357</td>\n",
       "      <td>SJU</td>\n",
       "      <td>365</td>\n",
       "      <td>365</td>\n",
       "      <td>365</td>\n",
       "      <td>365</td>\n",
       "      <td>364</td>\n",
       "      <td>364</td>\n",
       "      <td>364</td>\n",
       "      <td>363</td>\n",
       "      <td>364</td>\n",
       "      <td>365</td>\n",
       "      <td>363</td>\n",
       "      <td>365</td>\n",
       "      <td>364</td>\n",
       "      <td>364</td>\n",
       "    </tr>\n",
       "    <tr>\n",
       "      <th>10613</th>\n",
       "      <td>VX</td>\n",
       "      <td>413</td>\n",
       "      <td>LAX</td>\n",
       "      <td>365</td>\n",
       "      <td>365</td>\n",
       "      <td>365</td>\n",
       "      <td>365</td>\n",
       "      <td>362</td>\n",
       "      <td>362</td>\n",
       "      <td>362</td>\n",
       "      <td>360</td>\n",
       "      <td>365</td>\n",
       "      <td>365</td>\n",
       "      <td>360</td>\n",
       "      <td>365</td>\n",
       "      <td>362</td>\n",
       "      <td>362</td>\n",
       "    </tr>\n",
       "    <tr>\n",
       "      <th>1118</th>\n",
       "      <td>B6</td>\n",
       "      <td>219</td>\n",
       "      <td>CLT</td>\n",
       "      <td>365</td>\n",
       "      <td>365</td>\n",
       "      <td>365</td>\n",
       "      <td>365</td>\n",
       "      <td>363</td>\n",
       "      <td>363</td>\n",
       "      <td>363</td>\n",
       "      <td>363</td>\n",
       "      <td>365</td>\n",
       "      <td>365</td>\n",
       "      <td>363</td>\n",
       "      <td>365</td>\n",
       "      <td>363</td>\n",
       "      <td>363</td>\n",
       "    </tr>\n",
       "    <tr>\n",
       "      <th>5116</th>\n",
       "      <td>UA</td>\n",
       "      <td>15</td>\n",
       "      <td>HNL</td>\n",
       "      <td>365</td>\n",
       "      <td>365</td>\n",
       "      <td>365</td>\n",
       "      <td>365</td>\n",
       "      <td>363</td>\n",
       "      <td>363</td>\n",
       "      <td>363</td>\n",
       "      <td>359</td>\n",
       "      <td>363</td>\n",
       "      <td>365</td>\n",
       "      <td>359</td>\n",
       "      <td>365</td>\n",
       "      <td>363</td>\n",
       "      <td>363</td>\n",
       "    </tr>\n",
       "    <tr>\n",
       "      <th>1147</th>\n",
       "      <td>B6</td>\n",
       "      <td>359</td>\n",
       "      <td>BUR</td>\n",
       "      <td>365</td>\n",
       "      <td>365</td>\n",
       "      <td>365</td>\n",
       "      <td>365</td>\n",
       "      <td>364</td>\n",
       "      <td>364</td>\n",
       "      <td>364</td>\n",
       "      <td>364</td>\n",
       "      <td>365</td>\n",
       "      <td>365</td>\n",
       "      <td>364</td>\n",
       "      <td>365</td>\n",
       "      <td>364</td>\n",
       "      <td>364</td>\n",
       "    </tr>\n",
       "    <tr>\n",
       "      <th>1150</th>\n",
       "      <td>B6</td>\n",
       "      <td>371</td>\n",
       "      <td>FLL</td>\n",
       "      <td>365</td>\n",
       "      <td>365</td>\n",
       "      <td>365</td>\n",
       "      <td>365</td>\n",
       "      <td>359</td>\n",
       "      <td>359</td>\n",
       "      <td>359</td>\n",
       "      <td>359</td>\n",
       "      <td>365</td>\n",
       "      <td>365</td>\n",
       "      <td>359</td>\n",
       "      <td>365</td>\n",
       "      <td>359</td>\n",
       "      <td>359</td>\n",
       "    </tr>\n",
       "    <tr>\n",
       "      <th>1169</th>\n",
       "      <td>B6</td>\n",
       "      <td>431</td>\n",
       "      <td>SRQ</td>\n",
       "      <td>365</td>\n",
       "      <td>365</td>\n",
       "      <td>365</td>\n",
       "      <td>365</td>\n",
       "      <td>362</td>\n",
       "      <td>362</td>\n",
       "      <td>362</td>\n",
       "      <td>361</td>\n",
       "      <td>365</td>\n",
       "      <td>365</td>\n",
       "      <td>361</td>\n",
       "      <td>365</td>\n",
       "      <td>362</td>\n",
       "      <td>362</td>\n",
       "    </tr>\n",
       "    <tr>\n",
       "      <th>783</th>\n",
       "      <td>AA</td>\n",
       "      <td>181</td>\n",
       "      <td>LAX</td>\n",
       "      <td>365</td>\n",
       "      <td>365</td>\n",
       "      <td>365</td>\n",
       "      <td>365</td>\n",
       "      <td>363</td>\n",
       "      <td>363</td>\n",
       "      <td>363</td>\n",
       "      <td>362</td>\n",
       "      <td>365</td>\n",
       "      <td>365</td>\n",
       "      <td>362</td>\n",
       "      <td>365</td>\n",
       "      <td>363</td>\n",
       "      <td>363</td>\n",
       "    </tr>\n",
       "    <tr>\n",
       "      <th>2012</th>\n",
       "      <td>DL</td>\n",
       "      <td>2159</td>\n",
       "      <td>MCO</td>\n",
       "      <td>365</td>\n",
       "      <td>365</td>\n",
       "      <td>365</td>\n",
       "      <td>365</td>\n",
       "      <td>364</td>\n",
       "      <td>364</td>\n",
       "      <td>364</td>\n",
       "      <td>364</td>\n",
       "      <td>365</td>\n",
       "      <td>365</td>\n",
       "      <td>364</td>\n",
       "      <td>365</td>\n",
       "      <td>364</td>\n",
       "      <td>364</td>\n",
       "    </tr>\n",
       "    <tr>\n",
       "      <th>775</th>\n",
       "      <td>AA</td>\n",
       "      <td>119</td>\n",
       "      <td>LAX</td>\n",
       "      <td>365</td>\n",
       "      <td>365</td>\n",
       "      <td>365</td>\n",
       "      <td>365</td>\n",
       "      <td>361</td>\n",
       "      <td>361</td>\n",
       "      <td>361</td>\n",
       "      <td>359</td>\n",
       "      <td>364</td>\n",
       "      <td>365</td>\n",
       "      <td>359</td>\n",
       "      <td>365</td>\n",
       "      <td>361</td>\n",
       "      <td>361</td>\n",
       "    </tr>\n",
       "    <tr>\n",
       "      <th>10609</th>\n",
       "      <td>VX</td>\n",
       "      <td>407</td>\n",
       "      <td>LAX</td>\n",
       "      <td>365</td>\n",
       "      <td>365</td>\n",
       "      <td>365</td>\n",
       "      <td>365</td>\n",
       "      <td>364</td>\n",
       "      <td>364</td>\n",
       "      <td>363</td>\n",
       "      <td>363</td>\n",
       "      <td>365</td>\n",
       "      <td>365</td>\n",
       "      <td>363</td>\n",
       "      <td>365</td>\n",
       "      <td>364</td>\n",
       "      <td>364</td>\n",
       "    </tr>\n",
       "    <tr>\n",
       "      <th>4631</th>\n",
       "      <td>EV</td>\n",
       "      <td>5712</td>\n",
       "      <td>IAD</td>\n",
       "      <td>365</td>\n",
       "      <td>365</td>\n",
       "      <td>365</td>\n",
       "      <td>365</td>\n",
       "      <td>351</td>\n",
       "      <td>351</td>\n",
       "      <td>351</td>\n",
       "      <td>351</td>\n",
       "      <td>365</td>\n",
       "      <td>365</td>\n",
       "      <td>351</td>\n",
       "      <td>365</td>\n",
       "      <td>351</td>\n",
       "      <td>351</td>\n",
       "    </tr>\n",
       "    <tr>\n",
       "      <th>10607</th>\n",
       "      <td>VX</td>\n",
       "      <td>251</td>\n",
       "      <td>LAS</td>\n",
       "      <td>365</td>\n",
       "      <td>365</td>\n",
       "      <td>365</td>\n",
       "      <td>365</td>\n",
       "      <td>364</td>\n",
       "      <td>364</td>\n",
       "      <td>364</td>\n",
       "      <td>364</td>\n",
       "      <td>365</td>\n",
       "      <td>365</td>\n",
       "      <td>364</td>\n",
       "      <td>365</td>\n",
       "      <td>364</td>\n",
       "      <td>364</td>\n",
       "    </tr>\n",
       "    <tr>\n",
       "      <th>767</th>\n",
       "      <td>AA</td>\n",
       "      <td>59</td>\n",
       "      <td>SFO</td>\n",
       "      <td>365</td>\n",
       "      <td>365</td>\n",
       "      <td>365</td>\n",
       "      <td>365</td>\n",
       "      <td>359</td>\n",
       "      <td>359</td>\n",
       "      <td>359</td>\n",
       "      <td>359</td>\n",
       "      <td>363</td>\n",
       "      <td>365</td>\n",
       "      <td>359</td>\n",
       "      <td>365</td>\n",
       "      <td>359</td>\n",
       "      <td>359</td>\n",
       "    </tr>\n",
       "    <tr>\n",
       "      <th>1379</th>\n",
       "      <td>B6</td>\n",
       "      <td>1783</td>\n",
       "      <td>MCO</td>\n",
       "      <td>365</td>\n",
       "      <td>365</td>\n",
       "      <td>365</td>\n",
       "      <td>365</td>\n",
       "      <td>365</td>\n",
       "      <td>365</td>\n",
       "      <td>365</td>\n",
       "      <td>365</td>\n",
       "      <td>365</td>\n",
       "      <td>365</td>\n",
       "      <td>365</td>\n",
       "      <td>365</td>\n",
       "      <td>365</td>\n",
       "      <td>365</td>\n",
       "    </tr>\n",
       "    <tr>\n",
       "      <th>2081</th>\n",
       "      <td>DL</td>\n",
       "      <td>2391</td>\n",
       "      <td>TPA</td>\n",
       "      <td>365</td>\n",
       "      <td>365</td>\n",
       "      <td>365</td>\n",
       "      <td>365</td>\n",
       "      <td>360</td>\n",
       "      <td>360</td>\n",
       "      <td>360</td>\n",
       "      <td>359</td>\n",
       "      <td>365</td>\n",
       "      <td>365</td>\n",
       "      <td>359</td>\n",
       "      <td>365</td>\n",
       "      <td>360</td>\n",
       "      <td>360</td>\n",
       "    </tr>\n",
       "  </tbody>\n",
       "</table>\n",
       "</div>"
      ],
      "text/plain": [
       "      carrier  flight dest  Unnamed: 0  year  month  day  dep_time  dep_delay  \\\n",
       "914        AA    1611  MIA         365   365    365  365       360        360   \n",
       "1243       B6     703  SJU         365   365    365  365       364        364   \n",
       "904        AA    1357  SJU         365   365    365  365       364        364   \n",
       "10613      VX     413  LAX         365   365    365  365       362        362   \n",
       "1118       B6     219  CLT         365   365    365  365       363        363   \n",
       "5116       UA      15  HNL         365   365    365  365       363        363   \n",
       "1147       B6     359  BUR         365   365    365  365       364        364   \n",
       "1150       B6     371  FLL         365   365    365  365       359        359   \n",
       "1169       B6     431  SRQ         365   365    365  365       362        362   \n",
       "783        AA     181  LAX         365   365    365  365       363        363   \n",
       "2012       DL    2159  MCO         365   365    365  365       364        364   \n",
       "775        AA     119  LAX         365   365    365  365       361        361   \n",
       "10609      VX     407  LAX         365   365    365  365       364        364   \n",
       "4631       EV    5712  IAD         365   365    365  365       351        351   \n",
       "10607      VX     251  LAS         365   365    365  365       364        364   \n",
       "767        AA      59  SFO         365   365    365  365       359        359   \n",
       "1379       B6    1783  MCO         365   365    365  365       365        365   \n",
       "2081       DL    2391  TPA         365   365    365  365       360        360   \n",
       "\n",
       "       arr_time  arr_delay  tailnum  origin  air_time  distance  hour  minute  \n",
       "914         360        360      364     365       360       365   360     360  \n",
       "1243        364        364      365     365       364       365   364     364  \n",
       "904         364        363      364     365       363       365   364     364  \n",
       "10613       362        360      365     365       360       365   362     362  \n",
       "1118        363        363      365     365       363       365   363     363  \n",
       "5116        363        359      363     365       359       365   363     363  \n",
       "1147        364        364      365     365       364       365   364     364  \n",
       "1150        359        359      365     365       359       365   359     359  \n",
       "1169        362        361      365     365       361       365   362     362  \n",
       "783         363        362      365     365       362       365   363     363  \n",
       "2012        364        364      365     365       364       365   364     364  \n",
       "775         361        359      364     365       359       365   361     361  \n",
       "10609       363        363      365     365       363       365   364     364  \n",
       "4631        351        351      365     365       351       365   351     351  \n",
       "10607       364        364      365     365       364       365   364     364  \n",
       "767         359        359      363     365       359       365   359     359  \n",
       "1379        365        365      365     365       365       365   365     365  \n",
       "2081        360        359      365     365       359       365   360     360  "
      ]
     },
     "execution_count": 74,
     "metadata": {},
     "output_type": "execute_result"
    }
   ],
   "source": [
    "a = flights_df.groupby(['carrier','flight','dest'],as_index=False).count()\n",
    "\n",
    "a = a.sort_values('Unnamed: 0', ascending = False)\n",
    "#Here we are assuming that there is only one flight per day from New York City to that particular destination\n",
    "a = a[(a.day == 365)]\n",
    "a"
   ]
  },
  {
   "cell_type": "code",
   "execution_count": 145,
   "metadata": {},
   "outputs": [
    {
     "data": {
      "text/html": [
       "<div>\n",
       "<style scoped>\n",
       "    .dataframe tbody tr th:only-of-type {\n",
       "        vertical-align: middle;\n",
       "    }\n",
       "\n",
       "    .dataframe tbody tr th {\n",
       "        vertical-align: top;\n",
       "    }\n",
       "\n",
       "    .dataframe thead th {\n",
       "        text-align: right;\n",
       "    }\n",
       "</style>\n",
       "<table border=\"1\" class=\"dataframe\">\n",
       "  <thead>\n",
       "    <tr style=\"text-align: right;\">\n",
       "      <th></th>\n",
       "      <th>carrier</th>\n",
       "      <th>flight</th>\n",
       "      <th>dest</th>\n",
       "      <th>month</th>\n",
       "      <th>day</th>\n",
       "      <th>Unnamed: 0</th>\n",
       "      <th>year</th>\n",
       "      <th>dep_time</th>\n",
       "      <th>dep_delay</th>\n",
       "      <th>arr_time</th>\n",
       "      <th>arr_delay</th>\n",
       "      <th>tailnum</th>\n",
       "      <th>origin</th>\n",
       "      <th>air_time</th>\n",
       "      <th>distance</th>\n",
       "      <th>hour</th>\n",
       "      <th>minute</th>\n",
       "    </tr>\n",
       "  </thead>\n",
       "  <tbody>\n",
       "  </tbody>\n",
       "</table>\n",
       "</div>"
      ],
      "text/plain": [
       "Empty DataFrame\n",
       "Columns: [carrier, flight, dest, month, day, Unnamed: 0, year, dep_time, dep_delay, arr_time, arr_delay, tailnum, origin, air_time, distance, hour, minute]\n",
       "Index: []"
      ]
     },
     "execution_count": 145,
     "metadata": {},
     "output_type": "execute_result"
    }
   ],
   "source": [
    "#To clear that assumption, we look at the following grouped table\n",
    "\n",
    "a = flights_df.groupby(['carrier','flight','dest','month','day'],as_index=False).count()\n",
    "a[a['Unnamed: 0']>1]"
   ]
  },
  {
   "cell_type": "markdown",
   "metadata": {
    "ein.tags": "worksheet-0",
    "slideshow": {
     "slide_type": "-"
    }
   },
   "source": [
    "Above, you can see 18 flights running regularly. And also there is no flight which is flying twice or more on the same day. Hence, we can void our assumption"
   ]
  },
  {
   "cell_type": "markdown",
   "metadata": {
    "ein.tags": "worksheet-0",
    "slideshow": {
     "slide_type": "-"
    }
   },
   "source": [
    "## Question 5\n",
    "Develop one research question you can address using the nycflights2013 dataset. Provide two visualizations to support your exploration of this question. Discuss what you find.\n"
   ]
  },
  {
   "cell_type": "markdown",
   "metadata": {},
   "source": [
    "### Which airlines should time-sensitive customers prefer while flying from New York to Seattle?\n",
    "\n",
    "With this question we want to see which airlines should be prefereable for a time-sensitive customer from New York to Seattle. Hence, we will look at departure and arrival delays, average speed of each airline and also the number of flights for that airline in order to make a conclusion"
   ]
  },
  {
   "cell_type": "code",
   "execution_count": 92,
   "metadata": {
    "autoscroll": false,
    "ein.tags": "worksheet-0",
    "slideshow": {
     "slide_type": "-"
    }
   },
   "outputs": [
    {
     "data": {
      "image/png": "[encoded data removed]",
      "text/plain": [
       "<Figure size 432x288 with 1 Axes>"
      ]
     },
     "metadata": {},
     "output_type": "display_data"
    }
   ],
   "source": [
    "#Average Departure Delay grouped by airlines\n",
    "avg_dep_delay = nyctosea.groupby(['carrier'])['dep_delay'].mean()\n",
    "avg_dep_delay.plot(kind='bar', x='origin',y='dep_delay',title='Average Departure Delay at from NYC airports to Seattle')\n",
    "plt.show()"
   ]
  },
  {
   "cell_type": "code",
   "execution_count": 162,
   "metadata": {},
   "outputs": [
    {
     "data": {
      "image/png": "[encoded data removed]",
      "text/plain": [
       "<Figure size 432x288 with 1 Axes>"
      ]
     },
     "metadata": {},
     "output_type": "display_data"
    }
   ],
   "source": [
    "#Average Arrival Delay grouped by airlines\n",
    "avg_dep_delay = nyctosea.groupby(['carrier'])['arr_delay'].mean()\n",
    "avg_dep_delay.plot(kind='bar', x='origin',y='arr_delay',title='Average Arrival Delay at from NYC airports to Seattle')\n",
    "plt.show()"
   ]
  },
  {
   "cell_type": "markdown",
   "metadata": {},
   "source": [
    "Here, we can see that Alaska Airlines has the lowest arrival delay amongst all the airlines flying from NYC to Seattle."
   ]
  },
  {
   "cell_type": "code",
   "execution_count": 93,
   "metadata": {
    "scrolled": false
   },
   "outputs": [
    {
     "name": "stderr",
     "output_type": "stream",
     "text": [
      "c:\\users\\iguest\\appdata\\local\\programs\\python\\python36\\lib\\site-packages\\ipykernel_launcher.py:1: SettingWithCopyWarning: \n",
      "A value is trying to be set on a copy of a slice from a DataFrame.\n",
      "Try using .loc[row_indexer,col_indexer] = value instead\n",
      "\n",
      "See the caveats in the documentation: http://pandas.pydata.org/pandas-docs/stable/indexing.html#indexing-view-versus-copy\n",
      "  \"\"\"Entry point for launching an IPython kernel.\n"
     ]
    },
    {
     "data": {
      "image/png": "[encoded data removed]",
      "text/plain": [
       "<Figure size 432x288 with 1 Axes>"
      ]
     },
     "metadata": {},
     "output_type": "display_data"
    }
   ],
   "source": [
    "nyctosea['speed_mph'] = nyctosea['distance']/(nyctosea['air_time']/60)\n",
    "avg_speed = nyctosea.groupby(['carrier'])['speed_mph'].mean()\n",
    "plt.plot(avg_speed)\n",
    "\n",
    "plt.grid(axis='y', linestyle='-')\n",
    "\n",
    "plt.show()"
   ]
  },
  {
   "cell_type": "markdown",
   "metadata": {},
   "source": [
    "Here, we can see that Alaska Airlines has the second highest speed amongst all airlines."
   ]
  },
  {
   "cell_type": "code",
   "execution_count": 97,
   "metadata": {},
   "outputs": [
    {
     "data": {
      "text/plain": [
       "carrier\n",
       "AA     365\n",
       "AS     714\n",
       "B6     514\n",
       "DL    1213\n",
       "UA    1117\n",
       "Name: flight, dtype: int64"
      ]
     },
     "execution_count": 97,
     "metadata": {},
     "output_type": "execute_result"
    }
   ],
   "source": [
    "noofflights = nyctosea.groupby(['carrier'])['flight'].count()\n",
    "noofflights"
   ]
  },
  {
   "cell_type": "markdown",
   "metadata": {},
   "source": [
    "From the above results it looks apparent that Alaska has the lowest delays and one of the fastest speeds. But if we factor in the number of flights from NYC to SEA we can see that Delta has almost 80% more flights than Alaska airlines and at the same time also has the second lowest delays and the highest speed. Hence, if we factor in the number of flights, Delta and Alaska are performing on a similar level."
   ]
  },
  {
   "cell_type": "markdown",
   "metadata": {},
   "source": [
    "From the above results we conclude that a time-sensitive passenger should choose between Delta and Alaska Airlines while flying from NYC to Seattle."
   ]
  },
  {
   "cell_type": "markdown",
   "metadata": {
    "ein.tags": "worksheet-0",
    "slideshow": {
     "slide_type": "-"
    }
   },
   "source": [
    "## Question 6\n",
    "What weather conditions are associated with flight delays leaving NYC? Use graphics to explore."
   ]
  },
  {
   "cell_type": "code",
   "execution_count": 148,
   "metadata": {
    "autoscroll": false,
    "ein.tags": "worksheet-0",
    "slideshow": {
     "slide_type": "-"
    }
   },
   "outputs": [],
   "source": [
    "#Merge both dataframes\n",
    "weatherconditions = pd.merge(flights_df[['year','month','day','dep_delay','hour']], weather_df[['temp','dewp','humid','wind_dir','wind_speed','wind_gust','precip','visib']],  how='left', left_on=[flights_df.origin,flights_df.month, flights_df.day,flights_df.hour], right_on=[weather_df.origin,weather_df.month, weather_df.day,weather_df.hour])"
   ]
  },
  {
   "cell_type": "code",
   "execution_count": 160,
   "metadata": {},
   "outputs": [
    {
     "data": {
      "image/png": "[encoded data removed]",
      "text/plain": [
       "<Figure size 432x288 with 1 Axes>"
      ]
     },
     "metadata": {},
     "output_type": "display_data"
    }
   ],
   "source": [
    "#Plot temperature vs departure delay\n",
    "temp = weatherconditions.groupby(['temp'])['dep_delay'].mean()\n",
    "plt.plot(temp)\n",
    "plt.title('Temperature vs Avg Departure Delay')\n",
    "plt.show()"
   ]
  },
  {
   "cell_type": "code",
   "execution_count": 159,
   "metadata": {},
   "outputs": [
    {
     "data": {
      "image/png": "[encoded data removed]",
      "text/plain": [
       "<Figure size 432x288 with 1 Axes>"
      ]
     },
     "metadata": {},
     "output_type": "display_data"
    }
   ],
   "source": [
    "#Plot humidity vs departure delay\n",
    "temp = weatherconditions.groupby(['humid'])['dep_delay'].mean()\n",
    "plt.plot(temp)\n",
    "plt.title('Humidity vs Avg Departure Delay')\n",
    "plt.show()"
   ]
  },
  {
   "cell_type": "code",
   "execution_count": 161,
   "metadata": {},
   "outputs": [
    {
     "data": {
      "image/png": "[encoded data removed]",
      "text/plain": [
       "<Figure size 432x288 with 1 Axes>"
      ]
     },
     "metadata": {},
     "output_type": "display_data"
    }
   ],
   "source": [
    "#Plot visibility vs departure delay\n",
    "temp = weatherconditions.groupby(['visib'])['dep_delay'].mean()\n",
    "plt.plot(temp)\n",
    "plt.title('Visibility vs Avg Departure Delay')\n",
    "plt.show()"
   ]
  },
  {
   "cell_type": "markdown",
   "metadata": {
    "ein.tags": "worksheet-0",
    "slideshow": {
     "slide_type": "-"
    }
   },
   "source": [
    "We can see that lower visibility plays a role in increasing delays as well as higher temperature has an effect on departure delay.\n",
    "\n",
    "Humidity does not seem to have a greater effect on delays since the distribution seems to be uniform across the range of values.\n",
    "\n"
   ]
  }
 ],
 "metadata": {
  "kernelspec": {
   "display_name": "Python 3",
   "language": "python",
   "name": "python3"
  },
  "language_info": {
   "codemirror_mode": {
    "name": "ipython",
    "version": 3
   },
   "file_extension": ".py",
   "mimetype": "text/x-python",
   "name": "python",
   "nbconvert_exporter": "python",
   "pygments_lexer": "ipython3",
   "version": "3.6.4"
  },
  "name": "ps1_pandas.ipynb"
 },
 "nbformat": 4,
 "nbformat_minor": 2
}
