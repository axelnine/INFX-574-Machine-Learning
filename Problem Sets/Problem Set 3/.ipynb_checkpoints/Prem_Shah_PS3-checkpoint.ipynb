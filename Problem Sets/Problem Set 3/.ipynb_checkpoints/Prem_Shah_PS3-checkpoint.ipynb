{
 "cells": [
  {
   "cell_type": "markdown",
   "metadata": {
    "ein.tags": "worksheet-0",
    "slideshow": {
     "slide_type": "-"
    }
   },
   "source": [
    "# Problem Set 3, due Wednesday, May 3rd, 5:30pm."
   ]
  },
  {
   "cell_type": "code",
   "execution_count": 2,
   "metadata": {},
   "outputs": [],
   "source": [
    "import pandas as pd\n",
    "from collections import OrderedDict\n",
    "from scipy.stats import ttest_ind\n",
    "import matplotlib.pyplot as plt\n",
    "import numpy as np\n",
    "import statsmodels.formula.api as smf"
   ]
  },
  {
   "cell_type": "markdown",
   "metadata": {
    "ein.tags": "worksheet-0",
    "slideshow": {
     "slide_type": "-"
    }
   },
   "source": [
    "## Introduction to the assignment\n",
    "\n",
    "For this assignment, you will be using data from the [Progresa\n",
    "program](http://en.wikipedia.org/wiki/Oportunidades), a government\n",
    "social assistance program in Mexico. This program, as well as the\n",
    "details of its impact, are described in the paper \"[School subsidies\n",
    "for the poor: evaluating the Mexican Progresa poverty\n",
    "program](http://www.sciencedirect.com/science/article/pii/S0304387803001858)\",\n",
    "by Paul Shultz (available on Canvas).  The data\n",
    "(progresa_sample.csv.gz) is available on canvas\n",
    "in files/data.\n",
    "\n",
    "Please read the paper to familiarize yourself with\n",
    "the PROGRESA program before beginning this problem set, so you have a\n",
    "rough sense of where the data come from and how they were\n",
    "generated. If you just proceed into the problem set without\n",
    "understanding Progresa or the data, it will be very difficult!\n",
    "\n",
    "The goal of this problem set is to implement some of the basic\n",
    "econometric techniques that you are learning in class to measure the\n",
    "impact of Progresa on secondary school enrollment rates, in particular\n",
    "differences-in-differences.  Your task is to **estimate the impact of\n",
    "_progresa_ subsidies on the school attendance**.  Note: this asks to\n",
    "estimate a causal effect.\n",
    "\n",
    "The timeline of the program was:\n",
    "\n",
    " * Baseline survey conducted in 1997\n",
    " * Intervention begins in 1998, \"Wave 1\" of data collected in 1998\n",
    " * \"Wave 2 of data\" collected in 1999\n",
    " * Evaluation ends in 2000, at which point the control villages were treated. \n",
    " \n",
    "When you are ready, download the progresa_sample.csv data from\n",
    "Canvas. The data are actual data collected to evaluate the impact of\n",
    "the Progresa program.  In this file, each row corresponds to an\n",
    "observation taken for a given child for a given year. There are two\n",
    "years of data (1997 and 1998), and just under 40,000 children who are\n",
    "surveyed in both years.  For each child-year observation, the\n",
    "following variables are collected:\n",
    "\n",
    "| Variable name | Description|\n",
    "|------|------|\n",
    "|year\t  |year in which data is collected\n",
    "|sex\t  |male = 1|\n",
    "|indig\t  |indigenous = 1|\n",
    "|dist_sec |nearest distance to a secondary school|\n",
    "|sc\t      |enrolled in school in year of survey (=1)|\n",
    "|grc      |grade enrolled|\n",
    "|fam_n    |family size|\n",
    "|min_dist |\tmin distance to an urban center|\n",
    "|dist_cap |\tmin distance to the capital|\n",
    "|poor     |\tpoor = \"pobre\", not poor = \"no pobre\"|\n",
    "|progresa |treatment = \"basal\", control = \"0\"|\n",
    "|hohedu\t  |years of schooling of head of household|\n",
    "|hohwag\t  |monthly wages of head of household|\n",
    "|welfare_index|\twelfare index used to classify poor|\n",
    "|hohsex\t|gender of head of household (male=1)|\n",
    "|hohage\t|age of head of household|\n",
    "|age\t|years old|\n",
    "|folnum\t|individual id|\n",
    "|village|\tvillage id|\n",
    "|sc97\t|enrolled in school in 1997 (=1) |"
   ]
  },
  {
   "cell_type": "markdown",
   "metadata": {
    "ein.tags": "worksheet-0",
    "slideshow": {
     "slide_type": "-"
    }
   },
   "source": [
    "## Part 1: Descriptive analysis\n",
    "\n",
    "### 1.1\tSummary Statistics\n",
    "\n",
    "Report summary statistics (mean, standard deviation, and number of missings) for all of\n",
    "the demographic variables in the dataset (i.e., everything except\n",
    "year, folnum, village).  Present the actual levels for 'progresa' and\n",
    "'poor'.  Do these fit with the documentation above?\n",
    "\n",
    "Present these in a single table alphabetized\n",
    "by variable name. Do NOT simply expect the grader to scroll through\n",
    "your output!"
   ]
  },
  {
   "cell_type": "code",
   "execution_count": 4,
   "metadata": {
    "autoscroll": false,
    "ein.tags": "worksheet-0",
    "slideshow": {
     "slide_type": "-"
    }
   },
   "outputs": [],
   "source": [
    "#Read data and segregate according to treatment/control group\n",
    "data = pd.read_csv(\"progresa_sample.csv\")\n",
    "\n",
    "#Print the number of null values in each column\n",
    "missing_values = pd.isnull(data).sum(axis=0)\n",
    "\n",
    "#Removing variables not needed for missing values\n",
    "idx1 = pd.Index(['year','folnum','village','poor','progresa'])\n",
    "index = missing_values.index.difference(idx1)\n",
    "missing_values = missing_values[index]"
   ]
  },
  {
   "cell_type": "code",
   "execution_count": 5,
   "metadata": {},
   "outputs": [],
   "source": [
    "#Calculate summary statistics of the data\n",
    "summary = data.describe()\n",
    "idx2 = pd.Index(['year','folnum','village'])\n",
    "\n",
    "#Remove variables not needed in summary statistics\n",
    "columns = summary.columns.difference(idx2)\n",
    "summary = summary[columns].T"
   ]
  },
  {
   "cell_type": "code",
   "execution_count": 6,
   "metadata": {},
   "outputs": [],
   "source": [
    "#Extract mean and standard deviation\n",
    "mean = summary['mean']\n",
    "std = summary['std']"
   ]
  },
  {
   "cell_type": "code",
   "execution_count": 7,
   "metadata": {},
   "outputs": [
    {
     "data": {
      "text/html": [
       "<div>\n",
       "<style scoped>\n",
       "    .dataframe tbody tr th:only-of-type {\n",
       "        vertical-align: middle;\n",
       "    }\n",
       "\n",
       "    .dataframe tbody tr th {\n",
       "        vertical-align: top;\n",
       "    }\n",
       "\n",
       "    .dataframe thead th {\n",
       "        text-align: right;\n",
       "    }\n",
       "</style>\n",
       "<table border=\"1\" class=\"dataframe\">\n",
       "  <thead>\n",
       "    <tr style=\"text-align: right;\">\n",
       "      <th></th>\n",
       "      <th>mean</th>\n",
       "      <th>std</th>\n",
       "      <th>0</th>\n",
       "    </tr>\n",
       "  </thead>\n",
       "  <tbody>\n",
       "    <tr>\n",
       "      <th>age</th>\n",
       "      <td>11.366460</td>\n",
       "      <td>3.167744</td>\n",
       "      <td>0</td>\n",
       "    </tr>\n",
       "    <tr>\n",
       "      <th>dist_cap</th>\n",
       "      <td>147.674452</td>\n",
       "      <td>76.063134</td>\n",
       "      <td>0</td>\n",
       "    </tr>\n",
       "    <tr>\n",
       "      <th>dist_sec</th>\n",
       "      <td>2.418910</td>\n",
       "      <td>2.234109</td>\n",
       "      <td>0</td>\n",
       "    </tr>\n",
       "    <tr>\n",
       "      <th>fam_n</th>\n",
       "      <td>7.215715</td>\n",
       "      <td>2.352900</td>\n",
       "      <td>0</td>\n",
       "    </tr>\n",
       "    <tr>\n",
       "      <th>grc</th>\n",
       "      <td>3.963537</td>\n",
       "      <td>2.499063</td>\n",
       "      <td>6549</td>\n",
       "    </tr>\n",
       "    <tr>\n",
       "      <th>grc97</th>\n",
       "      <td>3.705372</td>\n",
       "      <td>2.572387</td>\n",
       "      <td>0</td>\n",
       "    </tr>\n",
       "    <tr>\n",
       "      <th>hohage</th>\n",
       "      <td>44.436717</td>\n",
       "      <td>11.620372</td>\n",
       "      <td>10</td>\n",
       "    </tr>\n",
       "    <tr>\n",
       "      <th>hohedu</th>\n",
       "      <td>2.768104</td>\n",
       "      <td>2.656106</td>\n",
       "      <td>0</td>\n",
       "    </tr>\n",
       "    <tr>\n",
       "      <th>hohsex</th>\n",
       "      <td>0.925185</td>\n",
       "      <td>0.263095</td>\n",
       "      <td>20</td>\n",
       "    </tr>\n",
       "    <tr>\n",
       "      <th>hohwag</th>\n",
       "      <td>586.985312</td>\n",
       "      <td>788.133664</td>\n",
       "      <td>0</td>\n",
       "    </tr>\n",
       "    <tr>\n",
       "      <th>indig</th>\n",
       "      <td>0.298324</td>\n",
       "      <td>0.457525</td>\n",
       "      <td>300</td>\n",
       "    </tr>\n",
       "    <tr>\n",
       "      <th>min_dist</th>\n",
       "      <td>103.447520</td>\n",
       "      <td>42.089441</td>\n",
       "      <td>0</td>\n",
       "    </tr>\n",
       "    <tr>\n",
       "      <th>sc</th>\n",
       "      <td>0.819818</td>\n",
       "      <td>0.384342</td>\n",
       "      <td>8453</td>\n",
       "    </tr>\n",
       "    <tr>\n",
       "      <th>sc97</th>\n",
       "      <td>0.813922</td>\n",
       "      <td>0.389172</td>\n",
       "      <td>3872</td>\n",
       "    </tr>\n",
       "    <tr>\n",
       "      <th>sex</th>\n",
       "      <td>0.512211</td>\n",
       "      <td>0.499854</td>\n",
       "      <td>24</td>\n",
       "    </tr>\n",
       "    <tr>\n",
       "      <th>welfare_index</th>\n",
       "      <td>690.346564</td>\n",
       "      <td>139.491130</td>\n",
       "      <td>210</td>\n",
       "    </tr>\n",
       "  </tbody>\n",
       "</table>\n",
       "</div>"
      ],
      "text/plain": [
       "                     mean         std     0\n",
       "age             11.366460    3.167744     0\n",
       "dist_cap       147.674452   76.063134     0\n",
       "dist_sec         2.418910    2.234109     0\n",
       "fam_n            7.215715    2.352900     0\n",
       "grc              3.963537    2.499063  6549\n",
       "grc97            3.705372    2.572387     0\n",
       "hohage          44.436717   11.620372    10\n",
       "hohedu           2.768104    2.656106     0\n",
       "hohsex           0.925185    0.263095    20\n",
       "hohwag         586.985312  788.133664     0\n",
       "indig            0.298324    0.457525   300\n",
       "min_dist       103.447520   42.089441     0\n",
       "sc               0.819818    0.384342  8453\n",
       "sc97             0.813922    0.389172  3872\n",
       "sex              0.512211    0.499854    24\n",
       "welfare_index  690.346564  139.491130   210"
      ]
     },
     "execution_count": 7,
     "metadata": {},
     "output_type": "execute_result"
    }
   ],
   "source": [
    "#Print the summary statistics\n",
    "summary_mean_std = pd.concat([mean,std,missing_values],axis=1)\n",
    "\n",
    "summary_mean_std"
   ]
  },
  {
   "cell_type": "code",
   "execution_count": 179,
   "metadata": {},
   "outputs": [
    {
     "data": {
      "text/plain": [
       "array(['0', 'basal'], dtype=object)"
      ]
     },
     "execution_count": 179,
     "metadata": {},
     "output_type": "execute_result"
    }
   ],
   "source": [
    "data.progresa.unique()"
   ]
  },
  {
   "cell_type": "markdown",
   "metadata": {},
   "source": [
    "Here, we can see that the progresa variable has two unique values: 0 & basal where basal stands for the treated rows and 0 for the control rows."
   ]
  },
  {
   "cell_type": "markdown",
   "metadata": {
    "ein.tags": "worksheet-0",
    "slideshow": {
     "slide_type": "-"
    }
   },
   "source": [
    "### 1.2 Differences at baseline?\n",
    "Now let's investigate the differences in baseline.  Are the baseline (1997) demographic characteristics **for the poor**\n",
    "different in treatment and control villages?\n",
    "\n",
    "I suggest you to use a T-Test to\n",
    "determine whether there is a statistically significant difference in\n",
    "the average values of each of the variables in the dataset. Focus only\n",
    "on the data from 1997 for poor.\n",
    "\n",
    "Present your results in a single table with the following columns and 14 (or so) rows:\n",
    "\n",
    "| Variable name | Average value (Treatment villages) | Average value (Control villages) | Difference (Treat - Control) | p-value |\n",
    "|------|------|------|------|------|\n",
    "|Male|?|?|?|?|\n"
   ]
  },
  {
   "cell_type": "markdown",
   "metadata": {},
   "source": [
    "I choose to drop the null values instead of replacing them with zeros"
   ]
  },
  {
   "cell_type": "code",
   "execution_count": 130,
   "metadata": {},
   "outputs": [],
   "source": [
    "#Drop null values from data.\n",
    "\n",
    "#Divide data into treatment and control\n",
    "treatment_data = data[data.progresa == 'basal']\n",
    "control_data = data[data.progresa == '0']\n",
    "\n",
    "#Get treatment and control data from 1997\n",
    "treatment_data_1997 = treatment_data[treatment_data.year == 97]\n",
    "control_data_1997 = control_data[control_data.year == 97]\n",
    "\n",
    "#Slice the data according to poor in treatment villages\n",
    "treatment_poor = treatment_data[treatment_data.poor == \"pobre\"]\n",
    "\n",
    "#Slice the data according to poor in treatment villages\n",
    "control_poor = control_data[control_data.poor == \"pobre\"]\n",
    "\n",
    "#Poor data from 1997\n",
    "treatment_poor_1997 = treatment_poor[treatment_poor.year == 97].dropna()\n",
    "#Poor data from 1998\n",
    "treatment_poor_1998 = treatment_poor[treatment_poor.year == 98].dropna()\n",
    "\n",
    "#Poor data from 1997\n",
    "control_poor_1997 = control_poor[control_poor.year == 97].dropna()\n",
    "#Poor data from 1998\n",
    "control_poor_1998 = control_poor[control_poor.year == 98].dropna()\n"
   ]
  },
  {
   "cell_type": "code",
   "execution_count": 108,
   "metadata": {
    "autoscroll": false,
    "ein.tags": "worksheet-0",
    "slideshow": {
     "slide_type": "-"
    }
   },
   "outputs": [],
   "source": [
    "#Calcaulate mean for the whole data\n",
    "x = treatment_poor_1997.mean()\n",
    "y = control_poor_1997.mean()\n",
    "\n",
    "#Drop unnecessary variables\n",
    "try:\n",
    "    x = x.drop('year')\n",
    "    x = x.drop('folnum')\n",
    "    x = x.drop('village')\n",
    "    y = y.drop('year')\n",
    "    y = y.drop('folnum')\n",
    "    y = y.drop('village')\n",
    "    y = y.drop('progresa')\n",
    "except:\n",
    "    print('Already dropped')    "
   ]
  },
  {
   "cell_type": "code",
   "execution_count": 109,
   "metadata": {},
   "outputs": [],
   "source": [
    "#Calculate p-values for all the variable means in treatment and control villages\n",
    "p_values = []\n",
    "\n",
    "for i in x.index:    \n",
    "    t,p = ttest_ind(control_poor_1997[i].values,treatment_poor_1997[i].values)\n",
    "    p_values.append(p)\n",
    "\n",
    "#Store p-values in series \n",
    "p_values = pd.Series(p_values)"
   ]
  },
  {
   "cell_type": "code",
   "execution_count": 59,
   "metadata": {},
   "outputs": [],
   "source": [
    "#Convert lists into series\n",
    "variable_name = pd.Series(x.index)\n",
    "treatment_values = pd.Series(x.values)\n",
    "control_values = pd.Series(y.values)"
   ]
  },
  {
   "cell_type": "code",
   "execution_count": 60,
   "metadata": {},
   "outputs": [],
   "source": [
    "#Create dataframe for the same\n",
    "baseline_data = pd.DataFrame(OrderedDict({'Variable':variable_name,\n",
    "                                          'Average value (Treatment villages)':treatment_values,\n",
    "                                          'Average value (Control villages)':control_values\n",
    "                                         })\n",
    "                            )"
   ]
  },
  {
   "cell_type": "code",
   "execution_count": 61,
   "metadata": {},
   "outputs": [],
   "source": [
    "#Calculate difference between means, p-value and store in dataframe\n",
    "baseline_data['Difference'] = baseline_data['Average value (Treatment villages)'] - baseline_data['Average value (Control villages)']\n",
    "baseline_data['p-value'] = p_values"
   ]
  },
  {
   "cell_type": "code",
   "execution_count": 62,
   "metadata": {},
   "outputs": [
    {
     "data": {
      "text/html": [
       "<div>\n",
       "<style scoped>\n",
       "    .dataframe tbody tr th:only-of-type {\n",
       "        vertical-align: middle;\n",
       "    }\n",
       "\n",
       "    .dataframe tbody tr th {\n",
       "        vertical-align: top;\n",
       "    }\n",
       "\n",
       "    .dataframe thead th {\n",
       "        text-align: right;\n",
       "    }\n",
       "</style>\n",
       "<table border=\"1\" class=\"dataframe\">\n",
       "  <thead>\n",
       "    <tr style=\"text-align: right;\">\n",
       "      <th></th>\n",
       "      <th>Variable</th>\n",
       "      <th>Average value (Treatment villages)</th>\n",
       "      <th>Average value (Control villages)</th>\n",
       "      <th>Difference</th>\n",
       "      <th>p-value</th>\n",
       "    </tr>\n",
       "  </thead>\n",
       "  <tbody>\n",
       "    <tr>\n",
       "      <th>0</th>\n",
       "      <td>sex</td>\n",
       "      <td>0.520268</td>\n",
       "      <td>0.506556</td>\n",
       "      <td>0.013713</td>\n",
       "      <td>1.956962e-02</td>\n",
       "    </tr>\n",
       "    <tr>\n",
       "      <th>1</th>\n",
       "      <td>indig</td>\n",
       "      <td>0.316744</td>\n",
       "      <td>0.325306</td>\n",
       "      <td>-0.008562</td>\n",
       "      <td>1.183760e-01</td>\n",
       "    </tr>\n",
       "    <tr>\n",
       "      <th>2</th>\n",
       "      <td>dist_sec</td>\n",
       "      <td>2.399648</td>\n",
       "      <td>2.400687</td>\n",
       "      <td>-0.001039</td>\n",
       "      <td>9.670949e-01</td>\n",
       "    </tr>\n",
       "    <tr>\n",
       "      <th>3</th>\n",
       "      <td>sc</td>\n",
       "      <td>0.822697</td>\n",
       "      <td>0.815066</td>\n",
       "      <td>0.007631</td>\n",
       "      <td>9.117959e-02</td>\n",
       "    </tr>\n",
       "    <tr>\n",
       "      <th>4</th>\n",
       "      <td>grc</td>\n",
       "      <td>3.709214</td>\n",
       "      <td>3.733653</td>\n",
       "      <td>-0.024439</td>\n",
       "      <td>3.947750e-01</td>\n",
       "    </tr>\n",
       "    <tr>\n",
       "      <th>5</th>\n",
       "      <td>fam_n</td>\n",
       "      <td>7.281032</td>\n",
       "      <td>7.302939</td>\n",
       "      <td>-0.021907</td>\n",
       "      <td>4.236088e-01</td>\n",
       "    </tr>\n",
       "    <tr>\n",
       "      <th>6</th>\n",
       "      <td>min_dist</td>\n",
       "      <td>107.395231</td>\n",
       "      <td>103.098348</td>\n",
       "      <td>4.296884</td>\n",
       "      <td>1.936661e-18</td>\n",
       "    </tr>\n",
       "    <tr>\n",
       "      <th>7</th>\n",
       "      <td>dist_cap</td>\n",
       "      <td>151.801472</td>\n",
       "      <td>154.492095</td>\n",
       "      <td>-2.690622</td>\n",
       "      <td>3.414194e-03</td>\n",
       "    </tr>\n",
       "    <tr>\n",
       "      <th>8</th>\n",
       "      <td>hohedu</td>\n",
       "      <td>2.726729</td>\n",
       "      <td>2.660982</td>\n",
       "      <td>0.065747</td>\n",
       "      <td>2.613239e-02</td>\n",
       "    </tr>\n",
       "    <tr>\n",
       "      <th>9</th>\n",
       "      <td>hohwag</td>\n",
       "      <td>550.207086</td>\n",
       "      <td>580.694452</td>\n",
       "      <td>-30.487366</td>\n",
       "      <td>2.727661e-04</td>\n",
       "    </tr>\n",
       "    <tr>\n",
       "      <th>10</th>\n",
       "      <td>welfare_index</td>\n",
       "      <td>656.810476</td>\n",
       "      <td>661.593513</td>\n",
       "      <td>-4.783037</td>\n",
       "      <td>3.724043e-04</td>\n",
       "    </tr>\n",
       "    <tr>\n",
       "      <th>11</th>\n",
       "      <td>hohsex</td>\n",
       "      <td>0.925586</td>\n",
       "      <td>0.923387</td>\n",
       "      <td>0.002199</td>\n",
       "      <td>4.781232e-01</td>\n",
       "    </tr>\n",
       "    <tr>\n",
       "      <th>12</th>\n",
       "      <td>hohage</td>\n",
       "      <td>43.631234</td>\n",
       "      <td>44.270717</td>\n",
       "      <td>-0.639483</td>\n",
       "      <td>1.925767e-06</td>\n",
       "    </tr>\n",
       "    <tr>\n",
       "      <th>13</th>\n",
       "      <td>age</td>\n",
       "      <td>10.743825</td>\n",
       "      <td>10.785586</td>\n",
       "      <td>-0.041761</td>\n",
       "      <td>2.476155e-01</td>\n",
       "    </tr>\n",
       "    <tr>\n",
       "      <th>14</th>\n",
       "      <td>grc97</td>\n",
       "      <td>3.709214</td>\n",
       "      <td>3.733653</td>\n",
       "      <td>-0.024439</td>\n",
       "      <td>3.947750e-01</td>\n",
       "    </tr>\n",
       "    <tr>\n",
       "      <th>15</th>\n",
       "      <td>sc97</td>\n",
       "      <td>0.822697</td>\n",
       "      <td>0.815066</td>\n",
       "      <td>0.007631</td>\n",
       "      <td>9.117959e-02</td>\n",
       "    </tr>\n",
       "  </tbody>\n",
       "</table>\n",
       "</div>"
      ],
      "text/plain": [
       "         Variable  Average value (Treatment villages)  \\\n",
       "0             sex                            0.520268   \n",
       "1           indig                            0.316744   \n",
       "2        dist_sec                            2.399648   \n",
       "3              sc                            0.822697   \n",
       "4             grc                            3.709214   \n",
       "5           fam_n                            7.281032   \n",
       "6        min_dist                          107.395231   \n",
       "7        dist_cap                          151.801472   \n",
       "8          hohedu                            2.726729   \n",
       "9          hohwag                          550.207086   \n",
       "10  welfare_index                          656.810476   \n",
       "11         hohsex                            0.925586   \n",
       "12         hohage                           43.631234   \n",
       "13            age                           10.743825   \n",
       "14          grc97                            3.709214   \n",
       "15           sc97                            0.822697   \n",
       "\n",
       "    Average value (Control villages)  Difference       p-value  \n",
       "0                           0.506556    0.013713  1.956962e-02  \n",
       "1                           0.325306   -0.008562  1.183760e-01  \n",
       "2                           2.400687   -0.001039  9.670949e-01  \n",
       "3                           0.815066    0.007631  9.117959e-02  \n",
       "4                           3.733653   -0.024439  3.947750e-01  \n",
       "5                           7.302939   -0.021907  4.236088e-01  \n",
       "6                         103.098348    4.296884  1.936661e-18  \n",
       "7                         154.492095   -2.690622  3.414194e-03  \n",
       "8                           2.660982    0.065747  2.613239e-02  \n",
       "9                         580.694452  -30.487366  2.727661e-04  \n",
       "10                        661.593513   -4.783037  3.724043e-04  \n",
       "11                          0.923387    0.002199  4.781232e-01  \n",
       "12                         44.270717   -0.639483  1.925767e-06  \n",
       "13                         10.785586   -0.041761  2.476155e-01  \n",
       "14                          3.733653   -0.024439  3.947750e-01  \n",
       "15                          0.815066    0.007631  9.117959e-02  "
      ]
     },
     "execution_count": 62,
     "metadata": {},
     "output_type": "execute_result"
    }
   ],
   "source": [
    "baseline_data"
   ]
  },
  {
   "cell_type": "markdown",
   "metadata": {
    "ein.tags": "worksheet-0",
    "slideshow": {
     "slide_type": "-"
    }
   },
   "source": [
    "### 1.3 Interpretation\n",
    "\n",
    "* A: Are there statistically significant differences between treatment and control villages as baseline? \n",
    "* B: Why does it matter if there are differences at baseline?\n",
    "* C: What does this imply about how to measure the impact of the treatment?"
   ]
  },
  {
   "cell_type": "markdown",
   "metadata": {
    "ein.tags": "worksheet-0",
    "slideshow": {
     "slide_type": "-"
    }
   },
   "source": [
    "* A: Here, first of all we see that there are very few values which are lesser than 0.05, and the most significant ones are hohage, min_dist and welfare_index. However, most of the others are not less than 0.05 which means that the difference in means is not statistically significant\n",
    "* B: To validate the authenticity of this randomized control trial, we need to make sure that the groups were chosen with completely random methods. If the p-values were significant in most, that means that there is a significant difference at baseline which means that the selection was not random. Hence, we need to make sure that the randomness is intact.\n",
    "* C: Since, there is no difference in means pre-treatment, we know that treatment was the only thing affecting the enrollment rates and there was no external factor taking part in it."
   ]
  },
  {
   "cell_type": "markdown",
   "metadata": {
    "ein.tags": "worksheet-0",
    "slideshow": {
     "slide_type": "-"
    }
   },
   "source": [
    "### 1.4 Graphical exploration, part 1\n",
    "\n",
    "For each level of household head education, compute the average\n",
    "enrollment rate in 1997. Create a scatterplot that shows this\n",
    "relationship. What do you notice?"
   ]
  },
  {
   "cell_type": "code",
   "execution_count": 84,
   "metadata": {
    "autoscroll": false,
    "ein.tags": "worksheet-0",
    "slideshow": {
     "slide_type": "-"
    }
   },
   "outputs": [
    {
     "data": {
      "image/png": "[encoded data removed]",
      "text/plain": [
       "<Figure size 432x288 with 1 Axes>"
      ]
     },
     "metadata": {},
     "output_type": "display_data"
    }
   ],
   "source": [
    "x = data.groupby(['hohedu'])['sc'].mean()\n",
    "y = x.values\n",
    "x = data.hohedu.unique()\n",
    "plt.scatter(x,y)\n",
    "plt.show()"
   ]
  },
  {
   "cell_type": "markdown",
   "metadata": {
    "ein.tags": "worksheet-0",
    "slideshow": {
     "slide_type": "-"
    }
   },
   "source": [
    "There is an almost steady increase in average enrollment with an increase in the level of education and it drops suddenly at education level 20."
   ]
  },
  {
   "cell_type": "markdown",
   "metadata": {
    "ein.tags": "worksheet-0",
    "slideshow": {
     "slide_type": "-"
    }
   },
   "source": [
    "### 1.5 Graphical exploration, part 2\n",
    "\n",
    "Create a histogram of village enrollment rates **among poor households\n",
    "in treated villages**, before and after treatment.  Specifically, for\n",
    "each village, calculate the average rate of enrollment of poor\n",
    "households in treated villages in 1997, then compute the average rate\n",
    "of enrollment of poor households in treated villages in 1998. Create\n",
    "two separate histograms showing the distribution of these average\n",
    "enrollments rates, one histogram for 1997 and one histogram for\n",
    "1998. On each histogram, draw a vertical line that intersects the\n",
    "x-axis at the average value (across all households). Does there appear\n",
    "to be a difference? Is this difference statistically significant?"
   ]
  },
  {
   "cell_type": "code",
   "execution_count": 124,
   "metadata": {},
   "outputs": [
    {
     "data": {
      "image/png": "[encoded data removed]",
      "text/plain": [
       "<Figure size 432x288 with 1 Axes>"
      ]
     },
     "metadata": {},
     "output_type": "display_data"
    }
   ],
   "source": [
    "x = treatment_poor_1997.groupby(['village'])['sc'].mean()\n",
    "plt.hist(x, bins = 30)\n",
    "plt.axvline(treatment_poor_1997.sc.mean(), color='blue')\n",
    "plt.ylabel(\"Number of villages\")\n",
    "plt.xlabel(\"Average Enrollment in 1997\")\n",
    "plt.show()"
   ]
  },
  {
   "cell_type": "code",
   "execution_count": 125,
   "metadata": {},
   "outputs": [
    {
     "data": {
      "image/png": "[encoded data removed]",
      "text/plain": [
       "<Figure size 432x288 with 1 Axes>"
      ]
     },
     "metadata": {},
     "output_type": "display_data"
    }
   ],
   "source": [
    "y = treatment_poor_1998.groupby(['village'])['sc'].mean()\n",
    "plt.hist(y,bins = 30)\n",
    "plt.axvline(treatment_poor_1998.sc.mean(), color='blue')\n",
    "plt.ylabel(\"Number of villages\")\n",
    "plt.xlabel(\"Average Enrollment in 1998\")\n",
    "plt.show()"
   ]
  },
  {
   "cell_type": "markdown",
   "metadata": {},
   "source": [
    "Keeping all values"
   ]
  },
  {
   "cell_type": "code",
   "execution_count": 129,
   "metadata": {
    "ein.tags": "worksheet-0",
    "slideshow": {
     "slide_type": "-"
    }
   },
   "outputs": [
    {
     "data": {
      "text/plain": [
       "0.04424870036572115"
      ]
     },
     "execution_count": 129,
     "metadata": {},
     "output_type": "execute_result"
    }
   ],
   "source": [
    "ttest_ind(treatment_poor_1997.groupby('village')['sc'].mean(),treatment_poor_1998.groupby('village')['sc'].mean()).pvalue"
   ]
  },
  {
   "cell_type": "markdown",
   "metadata": {},
   "source": [
    "Dropping Null Values"
   ]
  },
  {
   "cell_type": "code",
   "execution_count": 131,
   "metadata": {},
   "outputs": [
    {
     "data": {
      "text/plain": [
       "0.010587739721624679"
      ]
     },
     "execution_count": 131,
     "metadata": {},
     "output_type": "execute_result"
    }
   ],
   "source": [
    "ttest_ind(treatment_poor_1997.groupby('village')['sc'].mean(),treatment_poor_1998.groupby('village')['sc'].mean()).pvalue"
   ]
  },
  {
   "cell_type": "markdown",
   "metadata": {},
   "source": [
    "Here, we see that the p-value of the means comes out to be 0.0105 if we drop null values for the sc variable pre and post treatment and 0.044 if we keep all values. In both the cases, the p-value is less than 0.05 which means that the difference is statistically significant"
   ]
  },
  {
   "cell_type": "code",
   "execution_count": 82,
   "metadata": {},
   "outputs": [
    {
     "data": {
      "text/plain": [
       "0.8226968874033842"
      ]
     },
     "execution_count": 82,
     "metadata": {},
     "output_type": "execute_result"
    }
   ],
   "source": [
    "treatment_poor_1997['sc'].mean()"
   ]
  },
  {
   "cell_type": "code",
   "execution_count": 83,
   "metadata": {},
   "outputs": [
    {
     "data": {
      "text/plain": [
       "0.8464791213954308"
      ]
     },
     "execution_count": 83,
     "metadata": {},
     "output_type": "execute_result"
    }
   ],
   "source": [
    "treatment_poor_1998['sc'].mean()"
   ]
  },
  {
   "cell_type": "markdown",
   "metadata": {},
   "source": [
    "The above means show that there we can say that there is an improvement in enrollment post treatment and that improvment is statistically significant."
   ]
  },
  {
   "cell_type": "markdown",
   "metadata": {
    "ein.tags": "worksheet-0",
    "slideshow": {
     "slide_type": "-"
    }
   },
   "source": [
    "## Part 2: Measuring Impact\n",
    "\n",
    "Our goal is to estimate the causal impact of the PROGRESA program on\n",
    "the social and economic outcomes of individuals in Mexico. We will\n",
    "focus on the impact of the program on the poor (those with\n",
    "poor=='pobre'), since only the poor were eligible to receive the\n",
    "PROGRESA assistance.\n",
    "\n",
    "### 2.1 Cross-Sectional Estimator: T-test\n",
    "\n",
    "Begin by estimating the impact of Progresa using \"simple differences.\"\n",
    "Restricting yourself to data from 1998 (after treatment), calculate\n",
    "the average enrollment rate among **poor** households in the Treatment\n",
    "villages and the average enrollment rate among **poor** households in\n",
    "the control villages. Use a t-test to determine if this difference is\n",
    "statistically significant. What do you conclude?"
   ]
  },
  {
   "cell_type": "code",
   "execution_count": 96,
   "metadata": {
    "autoscroll": false,
    "ein.tags": "worksheet-0",
    "slideshow": {
     "slide_type": "-"
    }
   },
   "outputs": [],
   "source": [
    "data_1998 = data[data['year'] == 98].dropna()\n",
    "poor_1998 = data_1998[data_1998['poor'] == 'pobre'].dropna()\n",
    "\n",
    "poor_data = data[data['poor'] == 'pobre'].dropna()"
   ]
  },
  {
   "cell_type": "code",
   "execution_count": 92,
   "metadata": {
    "autoscroll": false,
    "ein.tags": "worksheet-0",
    "slideshow": {
     "slide_type": "-"
    }
   },
   "outputs": [
    {
     "name": "stdout",
     "output_type": "stream",
     "text": [
      "0.810923092511906\n"
     ]
    }
   ],
   "source": [
    "print(control_poor_1998.sc.dropna().mean())"
   ]
  },
  {
   "cell_type": "code",
   "execution_count": 93,
   "metadata": {},
   "outputs": [
    {
     "name": "stdout",
     "output_type": "stream",
     "text": [
      "0.849257030578411\n"
     ]
    }
   ],
   "source": [
    "print(treatment_poor_1998.sc.dropna().mean())"
   ]
  },
  {
   "cell_type": "code",
   "execution_count": 91,
   "metadata": {},
   "outputs": [
    {
     "data": {
      "text/plain": [
       "Ttest_indResult(statistic=8.101650305300375, pvalue=5.656455605358843e-16)"
      ]
     },
     "execution_count": 91,
     "metadata": {},
     "output_type": "execute_result"
    }
   ],
   "source": [
    "ttest_ind(treatment_poor_1998.sc.values,control_poor_1998.sc.values)"
   ]
  },
  {
   "cell_type": "markdown",
   "metadata": {
    "ein.tags": "worksheet-0",
    "slideshow": {
     "slide_type": "-"
    }
   },
   "source": [
    "Here, we see that the p-value is extremely less than 0.05 which shows that the difference is statisitcally significant and that proves that there is an improvement in enrollment post treatment."
   ]
  },
  {
   "cell_type": "markdown",
   "metadata": {
    "ein.tags": "worksheet-0",
    "slideshow": {
     "slide_type": "-"
    }
   },
   "source": [
    "### 2.2 Cross-Sectional Estimator: Regression\n",
    "\n",
    "Estimate the effects of Progresa on enrollment using a regression\n",
    "model, by regressing the 1998 enrollment rates **of the poor** on\n",
    "treatment assignment.  Do not include any additional control\n",
    "variables.\n",
    "Discuss the following:\n",
    "\n",
    "* Based on this model, how much did Progresa increase the likelihood of a child enrolling?\n",
    "* How does your regression estimate compare to your t-test estimate from part 2.1?\n",
    "* Based on this regression model, can we reject the null hypothesis that the treatment effects are zero? \n",
    "* What is the counterfactual assumption underlying this regression?\n",
    "\n",
    "Note: I recommend to use statsmodels.formula.api as this allows to use\n",
    "convenient R-style formulas and provedes nice summaries of the results."
   ]
  },
  {
   "cell_type": "code",
   "execution_count": 121,
   "metadata": {
    "autoscroll": false,
    "ein.tags": "worksheet-0",
    "slideshow": {
     "slide_type": "-"
    }
   },
   "outputs": [
    {
     "name": "stdout",
     "output_type": "stream",
     "text": [
      "                            OLS Regression Results                            \n",
      "==============================================================================\n",
      "Dep. Variable:                     sc   R-squared:                       0.003\n",
      "Model:                            OLS   Adj. R-squared:                  0.002\n",
      "Method:                 Least Squares   F-statistic:                     65.64\n",
      "Date:                Wed, 02 May 2018   Prob (F-statistic):           5.66e-16\n",
      "Time:                        14:20:07   Log-Likelihood:                -11171.\n",
      "No. Observations:               26155   AIC:                         2.235e+04\n",
      "Df Residuals:                   26153   BIC:                         2.236e+04\n",
      "Df Model:                           1                                         \n",
      "Covariance Type:            nonrobust                                         \n",
      "=====================================================================================\n",
      "                        coef    std err          t      P>|t|      [0.025      0.975]\n",
      "-------------------------------------------------------------------------------------\n",
      "Intercept             0.8109      0.004    217.190      0.000       0.804       0.818\n",
      "progresa[T.basal]     0.0383      0.005      8.102      0.000       0.029       0.048\n",
      "==============================================================================\n",
      "Omnibus:                     7487.800   Durbin-Watson:                   1.734\n",
      "Prob(Omnibus):                  0.000   Jarque-Bera (JB):            15756.374\n",
      "Skew:                          -1.796   Prob(JB):                         0.00\n",
      "Kurtosis:                       4.245   Cond. No.                         3.02\n",
      "==============================================================================\n",
      "\n",
      "Warnings:\n",
      "[1] Standard Errors assume that the covariance matrix of the errors is correctly specified.\n"
     ]
    }
   ],
   "source": [
    "model = smf.ols(formula = 'sc ~ progresa',data=poor_1998).fit()\n",
    "print(model.summary())"
   ]
  },
  {
   "cell_type": "markdown",
   "metadata": {
    "ein.tags": "worksheet-0",
    "slideshow": {
     "slide_type": "-"
    }
   },
   "source": [
    "* Based on the above results, progresa(treatment) increases the likelihood of a child enrolling by 0.0383\n",
    "* In 2.1, the t-test estimate was 8.1 whereas the same in the regression, coefficient is 0.0383\n",
    "* Here, the p-value is less than 0.05. Based on that, we can reject the null hypothesis stating that there is no effect of the treatment.\n",
    "* We assume that if the treatment was not provided, then the means for both groups will be the same and essentially the groups will be the same."
   ]
  },
  {
   "cell_type": "markdown",
   "metadata": {
    "ein.tags": "worksheet-0",
    "slideshow": {
     "slide_type": "-"
    }
   },
   "source": [
    "### 2.3 Multiple Regression\n",
    "\n",
    "Re-run the above regression estimated but this time include a set of\n",
    "relevant control variables. Include, for instance, age, distance to a secondary\n",
    "school, gender, education of household head, welfare index,\n",
    "indigenous, etc.\n",
    "\n",
    "* How do the controls affect the point estimate of treatment effect?\n",
    "* How do the controls affect the standard error on the treatment effect? \n",
    "* How do you interpret the differences (or similarities) between your estimates of 2.2 and 2.3?"
   ]
  },
  {
   "cell_type": "code",
   "execution_count": 122,
   "metadata": {
    "autoscroll": false,
    "ein.tags": "worksheet-0",
    "slideshow": {
     "slide_type": "-"
    }
   },
   "outputs": [
    {
     "name": "stdout",
     "output_type": "stream",
     "text": [
      "                            OLS Regression Results                            \n",
      "==============================================================================\n",
      "Dep. Variable:                     sc   R-squared:                       0.268\n",
      "Model:                            OLS   Adj. R-squared:                  0.267\n",
      "Method:                 Least Squares   F-statistic:                     1365.\n",
      "Date:                Wed, 02 May 2018   Prob (F-statistic):               0.00\n",
      "Time:                        14:20:11   Log-Likelihood:                -7129.9\n",
      "No. Observations:               26155   AIC:                         1.428e+04\n",
      "Df Residuals:                   26147   BIC:                         1.434e+04\n",
      "Df Model:                           7                                         \n",
      "Covariance Type:            nonrobust                                         \n",
      "=====================================================================================\n",
      "                        coef    std err          t      P>|t|      [0.025      0.975]\n",
      "-------------------------------------------------------------------------------------\n",
      "Intercept             1.4630      0.011    137.045      0.000       1.442       1.484\n",
      "progresa[T.basal]     0.0319      0.004      7.862      0.000       0.024       0.040\n",
      "age                  -0.0651      0.001    -92.993      0.000      -0.066      -0.064\n",
      "dist_sec             -0.0103      0.001    -11.098      0.000      -0.012      -0.008\n",
      "sex                   0.0303      0.004      7.704      0.000       0.023       0.038\n",
      "hohedu                0.0079      0.001      9.979      0.000       0.006       0.009\n",
      "indig                 0.0312      0.004      6.995      0.000       0.022       0.040\n",
      "min_dist              0.0006   4.97e-05     12.544      0.000       0.001       0.001\n",
      "==============================================================================\n",
      "Omnibus:                     2972.808   Durbin-Watson:                   1.727\n",
      "Prob(Omnibus):                  0.000   Jarque-Bera (JB):             4095.121\n",
      "Skew:                          -0.959   Prob(JB):                         0.00\n",
      "Kurtosis:                       3.281   Cond. No.                         627.\n",
      "==============================================================================\n",
      "\n",
      "Warnings:\n",
      "[1] Standard Errors assume that the covariance matrix of the errors is correctly specified.\n"
     ]
    }
   ],
   "source": [
    "model = smf.ols(formula = 'sc ~ age + dist_sec + sex + hohedu + indig + min_dist + progresa',data=poor_1998).fit()\n",
    "print(model.summary())"
   ]
  },
  {
   "cell_type": "markdown",
   "metadata": {
    "ein.tags": "worksheet-0",
    "slideshow": {
     "slide_type": "-"
    }
   },
   "source": [
    "* The controls reduce the estimate point of treatment effects from 0.0383 to 0.0319\n",
    "* The standard error reduced from 0.005 to 0.004\n",
    "* As the controls added try to explain the outcome variable, we see the reduction in point estimate of the progresa variable, but still it is minute hence the other variables are not able to explain the outcome very significantly."
   ]
  },
  {
   "cell_type": "markdown",
   "metadata": {
    "ein.tags": "worksheet-0",
    "slideshow": {
     "slide_type": "-"
    }
   },
   "source": [
    "### 2.4 Difference-in-Difference, version 1 (tabular)\n",
    "\n",
    "Thus far, we have computed the effects of Progresa by estimating the\n",
    "difference in 1998 enrollment rates across villages. An alternative\n",
    "approach would be to compute the treatment effect using a\n",
    "difference-in-differences framework.\n",
    "\n",
    "Begin by estimating the average treatment effects of the program for poor households using data from 1997 and 1998. Specifically, calculate:\n",
    "\n",
    "a) the difference (between 1997 and 1998) in enrollment rates among poor households in treated villages\n",
    "\n",
    "b) the difference (between 1997 and 1998) in enrollment rates among poor households in control villages.\n",
    "\n",
    "c) The difference between these two differences is your estimate.\n",
    "\n",
    "* What is your estimate of the impact, and how does it compare to your earlier (simple difference) results?\n",
    "\n",
    "* What is the counterfactual assumption underlying this estimate? \n"
   ]
  },
  {
   "cell_type": "code",
   "execution_count": 111,
   "metadata": {
    "autoscroll": false,
    "ein.tags": "worksheet-0",
    "slideshow": {
     "slide_type": "-"
    }
   },
   "outputs": [
    {
     "name": "stdout",
     "output_type": "stream",
     "text": [
      "0.031331280319323085\n"
     ]
    }
   ],
   "source": [
    "#Difference in treatment\n",
    "difference_treated_poor = treatment_poor_1998.sc.mean() - treatment_poor_1997.sc.mean() \n",
    "\n",
    "#Difference in control\n",
    "difference_control_poor = control_poor_1998.sc.mean() - control_poor_1997.sc.mean()\n",
    "\n",
    "#Difference in difference\n",
    "difference_in_difference = difference_treated_poor - difference_control_poor\n",
    "\n",
    "print(difference_in_difference)"
   ]
  },
  {
   "cell_type": "markdown",
   "metadata": {
    "ein.tags": "worksheet-0",
    "slideshow": {
     "slide_type": "-"
    }
   },
   "source": [
    "\n",
    "* The difference in difference value comes out to be 0.0313 which is slightly similar to the controls estimate of 0.0319 but much lower than than the simple estimate 0.0383\n",
    "\n",
    "* The counterfactual assumption here is that the difference in the comparison groups represents the counterfactual change in the treatment group if there were no treatment."
   ]
  },
  {
   "cell_type": "markdown",
   "metadata": {
    "ein.tags": "worksheet-0",
    "slideshow": {
     "slide_type": "-"
    }
   },
   "source": [
    "### 2.5 Difference-in-Difference, version 2 (regression)\n",
    "\n",
    "Now use a regression specification to estimate the average treatment\n",
    "effects of the program in a difference-in-differences\n",
    "framework. Include at least 5 control variables.\n",
    "\n",
    "* What is your estimate of the impact of Progresa? Be very specific in\n",
    "  interpreting your coefficients and standard errors, and make sure to\n",
    "  specify exactly what units you are measuring and estimating.\n",
    "\n",
    "* How do these estimates of the treatment effect compare to the\n",
    "  estimates based on the simple difference?\n",
    "\n",
    "* How do these estimates compare to the difference-in-difference\n",
    "  estimates from 2.4 above? What accounts for these differences?\n",
    "\n",
    "* What is the counterfactual assumption underlying this regression? "
   ]
  },
  {
   "cell_type": "code",
   "execution_count": 123,
   "metadata": {
    "autoscroll": false,
    "ein.tags": "worksheet-0",
    "slideshow": {
     "slide_type": "-"
    }
   },
   "outputs": [],
   "source": [
    "#Define variable for pre and post treatment\n",
    "def  categorize(year):\n",
    "    if year == 97:\n",
    "        return 0 \n",
    "    else:\n",
    "        return 1\n",
    "\n",
    "poor_data['post'] = [categorize(x) for x in poor_data['year']]"
   ]
  },
  {
   "cell_type": "code",
   "execution_count": 119,
   "metadata": {},
   "outputs": [
    {
     "data": {
      "text/html": [
       "<table class=\"simpletable\">\n",
       "<caption>OLS Regression Results</caption>\n",
       "<tr>\n",
       "  <th>Dep. Variable:</th>           <td>sc</td>        <th>  R-squared:         </th> <td>   0.279</td> \n",
       "</tr>\n",
       "<tr>\n",
       "  <th>Model:</th>                   <td>OLS</td>       <th>  Adj. R-squared:    </th> <td>   0.279</td> \n",
       "</tr>\n",
       "<tr>\n",
       "  <th>Method:</th>             <td>Least Squares</td>  <th>  F-statistic:       </th> <td>   2756.</td> \n",
       "</tr>\n",
       "<tr>\n",
       "  <th>Date:</th>             <td>Wed, 02 May 2018</td> <th>  Prob (F-statistic):</th>  <td>  0.00</td>  \n",
       "</tr>\n",
       "<tr>\n",
       "  <th>Time:</th>                 <td>14:19:50</td>     <th>  Log-Likelihood:    </th> <td> -16139.</td> \n",
       "</tr>\n",
       "<tr>\n",
       "  <th>No. Observations:</th>      <td> 56893</td>      <th>  AIC:               </th> <td>3.230e+04</td>\n",
       "</tr>\n",
       "<tr>\n",
       "  <th>Df Residuals:</th>          <td> 56884</td>      <th>  BIC:               </th> <td>3.238e+04</td>\n",
       "</tr>\n",
       "<tr>\n",
       "  <th>Df Model:</th>              <td>     8</td>      <th>                     </th>     <td> </td>    \n",
       "</tr>\n",
       "<tr>\n",
       "  <th>Covariance Type:</th>      <td>nonrobust</td>    <th>                     </th>     <td> </td>    \n",
       "</tr>\n",
       "</table>\n",
       "<table class=\"simpletable\">\n",
       "<tr>\n",
       "             <td></td>               <th>coef</th>     <th>std err</th>      <th>t</th>      <th>P>|t|</th>  <th>[0.025</th>    <th>0.975]</th>  \n",
       "</tr>\n",
       "<tr>\n",
       "  <th>Intercept</th>              <td>    1.4331</td> <td>    0.007</td> <td>  198.380</td> <td> 0.000</td> <td>    1.419</td> <td>    1.447</td>\n",
       "</tr>\n",
       "<tr>\n",
       "  <th>progresa[T.basal]</th>      <td>    0.0009</td> <td>    0.004</td> <td>    0.245</td> <td> 0.806</td> <td>   -0.006</td> <td>    0.008</td>\n",
       "</tr>\n",
       "<tr>\n",
       "  <th>post</th>                   <td>    0.0323</td> <td>    0.004</td> <td>    7.334</td> <td> 0.000</td> <td>    0.024</td> <td>    0.041</td>\n",
       "</tr>\n",
       "<tr>\n",
       "  <th>progresa[T.basal]:post</th> <td>    0.0305</td> <td>    0.006</td> <td>    5.466</td> <td> 0.000</td> <td>    0.020</td> <td>    0.041</td>\n",
       "</tr>\n",
       "<tr>\n",
       "  <th>age</th>                    <td>   -0.0653</td> <td>    0.000</td> <td> -142.654</td> <td> 0.000</td> <td>   -0.066</td> <td>   -0.064</td>\n",
       "</tr>\n",
       "<tr>\n",
       "  <th>dist_sec</th>               <td>   -0.0094</td> <td>    0.001</td> <td>  -14.825</td> <td> 0.000</td> <td>   -0.011</td> <td>   -0.008</td>\n",
       "</tr>\n",
       "<tr>\n",
       "  <th>sex</th>                    <td>    0.0332</td> <td>    0.003</td> <td>   12.303</td> <td> 0.000</td> <td>    0.028</td> <td>    0.038</td>\n",
       "</tr>\n",
       "<tr>\n",
       "  <th>hohedu</th>                 <td>    0.0071</td> <td>    0.001</td> <td>   13.116</td> <td> 0.000</td> <td>    0.006</td> <td>    0.008</td>\n",
       "</tr>\n",
       "<tr>\n",
       "  <th>min_dist</th>               <td>    0.0007</td> <td> 3.23e-05</td> <td>   21.943</td> <td> 0.000</td> <td>    0.001</td> <td>    0.001</td>\n",
       "</tr>\n",
       "</table>\n",
       "<table class=\"simpletable\">\n",
       "<tr>\n",
       "  <th>Omnibus:</th>       <td>5494.032</td> <th>  Durbin-Watson:     </th> <td>   1.486</td>\n",
       "</tr>\n",
       "<tr>\n",
       "  <th>Prob(Omnibus):</th>  <td> 0.000</td>  <th>  Jarque-Bera (JB):  </th> <td>7259.719</td>\n",
       "</tr>\n",
       "<tr>\n",
       "  <th>Skew:</th>           <td>-0.873</td>  <th>  Prob(JB):          </th> <td>    0.00</td>\n",
       "</tr>\n",
       "<tr>\n",
       "  <th>Kurtosis:</th>       <td> 3.127</td>  <th>  Cond. No.          </th> <td>    693.</td>\n",
       "</tr>\n",
       "</table>"
      ],
      "text/plain": [
       "<class 'statsmodels.iolib.summary.Summary'>\n",
       "\"\"\"\n",
       "                            OLS Regression Results                            \n",
       "==============================================================================\n",
       "Dep. Variable:                     sc   R-squared:                       0.279\n",
       "Model:                            OLS   Adj. R-squared:                  0.279\n",
       "Method:                 Least Squares   F-statistic:                     2756.\n",
       "Date:                Wed, 02 May 2018   Prob (F-statistic):               0.00\n",
       "Time:                        14:19:50   Log-Likelihood:                -16139.\n",
       "No. Observations:               56893   AIC:                         3.230e+04\n",
       "Df Residuals:                   56884   BIC:                         3.238e+04\n",
       "Df Model:                           8                                         \n",
       "Covariance Type:            nonrobust                                         \n",
       "==========================================================================================\n",
       "                             coef    std err          t      P>|t|      [0.025      0.975]\n",
       "------------------------------------------------------------------------------------------\n",
       "Intercept                  1.4331      0.007    198.380      0.000       1.419       1.447\n",
       "progresa[T.basal]          0.0009      0.004      0.245      0.806      -0.006       0.008\n",
       "post                       0.0323      0.004      7.334      0.000       0.024       0.041\n",
       "progresa[T.basal]:post     0.0305      0.006      5.466      0.000       0.020       0.041\n",
       "age                       -0.0653      0.000   -142.654      0.000      -0.066      -0.064\n",
       "dist_sec                  -0.0094      0.001    -14.825      0.000      -0.011      -0.008\n",
       "sex                        0.0332      0.003     12.303      0.000       0.028       0.038\n",
       "hohedu                     0.0071      0.001     13.116      0.000       0.006       0.008\n",
       "min_dist                   0.0007   3.23e-05     21.943      0.000       0.001       0.001\n",
       "==============================================================================\n",
       "Omnibus:                     5494.032   Durbin-Watson:                   1.486\n",
       "Prob(Omnibus):                  0.000   Jarque-Bera (JB):             7259.719\n",
       "Skew:                          -0.873   Prob(JB):                         0.00\n",
       "Kurtosis:                       3.127   Cond. No.                         693.\n",
       "==============================================================================\n",
       "\n",
       "Warnings:\n",
       "[1] Standard Errors assume that the covariance matrix of the errors is correctly specified.\n",
       "\"\"\""
      ]
     },
     "execution_count": 119,
     "metadata": {},
     "output_type": "execute_result"
    }
   ],
   "source": [
    "model = smf.ols(formula=\"sc ~ progresa + post + progresa:post + age + dist_sec + sex + hohedu + min_dist \", data=poor_data, missing='drop').fit()\n",
    "model.summary()"
   ]
  },
  {
   "cell_type": "markdown",
   "metadata": {
    "ein.tags": "worksheet-0",
    "slideshow": {
     "slide_type": "-"
    }
   },
   "source": [
    "* Estimate of impact with the controls and interaction terms comes out to 0.0305 with a p-value less than 0.05 which shows that it is significant. Also, if we look at progresa without interaction, the estimate is 0.0009 and it is not significant as well. Also, since the standard error is also low, we can say that the treatment increased the likelihood of enrollment average by 0.0305.\n",
    "\n",
    "* In the simple estimates, we only considered after progresa data. We didnt look at difference before that. In this estimate, we ssee the difference in treatment and control before and after progresa as well. \n",
    "\n",
    "* There is a little decrease in the estimate to 0.0305 from 0.0313. This might be due to the other variables explaining a little effect in the regression.\n",
    "\n",
    "* The assumption here is that the difference-in-difference between treatment and control groups would be zero if the treatment were absent."
   ]
  },
  {
   "cell_type": "markdown",
   "metadata": {
    "ein.tags": "worksheet-0",
    "slideshow": {
     "slide_type": "-"
    }
   },
   "source": [
    "### 2.6 Summary\n",
    "\n",
    "* Based on all the analysis you have undertaken to date, do you\n",
    "  believe that Progresa had a causal impact on the enrollment rates of\n",
    "  poor households in Mexico?  Explain by referring to the methods and\n",
    "  results above."
   ]
  },
  {
   "cell_type": "markdown",
   "metadata": {
    "ein.tags": "worksheet-0",
    "slideshow": {
     "slide_type": "-"
    }
   },
   "source": [
    "From all of the above results, difference-in-difference tabular and regression, simple estimates and also controls in regression, we can say that progresa did have an effect albeit a small one on the enrollemnt rates of poor households in Mexico. Though it is not significant, because we carried out a lot of different analyses and all of them proved that there was a difference, we can say that Progresa had an impact on the enrollment rates. But we should ensure that the treatment is received only by the ones who need it."
   ]
  }
 ],
 "metadata": {
  "kernelspec": {
   "display_name": "Python 3",
   "language": "python",
   "name": "python3"
  },
  "language_info": {
   "codemirror_mode": {
    "name": "ipython",
    "version": 3
   },
   "file_extension": ".py",
   "mimetype": "text/x-python",
   "name": "python",
   "nbconvert_exporter": "python",
   "pygments_lexer": "ipython3",
   "version": "3.6.4"
  },
  "name": "ps03_progresa.ipynb"
 },
 "nbformat": 4,
 "nbformat_minor": 1
}
