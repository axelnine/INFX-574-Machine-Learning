{
 "cells": [
  {
   "cell_type": "markdown",
   "metadata": {
    "ein.tags": "worksheet-0",
    "slideshow": {
     "slide_type": "-"
    }
   },
   "source": [
    "# Problem Set 3, due Wednesday, May 3rd, 5:30pm."
   ]
  },
  {
   "cell_type": "code",
   "execution_count": 310,
   "metadata": {},
   "outputs": [],
   "source": [
    "import pandas as pd\n",
    "from collections import OrderedDict\n",
    "from scipy.stats import ttest_ind\n",
    "import matplotlib.pyplot as plt\n",
    "import numpy as np\n",
    "import statsmodels.formula.api as smf"
   ]
  },
  {
   "cell_type": "markdown",
   "metadata": {
    "ein.tags": "worksheet-0",
    "slideshow": {
     "slide_type": "-"
    }
   },
   "source": [
    "## Introduction to the assignment\n",
    "\n",
    "For this assignment, you will be using data from the [Progresa\n",
    "program](http://en.wikipedia.org/wiki/Oportunidades), a government\n",
    "social assistance program in Mexico. This program, as well as the\n",
    "details of its impact, are described in the paper \"[School subsidies\n",
    "for the poor: evaluating the Mexican Progresa poverty\n",
    "program](http://www.sciencedirect.com/science/article/pii/S0304387803001858)\",\n",
    "by Paul Shultz (available on Canvas).  The data\n",
    "(progresa_sample.csv.gz) is available on canvas\n",
    "in files/data.\n",
    "\n",
    "Please read the paper to familiarize yourself with\n",
    "the PROGRESA program before beginning this problem set, so you have a\n",
    "rough sense of where the data come from and how they were\n",
    "generated. If you just proceed into the problem set without\n",
    "understanding Progresa or the data, it will be very difficult!\n",
    "\n",
    "The goal of this problem set is to implement some of the basic\n",
    "econometric techniques that you are learning in class to measure the\n",
    "impact of Progresa on secondary school enrollment rates, in particular\n",
    "differences-in-differences.  Your task is to **estimate the impact of\n",
    "_progresa_ subsidies on the school attendance**.  Note: this asks to\n",
    "estimate a causal effect.\n",
    "\n",
    "The timeline of the program was:\n",
    "\n",
    " * Baseline survey conducted in 1997\n",
    " * Intervention begins in 1998, \"Wave 1\" of data collected in 1998\n",
    " * \"Wave 2 of data\" collected in 1999\n",
    " * Evaluation ends in 2000, at which point the control villages were treated. \n",
    " \n",
    "When you are ready, download the progresa_sample.csv data from\n",
    "Canvas. The data are actual data collected to evaluate the impact of\n",
    "the Progresa program.  In this file, each row corresponds to an\n",
    "observation taken for a given child for a given year. There are two\n",
    "years of data (1997 and 1998), and just under 40,000 children who are\n",
    "surveyed in both years.  For each child-year observation, the\n",
    "following variables are collected:\n",
    "\n",
    "| Variable name | Description|\n",
    "|------|------|\n",
    "|year\t  |year in which data is collected\n",
    "|sex\t  |male = 1|\n",
    "|indig\t  |indigenous = 1|\n",
    "|dist_sec |nearest distance to a secondary school|\n",
    "|sc\t      |enrolled in school in year of survey (=1)|\n",
    "|grc      |grade enrolled|\n",
    "|fam_n    |family size|\n",
    "|min_dist |\tmin distance to an urban center|\n",
    "|dist_cap |\tmin distance to the capital|\n",
    "|poor     |\tpoor = \"pobre\", not poor = \"no pobre\"|\n",
    "|progresa |treatment = \"basal\", control = \"0\"|\n",
    "|hohedu\t  |years of schooling of head of household|\n",
    "|hohwag\t  |monthly wages of head of household|\n",
    "|welfare_index|\twelfare index used to classify poor|\n",
    "|hohsex\t|gender of head of household (male=1)|\n",
    "|hohage\t|age of head of household|\n",
    "|age\t|years old|\n",
    "|folnum\t|individual id|\n",
    "|village|\tvillage id|\n",
    "|sc97\t|enrolled in school in 1997 (=1) |"
   ]
  },
  {
   "cell_type": "markdown",
   "metadata": {
    "ein.tags": "worksheet-0",
    "slideshow": {
     "slide_type": "-"
    }
   },
   "source": [
    "## Part 1: Descriptive analysis\n",
    "\n",
    "### 1.1\tSummary Statistics\n",
    "\n",
    "Report summary statistics (mean, standard deviation, and number of missings) for all of\n",
    "the demographic variables in the dataset (i.e., everything except\n",
    "year, folnum, village).  Present the actual levels for 'progresa' and\n",
    "'poor'.  Do these fit with the documentation above?\n",
    "\n",
    "Present these in a single table alphabetized\n",
    "by variable name. Do NOT simply expect the grader to scroll through\n",
    "your output!"
   ]
  },
  {
   "cell_type": "code",
   "execution_count": 284,
   "metadata": {
    "autoscroll": false,
    "ein.tags": "worksheet-0",
    "slideshow": {
     "slide_type": "-"
    }
   },
   "outputs": [],
   "source": [
    "#Read data and segregate according to treatment/control group\n",
    "data = pd.read_csv(\"progresa_sample.csv\")\n",
    "\n",
    "#Print the number of null values in each column\n",
    "missing_values = pd.isnull(data).sum(axis=0)\n",
    "\n",
    "#Removing variables not needed for missing values\n",
    "idx1 = pd.Index(['year','folnum','village','poor','progresa'])\n",
    "index = missing_values.index.difference(idx1)\n",
    "missing_values = missing_values[index]"
   ]
  },
  {
   "cell_type": "code",
   "execution_count": 221,
   "metadata": {},
   "outputs": [],
   "source": [
    "#Calculate summary statistics of the data\n",
    "summary = data.describe()\n",
    "idx2 = pd.Index(['year','folnum','village'])\n",
    "\n",
    "#Remove variables not needed in summary statistics\n",
    "columns = summary.columns.difference(idx2)\n",
    "summary = summary[columns].T"
   ]
  },
  {
   "cell_type": "code",
   "execution_count": 287,
   "metadata": {},
   "outputs": [],
   "source": [
    "#Extract mean and standard deviation\n",
    "mean = summary['mean']\n",
    "std = summary['std']"
   ]
  },
  {
   "cell_type": "code",
   "execution_count": 288,
   "metadata": {},
   "outputs": [
    {
     "data": {
      "text/html": [
       "<div>\n",
       "<style scoped>\n",
       "    .dataframe tbody tr th:only-of-type {\n",
       "        vertical-align: middle;\n",
       "    }\n",
       "\n",
       "    .dataframe tbody tr th {\n",
       "        vertical-align: top;\n",
       "    }\n",
       "\n",
       "    .dataframe thead th {\n",
       "        text-align: right;\n",
       "    }\n",
       "</style>\n",
       "<table border=\"1\" class=\"dataframe\">\n",
       "  <thead>\n",
       "    <tr style=\"text-align: right;\">\n",
       "      <th></th>\n",
       "      <th>mean</th>\n",
       "      <th>std</th>\n",
       "      <th>0</th>\n",
       "    </tr>\n",
       "  </thead>\n",
       "  <tbody>\n",
       "    <tr>\n",
       "      <th>age</th>\n",
       "      <td>11.366460</td>\n",
       "      <td>3.167744</td>\n",
       "      <td>0</td>\n",
       "    </tr>\n",
       "    <tr>\n",
       "      <th>dist_cap</th>\n",
       "      <td>147.674452</td>\n",
       "      <td>76.063134</td>\n",
       "      <td>0</td>\n",
       "    </tr>\n",
       "    <tr>\n",
       "      <th>dist_sec</th>\n",
       "      <td>2.418910</td>\n",
       "      <td>2.234109</td>\n",
       "      <td>0</td>\n",
       "    </tr>\n",
       "    <tr>\n",
       "      <th>fam_n</th>\n",
       "      <td>7.215715</td>\n",
       "      <td>2.352900</td>\n",
       "      <td>0</td>\n",
       "    </tr>\n",
       "    <tr>\n",
       "      <th>grc</th>\n",
       "      <td>3.963537</td>\n",
       "      <td>2.499063</td>\n",
       "      <td>6549</td>\n",
       "    </tr>\n",
       "    <tr>\n",
       "      <th>grc97</th>\n",
       "      <td>3.705372</td>\n",
       "      <td>2.572387</td>\n",
       "      <td>0</td>\n",
       "    </tr>\n",
       "    <tr>\n",
       "      <th>hohage</th>\n",
       "      <td>44.436717</td>\n",
       "      <td>11.620372</td>\n",
       "      <td>10</td>\n",
       "    </tr>\n",
       "    <tr>\n",
       "      <th>hohedu</th>\n",
       "      <td>2.768104</td>\n",
       "      <td>2.656106</td>\n",
       "      <td>0</td>\n",
       "    </tr>\n",
       "    <tr>\n",
       "      <th>hohsex</th>\n",
       "      <td>0.925185</td>\n",
       "      <td>0.263095</td>\n",
       "      <td>20</td>\n",
       "    </tr>\n",
       "    <tr>\n",
       "      <th>hohwag</th>\n",
       "      <td>586.985312</td>\n",
       "      <td>788.133664</td>\n",
       "      <td>0</td>\n",
       "    </tr>\n",
       "    <tr>\n",
       "      <th>indig</th>\n",
       "      <td>0.298324</td>\n",
       "      <td>0.457525</td>\n",
       "      <td>300</td>\n",
       "    </tr>\n",
       "    <tr>\n",
       "      <th>min_dist</th>\n",
       "      <td>103.447520</td>\n",
       "      <td>42.089441</td>\n",
       "      <td>0</td>\n",
       "    </tr>\n",
       "    <tr>\n",
       "      <th>sc</th>\n",
       "      <td>0.819818</td>\n",
       "      <td>0.384342</td>\n",
       "      <td>8453</td>\n",
       "    </tr>\n",
       "    <tr>\n",
       "      <th>sc97</th>\n",
       "      <td>0.813922</td>\n",
       "      <td>0.389172</td>\n",
       "      <td>3872</td>\n",
       "    </tr>\n",
       "    <tr>\n",
       "      <th>sex</th>\n",
       "      <td>0.512211</td>\n",
       "      <td>0.499854</td>\n",
       "      <td>24</td>\n",
       "    </tr>\n",
       "    <tr>\n",
       "      <th>welfare_index</th>\n",
       "      <td>690.346564</td>\n",
       "      <td>139.491130</td>\n",
       "      <td>210</td>\n",
       "    </tr>\n",
       "  </tbody>\n",
       "</table>\n",
       "</div>"
      ],
      "text/plain": [
       "                     mean         std     0\n",
       "age             11.366460    3.167744     0\n",
       "dist_cap       147.674452   76.063134     0\n",
       "dist_sec         2.418910    2.234109     0\n",
       "fam_n            7.215715    2.352900     0\n",
       "grc              3.963537    2.499063  6549\n",
       "grc97            3.705372    2.572387     0\n",
       "hohage          44.436717   11.620372    10\n",
       "hohedu           2.768104    2.656106     0\n",
       "hohsex           0.925185    0.263095    20\n",
       "hohwag         586.985312  788.133664     0\n",
       "indig            0.298324    0.457525   300\n",
       "min_dist       103.447520   42.089441     0\n",
       "sc               0.819818    0.384342  8453\n",
       "sc97             0.813922    0.389172  3872\n",
       "sex              0.512211    0.499854    24\n",
       "welfare_index  690.346564  139.491130   210"
      ]
     },
     "execution_count": 288,
     "metadata": {},
     "output_type": "execute_result"
    }
   ],
   "source": [
    "summary_mean_std = pd.concat([mean,std,missing_values],axis=1)\n",
    "\n",
    "summary_mean_std"
   ]
  },
  {
   "cell_type": "code",
   "execution_count": 179,
   "metadata": {},
   "outputs": [
    {
     "data": {
      "text/plain": [
       "array(['0', 'basal'], dtype=object)"
      ]
     },
     "execution_count": 179,
     "metadata": {},
     "output_type": "execute_result"
    }
   ],
   "source": [
    "data.progresa.unique()"
   ]
  },
  {
   "cell_type": "markdown",
   "metadata": {},
   "source": [
    "Here, we can see that the progresa variable has two unique values: 0 & basal"
   ]
  },
  {
   "cell_type": "markdown",
   "metadata": {
    "ein.tags": "worksheet-0",
    "slideshow": {
     "slide_type": "-"
    }
   },
   "source": [
    "### 1.2 Differences at baseline?\n",
    "Now let's investigate the differences in baseline.  Are the baseline (1997) demographic characteristics **for the poor**\n",
    "different in treatment and control villages?\n",
    "\n",
    "I suggest you to use a T-Test to\n",
    "determine whether there is a statistically significant difference in\n",
    "the average values of each of the variables in the dataset. Focus only\n",
    "on the data from 1997 for poor.\n",
    "\n",
    "Present your results in a single table with the following columns and 14 (or so) rows:\n",
    "\n",
    "| Variable name | Average value (Treatment villages) | Average value (Control villages) | Difference (Treat - Control) | p-value |\n",
    "|------|------|------|------|------|\n",
    "|Male|?|?|?|?|\n"
   ]
  },
  {
   "cell_type": "code",
   "execution_count": 290,
   "metadata": {},
   "outputs": [],
   "source": [
    "#Drop null values from data\n",
    "data = data.dropna()\n",
    "\n",
    "#Divide data into treatment and control\n",
    "treatment_data = data[data.progresa == 'basal']\n",
    "control_data = data[data.progresa == '0']\n",
    "\n",
    "#Get treatment and control data from 1997\n",
    "treatment_data_1997 = treatment_data[treatment_data.year == 97]\n",
    "control_data_1997 = control_data[control_data.year == 97]\n",
    "\n",
    "#Slice the data according to poor in treatment villages\n",
    "treatment_poor = treatment_data[treatment_data.poor == \"pobre\"]\n",
    "\n",
    "#Slice the data according to poor in treatment villages\n",
    "control_poor = control_data[control_data.poor == \"pobre\"]\n",
    "\n",
    "#Poor data from 1997\n",
    "treatment_poor_1997 = treatment_poor[treatment_poor.year == 97]\n",
    "#Poor data from 1998\n",
    "treatment_poor_1998 = treatment_poor[treatment_poor.year == 98]\n",
    "\n",
    "#Poor data from 1997\n",
    "control_poor_1997 = control_poor[control_poor.year == 97]\n",
    "#Poor data from 1998\n",
    "control_poor_1998 = control_poor[control_poor.year == 98]\n"
   ]
  },
  {
   "cell_type": "code",
   "execution_count": 292,
   "metadata": {
    "autoscroll": false,
    "ein.tags": "worksheet-0",
    "slideshow": {
     "slide_type": "-"
    }
   },
   "outputs": [],
   "source": [
    "#Calcaulate mean for the whole data\n",
    "x = treatment_data_1997.mean()\n",
    "y = control_data_1997.mean()\n",
    "\n",
    "#Drop unnecessary variables\n",
    "try:\n",
    "    x = x.drop('year')\n",
    "    x = x.drop('folnum')\n",
    "    x = x.drop('village')\n",
    "    y = y.drop('year')\n",
    "    y = y.drop('folnum')\n",
    "    y = y.drop('village')\n",
    "    y = y.drop('progresa')\n",
    "except:\n",
    "    print('Already dropped')    "
   ]
  },
  {
   "cell_type": "code",
   "execution_count": 294,
   "metadata": {},
   "outputs": [],
   "source": [
    "#Calculate p-values for all the variable means in treatment and control villages\n",
    "p_values = []\n",
    "\n",
    "for i in x.index:    \n",
    "    t,p = ttest_ind(control_data_1997[i].values,treatment_data_1997[i].values)\n",
    "    p_values.append(p)\n",
    "\n",
    "#Store p-values in series \n",
    "p_values = pd.Series(p_values)"
   ]
  },
  {
   "cell_type": "code",
   "execution_count": 295,
   "metadata": {},
   "outputs": [],
   "source": [
    "#Convert lists into series\n",
    "variable_name = pd.Series(x.index)\n",
    "treatment_values = pd.Series(x.values)\n",
    "control_values = pd.Series(y.values)"
   ]
  },
  {
   "cell_type": "code",
   "execution_count": 296,
   "metadata": {},
   "outputs": [],
   "source": [
    "#Create dataframe for the same\n",
    "baseline_data = pd.DataFrame(OrderedDict({'Variable':variable_name,\n",
    "                                          'Average value (Treatment villages)':treatment_values,\n",
    "                                          'Average value (Control villages)':control_values\n",
    "                                         })\n",
    "                            )"
   ]
  },
  {
   "cell_type": "code",
   "execution_count": 299,
   "metadata": {},
   "outputs": [],
   "source": [
    "#Calculate difference between means, p-value and store in dataframe\n",
    "baseline_data['Difference'] = baseline_data['Average value (Treatment villages)'] - baseline_data['Average value (Control villages)']\n",
    "baseline_data['p-value'] = p_values"
   ]
  },
  {
   "cell_type": "code",
   "execution_count": 300,
   "metadata": {},
   "outputs": [
    {
     "data": {
      "text/html": [
       "<div>\n",
       "<style scoped>\n",
       "    .dataframe tbody tr th:only-of-type {\n",
       "        vertical-align: middle;\n",
       "    }\n",
       "\n",
       "    .dataframe tbody tr th {\n",
       "        vertical-align: top;\n",
       "    }\n",
       "\n",
       "    .dataframe thead th {\n",
       "        text-align: right;\n",
       "    }\n",
       "</style>\n",
       "<table border=\"1\" class=\"dataframe\">\n",
       "  <thead>\n",
       "    <tr style=\"text-align: right;\">\n",
       "      <th></th>\n",
       "      <th>Variable</th>\n",
       "      <th>Average value (Treatment villages)</th>\n",
       "      <th>Average value (Control villages)</th>\n",
       "      <th>Difference</th>\n",
       "      <th>p-value</th>\n",
       "    </tr>\n",
       "  </thead>\n",
       "  <tbody>\n",
       "    <tr>\n",
       "      <th>0</th>\n",
       "      <td>sex</td>\n",
       "      <td>0.518543</td>\n",
       "      <td>0.504877</td>\n",
       "      <td>0.013666</td>\n",
       "      <td>1.117838e-02</td>\n",
       "    </tr>\n",
       "    <tr>\n",
       "      <th>1</th>\n",
       "      <td>indig</td>\n",
       "      <td>0.290295</td>\n",
       "      <td>0.290489</td>\n",
       "      <td>-0.000194</td>\n",
       "      <td>9.683986e-01</td>\n",
       "    </tr>\n",
       "    <tr>\n",
       "      <th>2</th>\n",
       "      <td>dist_sec</td>\n",
       "      <td>2.347972</td>\n",
       "      <td>2.361392</td>\n",
       "      <td>-0.013419</td>\n",
       "      <td>5.556978e-01</td>\n",
       "    </tr>\n",
       "    <tr>\n",
       "      <th>3</th>\n",
       "      <td>sc</td>\n",
       "      <td>0.818521</td>\n",
       "      <td>0.806699</td>\n",
       "      <td>0.011822</td>\n",
       "      <td>4.813761e-03</td>\n",
       "    </tr>\n",
       "    <tr>\n",
       "      <th>4</th>\n",
       "      <td>grc</td>\n",
       "      <td>3.869420</td>\n",
       "      <td>3.893846</td>\n",
       "      <td>-0.024426</td>\n",
       "      <td>3.651319e-01</td>\n",
       "    </tr>\n",
       "    <tr>\n",
       "      <th>5</th>\n",
       "      <td>fam_n</td>\n",
       "      <td>7.202265</td>\n",
       "      <td>7.231387</td>\n",
       "      <td>-0.029122</td>\n",
       "      <td>2.491841e-01</td>\n",
       "    </tr>\n",
       "    <tr>\n",
       "      <th>6</th>\n",
       "      <td>min_dist</td>\n",
       "      <td>104.980474</td>\n",
       "      <td>101.027534</td>\n",
       "      <td>3.952940</td>\n",
       "      <td>2.103696e-18</td>\n",
       "    </tr>\n",
       "    <tr>\n",
       "      <th>7</th>\n",
       "      <td>dist_cap</td>\n",
       "      <td>147.931958</td>\n",
       "      <td>148.957294</td>\n",
       "      <td>-1.025336</td>\n",
       "      <td>2.156679e-01</td>\n",
       "    </tr>\n",
       "    <tr>\n",
       "      <th>8</th>\n",
       "      <td>hohedu</td>\n",
       "      <td>2.857162</td>\n",
       "      <td>2.790202</td>\n",
       "      <td>0.066960</td>\n",
       "      <td>1.918241e-02</td>\n",
       "    </tr>\n",
       "    <tr>\n",
       "      <th>9</th>\n",
       "      <td>hohwag</td>\n",
       "      <td>582.701577</td>\n",
       "      <td>610.843663</td>\n",
       "      <td>-28.142085</td>\n",
       "      <td>1.071032e-03</td>\n",
       "    </tr>\n",
       "    <tr>\n",
       "      <th>10</th>\n",
       "      <td>welfare_index</td>\n",
       "      <td>689.692777</td>\n",
       "      <td>697.385084</td>\n",
       "      <td>-7.692307</td>\n",
       "      <td>3.344153e-07</td>\n",
       "    </tr>\n",
       "    <tr>\n",
       "      <th>11</th>\n",
       "      <td>hohsex</td>\n",
       "      <td>0.927293</td>\n",
       "      <td>0.922967</td>\n",
       "      <td>0.004326</td>\n",
       "      <td>1.259868e-01</td>\n",
       "    </tr>\n",
       "    <tr>\n",
       "      <th>12</th>\n",
       "      <td>hohage</td>\n",
       "      <td>44.230824</td>\n",
       "      <td>44.758499</td>\n",
       "      <td>-0.527676</td>\n",
       "      <td>2.097473e-05</td>\n",
       "    </tr>\n",
       "    <tr>\n",
       "      <th>13</th>\n",
       "      <td>age</td>\n",
       "      <td>10.881679</td>\n",
       "      <td>10.927557</td>\n",
       "      <td>-0.045878</td>\n",
       "      <td>1.695801e-01</td>\n",
       "    </tr>\n",
       "    <tr>\n",
       "      <th>14</th>\n",
       "      <td>grc97</td>\n",
       "      <td>3.869420</td>\n",
       "      <td>3.893846</td>\n",
       "      <td>-0.024426</td>\n",
       "      <td>3.651319e-01</td>\n",
       "    </tr>\n",
       "    <tr>\n",
       "      <th>15</th>\n",
       "      <td>sc97</td>\n",
       "      <td>0.818521</td>\n",
       "      <td>0.806699</td>\n",
       "      <td>0.011822</td>\n",
       "      <td>4.813761e-03</td>\n",
       "    </tr>\n",
       "  </tbody>\n",
       "</table>\n",
       "</div>"
      ],
      "text/plain": [
       "         Variable  Average value (Treatment villages)  \\\n",
       "0             sex                            0.518543   \n",
       "1           indig                            0.290295   \n",
       "2        dist_sec                            2.347972   \n",
       "3              sc                            0.818521   \n",
       "4             grc                            3.869420   \n",
       "5           fam_n                            7.202265   \n",
       "6        min_dist                          104.980474   \n",
       "7        dist_cap                          147.931958   \n",
       "8          hohedu                            2.857162   \n",
       "9          hohwag                          582.701577   \n",
       "10  welfare_index                          689.692777   \n",
       "11         hohsex                            0.927293   \n",
       "12         hohage                           44.230824   \n",
       "13            age                           10.881679   \n",
       "14          grc97                            3.869420   \n",
       "15           sc97                            0.818521   \n",
       "\n",
       "    Average value (Control villages)  Difference       p-value  \n",
       "0                           0.504877    0.013666  1.117838e-02  \n",
       "1                           0.290489   -0.000194  9.683986e-01  \n",
       "2                           2.361392   -0.013419  5.556978e-01  \n",
       "3                           0.806699    0.011822  4.813761e-03  \n",
       "4                           3.893846   -0.024426  3.651319e-01  \n",
       "5                           7.231387   -0.029122  2.491841e-01  \n",
       "6                         101.027534    3.952940  2.103696e-18  \n",
       "7                         148.957294   -1.025336  2.156679e-01  \n",
       "8                           2.790202    0.066960  1.918241e-02  \n",
       "9                         610.843663  -28.142085  1.071032e-03  \n",
       "10                        697.385084   -7.692307  3.344153e-07  \n",
       "11                          0.922967    0.004326  1.259868e-01  \n",
       "12                         44.758499   -0.527676  2.097473e-05  \n",
       "13                         10.927557   -0.045878  1.695801e-01  \n",
       "14                          3.893846   -0.024426  3.651319e-01  \n",
       "15                          0.806699    0.011822  4.813761e-03  "
      ]
     },
     "execution_count": 300,
     "metadata": {},
     "output_type": "execute_result"
    }
   ],
   "source": [
    "baseline_data"
   ]
  },
  {
   "cell_type": "markdown",
   "metadata": {
    "ein.tags": "worksheet-0",
    "slideshow": {
     "slide_type": "-"
    }
   },
   "source": [
    "### 1.3 Interpretation\n",
    "\n",
    "* A: Are there statistically significant differences between treatment and control villages as baseline? \n",
    "* B: Why does it matter if there are differences at baseline?\n",
    "* C: What does this imply about how to measure the impact of the treatment?"
   ]
  },
  {
   "cell_type": "markdown",
   "metadata": {
    "ein.tags": "worksheet-0",
    "slideshow": {
     "slide_type": "-"
    }
   },
   "source": [
    "* A: There are three variables which have a strong statistically significant difference between treatment and control villages\n",
    "* B: Why does it matter if there are differences at baseline?\n",
    "* C: What does this imply about how to measure the impact of the treatment?"
   ]
  },
  {
   "cell_type": "markdown",
   "metadata": {
    "ein.tags": "worksheet-0",
    "slideshow": {
     "slide_type": "-"
    }
   },
   "source": [
    "### 1.4 Graphical exploration, part 1\n",
    "\n",
    "For each level of household head education, compute the average\n",
    "enrollment rate in 1997. Create a scatterplot that shows this\n",
    "relationship. What do you notice?"
   ]
  },
  {
   "cell_type": "code",
   "execution_count": 33,
   "metadata": {
    "autoscroll": false,
    "ein.tags": "worksheet-0",
    "slideshow": {
     "slide_type": "-"
    }
   },
   "outputs": [
    {
     "data": {
      "image/png": "[encoded data removed]",
      "text/plain": [
       "<Figure size 432x288 with 1 Axes>"
      ]
     },
     "metadata": {},
     "output_type": "display_data"
    }
   ],
   "source": [
    "# Your code here\n",
    "\n",
    "x = data.groupby(['hohedu'])['sc97'].mean()\n",
    "y = x.values\n",
    "x = data.hohedu.unique()\n",
    "plt.scatter(x,y)\n",
    "plt.show()"
   ]
  },
  {
   "cell_type": "markdown",
   "metadata": {
    "ein.tags": "worksheet-0",
    "slideshow": {
     "slide_type": "-"
    }
   },
   "source": [
    "Here we ssee an increasing trend till 19 and then a sudden drop at hohedu 20"
   ]
  },
  {
   "cell_type": "markdown",
   "metadata": {
    "ein.tags": "worksheet-0",
    "slideshow": {
     "slide_type": "-"
    }
   },
   "source": [
    "### 1.5 Graphical exploration, part 2\n",
    "\n",
    "Create a histogram of village enrollment rates **among poor households\n",
    "in treated villages**, before and after treatment.  Specifically, for\n",
    "each village, calculate the average rate of enrollment of poor\n",
    "households in treated villages in 1997, then compute the average rate\n",
    "of enrollment of poor households in treated villages in 1998. Create\n",
    "two separate histograms showing the distribution of these average\n",
    "enrollments rates, one histogram for 1997 and one histogram for\n",
    "1998. On each histogram, draw a vertical line that intersects the\n",
    "x-axis at the average value (across all households). Does there appear\n",
    "to be a difference? Is this difference statistically significant?"
   ]
  },
  {
   "cell_type": "code",
   "execution_count": 243,
   "metadata": {},
   "outputs": [
    {
     "data": {
      "image/png": "[encoded data removed]",
      "text/plain": [
       "<Figure size 432x288 with 1 Axes>"
      ]
     },
     "metadata": {},
     "output_type": "display_data"
    }
   ],
   "source": [
    "\n",
    "x = treatment_poor_1997.groupby(['village'])['sc97'].mean()\n",
    "plt.hist(x, bins = 30)\n",
    "plt.show()"
   ]
  },
  {
   "cell_type": "code",
   "execution_count": 246,
   "metadata": {},
   "outputs": [
    {
     "data": {
      "image/png": "[encoded data removed]",
      "text/plain": [
       "<Figure size 432x288 with 1 Axes>"
      ]
     },
     "metadata": {},
     "output_type": "display_data"
    }
   ],
   "source": [
    "\n",
    "y = treatment_poor_1998.groupby(['village'])['sc97'].mean()\n",
    "plt.hist(y,bins = 30)\n",
    "plt.show()"
   ]
  },
  {
   "cell_type": "markdown",
   "metadata": {
    "ein.tags": "worksheet-0",
    "slideshow": {
     "slide_type": "-"
    }
   },
   "source": [
    "*Discuss your results here*"
   ]
  },
  {
   "cell_type": "markdown",
   "metadata": {
    "ein.tags": "worksheet-0",
    "slideshow": {
     "slide_type": "-"
    }
   },
   "source": [
    "## Part 2: Measuring Impact\n",
    "\n",
    "Our goal is to estimate the causal impact of the PROGRESA program on\n",
    "the social and economic outcomes of individuals in Mexico. We will\n",
    "focus on the impact of the program on the poor (those with\n",
    "poor=='pobre'), since only the poor were eligible to receive the\n",
    "PROGRESA assistance.\n",
    "\n",
    "### 2.1 Cross-Sectional Estimator: T-test\n",
    "\n",
    "Begin by estimating the impact of Progresa using \"simple differences.\"\n",
    "Restricting yourself to data from 1998 (after treatment), calculate\n",
    "the average enrollment rate among **poor** households in the Treatment\n",
    "villages and the average enrollment rate among **poor** households in\n",
    "the control villages. Use a t-test to determine if this difference is\n",
    "statistically significant. What do you conclude?"
   ]
  },
  {
   "cell_type": "code",
   "execution_count": 1,
   "metadata": {
    "autoscroll": false,
    "ein.tags": "worksheet-0",
    "slideshow": {
     "slide_type": "-"
    }
   },
   "outputs": [
    {
     "ename": "NameError",
     "evalue": "name 'treatment_data' is not defined",
     "output_type": "error",
     "traceback": [
      "\u001b[1;31m---------------------------------------------------------------------------\u001b[0m",
      "\u001b[1;31mNameError\u001b[0m                                 Traceback (most recent call last)",
      "\u001b[1;32m<ipython-input-1-2f79525f8668>\u001b[0m in \u001b[0;36m<module>\u001b[1;34m()\u001b[0m\n\u001b[0;32m      1\u001b[0m \u001b[1;31m#Slice the data according to poor in treatment villages\u001b[0m\u001b[1;33m\u001b[0m\u001b[1;33m\u001b[0m\u001b[0m\n\u001b[1;32m----> 2\u001b[1;33m \u001b[0mtreatment_poor\u001b[0m \u001b[1;33m=\u001b[0m \u001b[0mtreatment_data\u001b[0m\u001b[1;33m[\u001b[0m\u001b[0mtreatment_data\u001b[0m\u001b[1;33m.\u001b[0m\u001b[0mpoor\u001b[0m \u001b[1;33m==\u001b[0m \u001b[1;34m\"pobre\"\u001b[0m\u001b[1;33m]\u001b[0m\u001b[1;33m\u001b[0m\u001b[0m\n\u001b[0m\u001b[0;32m      3\u001b[0m \u001b[1;33m\u001b[0m\u001b[0m\n\u001b[0;32m      4\u001b[0m \u001b[1;31m#Slice the data according to poor in treatment villages\u001b[0m\u001b[1;33m\u001b[0m\u001b[1;33m\u001b[0m\u001b[0m\n\u001b[0;32m      5\u001b[0m \u001b[0mcontrol_poor\u001b[0m \u001b[1;33m=\u001b[0m \u001b[0mcontrol_data\u001b[0m\u001b[1;33m[\u001b[0m\u001b[0mcontrol_data\u001b[0m\u001b[1;33m.\u001b[0m\u001b[0mpoor\u001b[0m \u001b[1;33m==\u001b[0m \u001b[1;34m\"pobre\"\u001b[0m\u001b[1;33m]\u001b[0m\u001b[1;33m\u001b[0m\u001b[0m\n",
      "\u001b[1;31mNameError\u001b[0m: name 'treatment_data' is not defined"
     ]
    }
   ],
   "source": [
    "\n",
    "\n",
    "data_1998 = data[data['year'] == 98]\n",
    "poor_1998 = data_1998[data_1998['poor'] == 'pobre']\n",
    "\n",
    "poor_data = data[data['poor'] == 'pobre']"
   ]
  },
  {
   "cell_type": "code",
   "execution_count": 277,
   "metadata": {
    "autoscroll": false,
    "ein.tags": "worksheet-0",
    "slideshow": {
     "slide_type": "-"
    }
   },
   "outputs": [
    {
     "name": "stdout",
     "output_type": "stream",
     "text": [
      "0.849257030578411\n",
      "0.810923092511906\n"
     ]
    },
    {
     "data": {
      "text/plain": [
       "Ttest_indResult(statistic=8.101650305300375, pvalue=5.656455605358843e-16)"
      ]
     },
     "execution_count": 277,
     "metadata": {},
     "output_type": "execute_result"
    }
   ],
   "source": [
    "#\n",
    "print(treatment_poor_1998.sc.dropna().mean())\n",
    "print(control_poor_1998.sc.dropna().mean())\n",
    "ttest_ind(treatment_poor_1998.sc.values,control_poor_1998.sc.values)"
   ]
  },
  {
   "cell_type": "markdown",
   "metadata": {
    "ein.tags": "worksheet-0",
    "slideshow": {
     "slide_type": "-"
    }
   },
   "source": [
    "*Discuss your results here*"
   ]
  },
  {
   "cell_type": "markdown",
   "metadata": {
    "ein.tags": "worksheet-0",
    "slideshow": {
     "slide_type": "-"
    }
   },
   "source": [
    "### 2.2 Cross-Sectional Estimator: Regression\n",
    "\n",
    "Estimate the effects of Progresa on enrollment using a regression\n",
    "model, by regressing the 1998 enrollment rates **of the poor** on\n",
    "treatment assignment.  Do not include any additional control\n",
    "variables.\n",
    "Discuss the following:\n",
    "\n",
    "* Based on this model, how much did Progresa increase the likelihood of a child enrolling?\n",
    "* How does your regression estimate compare to your t-test estimate from part 2.1?\n",
    "* Based on this regression model, can we reject the null hypothesis that the treatment effects are zero? \n",
    "* What is the counterfactual assumption underlying this regression?\n",
    "\n",
    "Note: I recommend to use statsmodels.formula.api as this allows to use\n",
    "convenient R-style formulas and provedes nice summaries of the results."
   ]
  },
  {
   "cell_type": "code",
   "execution_count": 279,
   "metadata": {
    "autoscroll": false,
    "ein.tags": "worksheet-0",
    "slideshow": {
     "slide_type": "-"
    }
   },
   "outputs": [
    {
     "name": "stdout",
     "output_type": "stream",
     "text": [
      "                            OLS Regression Results                            \n",
      "==============================================================================\n",
      "Dep. Variable:                     sc   R-squared:                       0.003\n",
      "Model:                            OLS   Adj. R-squared:                  0.002\n",
      "Method:                 Least Squares   F-statistic:                     65.64\n",
      "Date:                Sat, 28 Apr 2018   Prob (F-statistic):           5.66e-16\n",
      "Time:                        23:41:59   Log-Likelihood:                -11171.\n",
      "No. Observations:               26155   AIC:                         2.235e+04\n",
      "Df Residuals:                   26153   BIC:                         2.236e+04\n",
      "Df Model:                           1                                         \n",
      "Covariance Type:            nonrobust                                         \n",
      "=====================================================================================\n",
      "                        coef    std err          t      P>|t|      [0.025      0.975]\n",
      "-------------------------------------------------------------------------------------\n",
      "Intercept             0.8109      0.004    217.190      0.000       0.804       0.818\n",
      "progresa[T.basal]     0.0383      0.005      8.102      0.000       0.029       0.048\n",
      "==============================================================================\n",
      "Omnibus:                     7487.800   Durbin-Watson:                   1.734\n",
      "Prob(Omnibus):                  0.000   Jarque-Bera (JB):            15756.374\n",
      "Skew:                          -1.796   Prob(JB):                         0.00\n",
      "Kurtosis:                       4.245   Cond. No.                         3.02\n",
      "==============================================================================\n",
      "\n",
      "Warnings:\n",
      "[1] Standard Errors assume that the covariance matrix of the errors is correctly specified.\n"
     ]
    }
   ],
   "source": [
    "#First, we convert the progresa variable to a binary one\n",
    "linRegm = smf.ols(formula = 'sc ~ progresa',data=poor_1998).fit()\n",
    "print(linRegm.summary())"
   ]
  },
  {
   "cell_type": "markdown",
   "metadata": {
    "ein.tags": "worksheet-0",
    "slideshow": {
     "slide_type": "-"
    }
   },
   "source": [
    "*Discuss your results here*"
   ]
  },
  {
   "cell_type": "markdown",
   "metadata": {
    "ein.tags": "worksheet-0",
    "slideshow": {
     "slide_type": "-"
    }
   },
   "source": [
    "### 2.3 Multiple Regression\n",
    "\n",
    "Re-run the above regression estimated but this time include a set of\n",
    "relevant control variables. Include, for instance, age, distance to a secondary\n",
    "school, gender, education of household head, welfare index,\n",
    "indigenous, etc.\n",
    "\n",
    "* How do the controls affect the point estimate of treatment effect?\n",
    "* How do the controls affect the standard error on the treatment effect? \n",
    "* How do you interpret the differences (or similarities) between your estimates of 2.2 and 2.3?"
   ]
  },
  {
   "cell_type": "code",
   "execution_count": 283,
   "metadata": {
    "autoscroll": false,
    "ein.tags": "worksheet-0",
    "slideshow": {
     "slide_type": "-"
    }
   },
   "outputs": [
    {
     "name": "stdout",
     "output_type": "stream",
     "text": [
      "                            OLS Regression Results                            \n",
      "==============================================================================\n",
      "Dep. Variable:                     sc   R-squared:                       0.263\n",
      "Model:                            OLS   Adj. R-squared:                  0.263\n",
      "Method:                 Least Squares   F-statistic:                     1557.\n",
      "Date:                Sat, 28 Apr 2018   Prob (F-statistic):               0.00\n",
      "Time:                        23:51:14   Log-Likelihood:                -7208.4\n",
      "No. Observations:               26155   AIC:                         1.443e+04\n",
      "Df Residuals:                   26148   BIC:                         1.449e+04\n",
      "Df Model:                           6                                         \n",
      "Covariance Type:            nonrobust                                         \n",
      "=====================================================================================\n",
      "                        coef    std err          t      P>|t|      [0.025      0.975]\n",
      "-------------------------------------------------------------------------------------\n",
      "Intercept             1.5206      0.010    157.308      0.000       1.502       1.539\n",
      "progresa[T.basal]     0.0349      0.004      8.590      0.000       0.027       0.043\n",
      "age                  -0.0650      0.001    -92.563      0.000      -0.066      -0.064\n",
      "dist_sec             -0.0110      0.001    -11.804      0.000      -0.013      -0.009\n",
      "sex                   0.0308      0.004      7.809      0.000       0.023       0.039\n",
      "hohedu                0.0082      0.001     10.346      0.000       0.007       0.010\n",
      "indig                 0.0494      0.004     11.684      0.000       0.041       0.058\n",
      "==============================================================================\n",
      "Omnibus:                     3020.420   Durbin-Watson:                   1.718\n",
      "Prob(Omnibus):                  0.000   Jarque-Bera (JB):             4179.881\n",
      "Skew:                          -0.968   Prob(JB):                         0.00\n",
      "Kurtosis:                       3.293   Cond. No.                         61.1\n",
      "==============================================================================\n",
      "\n",
      "Warnings:\n",
      "[1] Standard Errors assume that the covariance matrix of the errors is correctly specified.\n"
     ]
    }
   ],
   "source": [
    "# Your code here\n",
    "linRegm = smf.ols(formula = 'sc ~ age + dist_sec + sex + hohedu + indig + progresa',data=poor_1998).fit()\n",
    "print(linRegm.summary())"
   ]
  },
  {
   "cell_type": "markdown",
   "metadata": {
    "ein.tags": "worksheet-0",
    "slideshow": {
     "slide_type": "-"
    }
   },
   "source": [
    "*Discuss your results here*"
   ]
  },
  {
   "cell_type": "markdown",
   "metadata": {
    "ein.tags": "worksheet-0",
    "slideshow": {
     "slide_type": "-"
    }
   },
   "source": [
    "### 2.4 Difference-in-Difference, version 1 (tabular)\n",
    "\n",
    "Thus far, we have computed the effects of Progresa by estimating the\n",
    "difference in 1998 enrollment rates across villages. An alternative\n",
    "approach would be to compute the treatment effect using a\n",
    "difference-in-differences framework.\n",
    "\n",
    "Begin by estimating the average treatment effects of the program for poor households using data from 1997 and 1998. Specifically, calculate:\n",
    "\n",
    "a) the difference (between 1997 and 1998) in enrollment rates among poor households in treated villages\n",
    "\n",
    "b) the difference (between 1997 and 1998) in enrollment rates among poor households in control villages.\n",
    "\n",
    "c) The difference between these two differences is your estimate.\n",
    "\n",
    "* What is your estimate of the impact, and how does it compare to your earlier (simple difference) results?\n",
    "\n",
    "* What is the counterfactual assumption underlying this estimate? \n"
   ]
  },
  {
   "cell_type": "code",
   "execution_count": 306,
   "metadata": {
    "autoscroll": false,
    "ein.tags": "worksheet-0",
    "slideshow": {
     "slide_type": "-"
    }
   },
   "outputs": [
    {
     "name": "stdout",
     "output_type": "stream",
     "text": [
      "0.030702973230652075\n"
     ]
    }
   ],
   "source": [
    "#Difference in treatment\n",
    "difference_treated_poor = treatment_poor_1998.sc.mean() - treatment_poor_1997.sc.mean() \n",
    "\n",
    "difference_control_poor = control_poor_1998.sc.mean() - control_poor_1997.sc.mean()\n",
    "\n",
    "difference_in_difference = difference_treated_poor - difference_control_poor\n",
    "print(difference_in_difference)"
   ]
  },
  {
   "cell_type": "markdown",
   "metadata": {
    "ein.tags": "worksheet-0",
    "slideshow": {
     "slide_type": "-"
    }
   },
   "source": [
    "*Discuss your results here*"
   ]
  },
  {
   "cell_type": "markdown",
   "metadata": {
    "ein.tags": "worksheet-0",
    "slideshow": {
     "slide_type": "-"
    }
   },
   "source": [
    "### 2.5 Difference-in-Difference, version 2 (regression)\n",
    "\n",
    "Now use a regression specification to estimate the average treatment\n",
    "effects of the program in a difference-in-differences\n",
    "framework. Include at least 5 control variables.\n",
    "\n",
    "* What is your estimate of the impact of Progresa? Be very specific in\n",
    "  interpreting your coefficients and standard errors, and make sure to\n",
    "  specify exactly what units you are measuring and estimating.\n",
    "\n",
    "* How do these estimates of the treatment effect compare to the\n",
    "  estimates based on the simple difference?\n",
    "\n",
    "* How do these estimates compare to the difference-in-difference\n",
    "  estimates from 2.4 above? What accounts for these differences?\n",
    "\n",
    "* What is the counterfactual assumption underlying this regression? "
   ]
  },
  {
   "cell_type": "code",
   "execution_count": 317,
   "metadata": {
    "autoscroll": false,
    "ein.tags": "worksheet-0",
    "slideshow": {
     "slide_type": "-"
    }
   },
   "outputs": [
    {
     "name": "stderr",
     "output_type": "stream",
     "text": [
      "c:\\users\\iguest\\appdata\\local\\programs\\python\\python36\\lib\\site-packages\\ipykernel_launcher.py:8: SettingWithCopyWarning: \n",
      "A value is trying to be set on a copy of a slice from a DataFrame.\n",
      "Try using .loc[row_indexer,col_indexer] = value instead\n",
      "\n",
      "See the caveats in the documentation: http://pandas.pydata.org/pandas-docs/stable/indexing.html#indexing-view-versus-copy\n",
      "  \n"
     ]
    },
    {
     "data": {
      "text/html": [
       "<table class=\"simpletable\">\n",
       "<caption>OLS Regression Results</caption>\n",
       "<tr>\n",
       "  <th>Dep. Variable:</th>           <td>sc</td>        <th>  R-squared:         </th> <td>   0.273</td> \n",
       "</tr>\n",
       "<tr>\n",
       "  <th>Model:</th>                   <td>OLS</td>       <th>  Adj. R-squared:    </th> <td>   0.273</td> \n",
       "</tr>\n",
       "<tr>\n",
       "  <th>Method:</th>             <td>Least Squares</td>  <th>  F-statistic:       </th> <td>   3055.</td> \n",
       "</tr>\n",
       "<tr>\n",
       "  <th>Date:</th>             <td>Sun, 29 Apr 2018</td> <th>  Prob (F-statistic):</th>  <td>  0.00</td>  \n",
       "</tr>\n",
       "<tr>\n",
       "  <th>Time:</th>                 <td>20:06:06</td>     <th>  Log-Likelihood:    </th> <td> -16378.</td> \n",
       "</tr>\n",
       "<tr>\n",
       "  <th>No. Observations:</th>      <td> 56893</td>      <th>  AIC:               </th> <td>3.277e+04</td>\n",
       "</tr>\n",
       "<tr>\n",
       "  <th>Df Residuals:</th>          <td> 56885</td>      <th>  BIC:               </th> <td>3.284e+04</td>\n",
       "</tr>\n",
       "<tr>\n",
       "  <th>Df Model:</th>              <td>     7</td>      <th>                     </th>     <td> </td>    \n",
       "</tr>\n",
       "<tr>\n",
       "  <th>Covariance Type:</th>      <td>nonrobust</td>    <th>                     </th>     <td> </td>    \n",
       "</tr>\n",
       "</table>\n",
       "<table class=\"simpletable\">\n",
       "<tr>\n",
       "             <td></td>               <th>coef</th>     <th>std err</th>      <th>t</th>      <th>P>|t|</th>  <th>[0.025</th>    <th>0.975]</th>  \n",
       "</tr>\n",
       "<tr>\n",
       "  <th>Intercept</th>              <td>    1.5042</td> <td>    0.006</td> <td>  232.017</td> <td> 0.000</td> <td>    1.491</td> <td>    1.517</td>\n",
       "</tr>\n",
       "<tr>\n",
       "  <th>progresa[T.basal]</th>      <td>    0.0039</td> <td>    0.004</td> <td>    1.039</td> <td> 0.299</td> <td>   -0.003</td> <td>    0.011</td>\n",
       "</tr>\n",
       "<tr>\n",
       "  <th>post</th>                   <td>    0.0321</td> <td>    0.004</td> <td>    7.260</td> <td> 0.000</td> <td>    0.023</td> <td>    0.041</td>\n",
       "</tr>\n",
       "<tr>\n",
       "  <th>progresa[T.basal]:post</th> <td>    0.0308</td> <td>    0.006</td> <td>    5.497</td> <td> 0.000</td> <td>    0.020</td> <td>    0.042</td>\n",
       "</tr>\n",
       "<tr>\n",
       "  <th>age</th>                    <td>   -0.0651</td> <td>    0.000</td> <td> -141.727</td> <td> 0.000</td> <td>   -0.066</td> <td>   -0.064</td>\n",
       "</tr>\n",
       "<tr>\n",
       "  <th>dist_sec</th>               <td>   -0.0099</td> <td>    0.001</td> <td>  -15.627</td> <td> 0.000</td> <td>   -0.011</td> <td>   -0.009</td>\n",
       "</tr>\n",
       "<tr>\n",
       "  <th>sex</th>                    <td>    0.0339</td> <td>    0.003</td> <td>   12.505</td> <td> 0.000</td> <td>    0.029</td> <td>    0.039</td>\n",
       "</tr>\n",
       "<tr>\n",
       "  <th>hohedu</th>                 <td>    0.0075</td> <td>    0.001</td> <td>   13.902</td> <td> 0.000</td> <td>    0.006</td> <td>    0.009</td>\n",
       "</tr>\n",
       "</table>\n",
       "<table class=\"simpletable\">\n",
       "<tr>\n",
       "  <th>Omnibus:</th>       <td>5587.387</td> <th>  Durbin-Watson:     </th> <td>   1.474</td>\n",
       "</tr>\n",
       "<tr>\n",
       "  <th>Prob(Omnibus):</th>  <td> 0.000</td>  <th>  Jarque-Bera (JB):  </th> <td>7415.800</td>\n",
       "</tr>\n",
       "<tr>\n",
       "  <th>Skew:</th>           <td>-0.882</td>  <th>  Prob(JB):          </th> <td>    0.00</td>\n",
       "</tr>\n",
       "<tr>\n",
       "  <th>Kurtosis:</th>       <td> 3.133</td>  <th>  Cond. No.          </th> <td>    70.6</td>\n",
       "</tr>\n",
       "</table>"
      ],
      "text/plain": [
       "<class 'statsmodels.iolib.summary.Summary'>\n",
       "\"\"\"\n",
       "                            OLS Regression Results                            \n",
       "==============================================================================\n",
       "Dep. Variable:                     sc   R-squared:                       0.273\n",
       "Model:                            OLS   Adj. R-squared:                  0.273\n",
       "Method:                 Least Squares   F-statistic:                     3055.\n",
       "Date:                Sun, 29 Apr 2018   Prob (F-statistic):               0.00\n",
       "Time:                        20:06:06   Log-Likelihood:                -16378.\n",
       "No. Observations:               56893   AIC:                         3.277e+04\n",
       "Df Residuals:                   56885   BIC:                         3.284e+04\n",
       "Df Model:                           7                                         \n",
       "Covariance Type:            nonrobust                                         \n",
       "==========================================================================================\n",
       "                             coef    std err          t      P>|t|      [0.025      0.975]\n",
       "------------------------------------------------------------------------------------------\n",
       "Intercept                  1.5042      0.006    232.017      0.000       1.491       1.517\n",
       "progresa[T.basal]          0.0039      0.004      1.039      0.299      -0.003       0.011\n",
       "post                       0.0321      0.004      7.260      0.000       0.023       0.041\n",
       "progresa[T.basal]:post     0.0308      0.006      5.497      0.000       0.020       0.042\n",
       "age                       -0.0651      0.000   -141.727      0.000      -0.066      -0.064\n",
       "dist_sec                  -0.0099      0.001    -15.627      0.000      -0.011      -0.009\n",
       "sex                        0.0339      0.003     12.505      0.000       0.029       0.039\n",
       "hohedu                     0.0075      0.001     13.902      0.000       0.006       0.009\n",
       "==============================================================================\n",
       "Omnibus:                     5587.387   Durbin-Watson:                   1.474\n",
       "Prob(Omnibus):                  0.000   Jarque-Bera (JB):             7415.800\n",
       "Skew:                          -0.882   Prob(JB):                         0.00\n",
       "Kurtosis:                       3.133   Cond. No.                         70.6\n",
       "==============================================================================\n",
       "\n",
       "Warnings:\n",
       "[1] Standard Errors assume that the covariance matrix of the errors is correctly specified.\n",
       "\"\"\""
      ]
     },
     "execution_count": 317,
     "metadata": {},
     "output_type": "execute_result"
    }
   ],
   "source": [
    "# Your code here\n",
    "\n",
    "def  pre_post(year):\n",
    "    if year == 97:\n",
    "        return 0 \n",
    "    else:\n",
    "        return 1\n",
    "poor_data['post'] = [pre_post(x) for x in poor_data['year']]\n",
    "result = smf.ols(formula=\"sc ~ progresa + post + progresa:post + age + dist_sec + sex + hohedu \", data=poor_data, missing='drop').fit()\n",
    "result.summary()"
   ]
  },
  {
   "cell_type": "markdown",
   "metadata": {
    "ein.tags": "worksheet-0",
    "slideshow": {
     "slide_type": "-"
    }
   },
   "source": [
    "*Discuss your results here*"
   ]
  },
  {
   "cell_type": "markdown",
   "metadata": {
    "ein.tags": "worksheet-0",
    "slideshow": {
     "slide_type": "-"
    }
   },
   "source": [
    "### 2.6 Summary\n",
    "\n",
    "* Based on all the analysis you have undertaken to date, do you\n",
    "  believe that Progresa had a causal impact on the enrollment rates of\n",
    "  poor households in Mexico?  Explain by referring to the methods and\n",
    "  results above."
   ]
  },
  {
   "cell_type": "markdown",
   "metadata": {
    "ein.tags": "worksheet-0",
    "slideshow": {
     "slide_type": "-"
    }
   },
   "source": [
    "*Discuss your results here*"
   ]
  }
 ],
 "metadata": {
  "kernelspec": {
   "display_name": "Python 3",
   "language": "python",
   "name": "python3"
  },
  "language_info": {
   "codemirror_mode": {
    "name": "ipython",
    "version": 3
   },
   "file_extension": ".py",
   "mimetype": "text/x-python",
   "name": "python",
   "nbconvert_exporter": "python",
   "pygments_lexer": "ipython3",
   "version": "3.6.4"
  },
  "name": "ps03_progresa.ipynb"
 },
 "nbformat": 4,
 "nbformat_minor": 1
}
