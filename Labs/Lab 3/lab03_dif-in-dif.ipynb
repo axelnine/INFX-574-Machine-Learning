{
 "cells": [
  {
   "cell_type": "markdown",
   "metadata": {},
   "source": [
    "# Lab 3\n",
    "\n",
    "## Prem Shah"
   ]
  },
  {
   "cell_type": "code",
   "execution_count": 3,
   "metadata": {
    "autoscroll": false,
    "ein.tags": "worksheet-0",
    "slideshow": {
     "slide_type": "-"
    }
   },
   "outputs": [],
   "source": [
    "import numpy as np\n",
    "import pandas as pd\n",
    "import statsmodels.formula.api as smf\n",
    "import matplotlib.pyplot as plt\n",
    "%matplotlib inline"
   ]
  },
  {
   "cell_type": "code",
   "execution_count": null,
   "metadata": {},
   "outputs": [],
   "source": []
  },
  {
   "cell_type": "markdown",
   "metadata": {
    "ein.tags": "worksheet-0",
    "slideshow": {
     "slide_type": "-"
    }
   },
   "source": [
    "### 1.1 Before - After\n",
    "    "
   ]
  },
  {
   "cell_type": "code",
   "execution_count": 5,
   "metadata": {
    "autoscroll": false,
    "ein.tags": "worksheet-0",
    "slideshow": {
     "slide_type": "-"
    }
   },
   "outputs": [
    {
     "name": "stdout",
     "output_type": "stream",
     "text": [
      "   year  age sex  meth  tv state\n",
      "0  2003   13   M     0   1    XX\n",
      "1  2003   13   M     1   1    XX\n",
      "2  2003   13   M     1   1    XX\n",
      "3  2003   13   M     0   1    XX\n",
      "4  2003   13   M     0   0    XX\n",
      "(58077, 6)\n",
      "[2003 2005 2007 2009]\n",
      "[13 14 15 16 17]\n",
      "['M' 'F']\n",
      "[0 1]\n",
      "[1 0]\n",
      "['XX' 'MT']\n"
     ]
    }
   ],
   "source": [
    "yrbs = pd.read_table('data/yrbs.tsv.bz2')\n",
    "print(yrbs.head())\n",
    "print(yrbs.shape)\n",
    "print(yrbs.year.unique())\n",
    "print(yrbs.age.unique())\n",
    "print(yrbs.sex.unique())\n",
    "print(yrbs.meth.unique())\n",
    "print(yrbs.tv.unique())\n",
    "print(yrbs.state.unique())\n"
   ]
  },
  {
   "cell_type": "code",
   "execution_count": 50,
   "metadata": {},
   "outputs": [
    {
     "name": "stdout",
     "output_type": "stream",
     "text": [
      "year      False\n",
      "age       False\n",
      "sex       False\n",
      "meth      False\n",
      "tv        False\n",
      "state     False\n",
      "before    False\n",
      "dtype: bool\n"
     ]
    }
   ],
   "source": [
    "print(pd.isnull(yrbs).any() )"
   ]
  },
  {
   "cell_type": "markdown",
   "metadata": {},
   "source": [
    "From the above result, we can say that there is no missing data"
   ]
  },
  {
   "cell_type": "code",
   "execution_count": 18,
   "metadata": {},
   "outputs": [
    {
     "data": {
      "text/html": [
       "<div>\n",
       "<style scoped>\n",
       "    .dataframe tbody tr th:only-of-type {\n",
       "        vertical-align: middle;\n",
       "    }\n",
       "\n",
       "    .dataframe tbody tr th {\n",
       "        vertical-align: top;\n",
       "    }\n",
       "\n",
       "    .dataframe thead th {\n",
       "        text-align: right;\n",
       "    }\n",
       "</style>\n",
       "<table border=\"1\" class=\"dataframe\">\n",
       "  <thead>\n",
       "    <tr style=\"text-align: right;\">\n",
       "      <th></th>\n",
       "      <th>year</th>\n",
       "      <th>age</th>\n",
       "      <th>sex</th>\n",
       "      <th>meth</th>\n",
       "      <th>tv</th>\n",
       "      <th>state</th>\n",
       "      <th>before</th>\n",
       "    </tr>\n",
       "  </thead>\n",
       "  <tbody>\n",
       "    <tr>\n",
       "      <th>0</th>\n",
       "      <td>2003</td>\n",
       "      <td>13</td>\n",
       "      <td>M</td>\n",
       "      <td>0</td>\n",
       "      <td>1</td>\n",
       "      <td>XX</td>\n",
       "      <td>0</td>\n",
       "    </tr>\n",
       "    <tr>\n",
       "      <th>1</th>\n",
       "      <td>2003</td>\n",
       "      <td>13</td>\n",
       "      <td>M</td>\n",
       "      <td>1</td>\n",
       "      <td>1</td>\n",
       "      <td>XX</td>\n",
       "      <td>0</td>\n",
       "    </tr>\n",
       "    <tr>\n",
       "      <th>2</th>\n",
       "      <td>2003</td>\n",
       "      <td>13</td>\n",
       "      <td>M</td>\n",
       "      <td>1</td>\n",
       "      <td>1</td>\n",
       "      <td>XX</td>\n",
       "      <td>0</td>\n",
       "    </tr>\n",
       "    <tr>\n",
       "      <th>3</th>\n",
       "      <td>2003</td>\n",
       "      <td>13</td>\n",
       "      <td>M</td>\n",
       "      <td>0</td>\n",
       "      <td>1</td>\n",
       "      <td>XX</td>\n",
       "      <td>0</td>\n",
       "    </tr>\n",
       "    <tr>\n",
       "      <th>4</th>\n",
       "      <td>2003</td>\n",
       "      <td>13</td>\n",
       "      <td>M</td>\n",
       "      <td>0</td>\n",
       "      <td>0</td>\n",
       "      <td>XX</td>\n",
       "      <td>0</td>\n",
       "    </tr>\n",
       "  </tbody>\n",
       "</table>\n",
       "</div>"
      ],
      "text/plain": [
       "   year  age sex  meth  tv state  before\n",
       "0  2003   13   M     0   1    XX       0\n",
       "1  2003   13   M     1   1    XX       0\n",
       "2  2003   13   M     1   1    XX       0\n",
       "3  2003   13   M     0   1    XX       0\n",
       "4  2003   13   M     0   0    XX       0"
      ]
     },
     "execution_count": 18,
     "metadata": {},
     "output_type": "execute_result"
    }
   ],
   "source": [
    "conditions = [\n",
    "    (yrbs['year'] == 2003) | (yrbs['year'] == 2005),\n",
    "    (yrbs['year'] == 2007) | (yrbs['year'] == 2009)]\n",
    "choices = [0,1]\n",
    "yrbs['before'] = np.select(conditions, choices, default=0)\n",
    "yrbs.head()"
   ]
  },
  {
   "cell_type": "markdown",
   "metadata": {},
   "source": [
    "Here, we compute an additional variable before which is 0 if the year is 2003/2005 and 1 if the year is 2007/2009."
   ]
  },
  {
   "cell_type": "markdown",
   "metadata": {
    "ein.tags": "worksheet-0",
    "slideshow": {
     "slide_type": "-"
    }
   },
   "source": [
    "## 1.2 Graphical Exploration"
   ]
  },
  {
   "cell_type": "code",
   "execution_count": 7,
   "metadata": {
    "autoscroll": false,
    "ein.tags": "worksheet-0",
    "slideshow": {
     "slide_type": "-"
    }
   },
   "outputs": [
    {
     "data": {
      "image/png": "[encoded data removed]",
      "text/plain": [
       "<Figure size 432x288 with 1 Axes>"
      ]
     },
     "metadata": {},
     "output_type": "display_data"
    }
   ],
   "source": [
    "ym = yrbs.groupby(['year', 'state']).meth.mean().reset_index()\n",
    "plt.plot(ym.year[ym.state=='MT'], ym.meth[ym.state=='MT'], label='MT')\n",
    "plt.plot(ym.year[ym.state=='XX'], ym.meth[ym.state=='XX'], label='National')\n",
    "plt.legend()\n",
    "plt.show()"
   ]
  },
  {
   "cell_type": "markdown",
   "metadata": {
    "ein.tags": "worksheet-0",
    "slideshow": {
     "slide_type": "-"
    }
   },
   "source": [
    "### 1.3 Before-After\n",
    "\n",
    "#### Simple Table"
   ]
  },
  {
   "cell_type": "code",
   "execution_count": 20,
   "metadata": {
    "autoscroll": false,
    "ein.tags": "worksheet-0",
    "slideshow": {
     "slide_type": "-"
    }
   },
   "outputs": [
    {
     "data": {
      "text/plain": [
       "before\n",
       "0    0.076734\n",
       "1    0.038115\n",
       "Name: meth, dtype: float64"
      ]
     },
     "execution_count": 20,
     "metadata": {},
     "output_type": "execute_result"
    }
   ],
   "source": [
    "yrbs[yrbs.state == 'MT'].groupby('before').meth.mean()"
   ]
  },
  {
   "cell_type": "markdown",
   "metadata": {},
   "source": [
    "Here, we can see that the meth usage has gone down after the campaign."
   ]
  },
  {
   "cell_type": "code",
   "execution_count": 23,
   "metadata": {
    "autoscroll": false,
    "ein.tags": "worksheet-0",
    "scrolled": true,
    "slideshow": {
     "slide_type": "-"
    }
   },
   "outputs": [
    {
     "data": {
      "text/plain": [
       "before\n",
       "0    0.060319\n",
       "1    0.039923\n",
       "Name: meth, dtype: float64"
      ]
     },
     "execution_count": 23,
     "metadata": {},
     "output_type": "execute_result"
    }
   ],
   "source": [
    "yrbs[yrbs.state == 'XX'].groupby('before').meth.mean()"
   ]
  },
  {
   "cell_type": "markdown",
   "metadata": {},
   "source": [
    "We can also see that the meth usage has gone down for the rest as well."
   ]
  },
  {
   "cell_type": "code",
   "execution_count": 51,
   "metadata": {},
   "outputs": [
    {
     "data": {
      "text/html": [
       "<table class=\"simpletable\">\n",
       "<caption>OLS Regression Results</caption>\n",
       "<tr>\n",
       "  <th>Dep. Variable:</th>          <td>meth</td>       <th>  R-squared:         </th> <td>   0.007</td>\n",
       "</tr>\n",
       "<tr>\n",
       "  <th>Model:</th>                   <td>OLS</td>       <th>  Adj. R-squared:    </th> <td>   0.007</td>\n",
       "</tr>\n",
       "<tr>\n",
       "  <th>Method:</th>             <td>Least Squares</td>  <th>  F-statistic:       </th> <td>   67.66</td>\n",
       "</tr>\n",
       "<tr>\n",
       "  <th>Date:</th>             <td>Wed, 18 Apr 2018</td> <th>  Prob (F-statistic):</th> <td>2.19e-16</td>\n",
       "</tr>\n",
       "<tr>\n",
       "  <th>Time:</th>                 <td>20:43:19</td>     <th>  Log-Likelihood:    </th> <td>  417.76</td>\n",
       "</tr>\n",
       "<tr>\n",
       "  <th>No. Observations:</th>      <td>  9754</td>      <th>  AIC:               </th> <td>  -831.5</td>\n",
       "</tr>\n",
       "<tr>\n",
       "  <th>Df Residuals:</th>          <td>  9752</td>      <th>  BIC:               </th> <td>  -817.1</td>\n",
       "</tr>\n",
       "<tr>\n",
       "  <th>Df Model:</th>              <td>     1</td>      <th>                     </th>     <td> </td>   \n",
       "</tr>\n",
       "<tr>\n",
       "  <th>Covariance Type:</th>      <td>nonrobust</td>    <th>                     </th>     <td> </td>   \n",
       "</tr>\n",
       "</table>\n",
       "<table class=\"simpletable\">\n",
       "<tr>\n",
       "      <td></td>         <th>coef</th>     <th>std err</th>      <th>t</th>      <th>P>|t|</th>  <th>[0.025</th>    <th>0.975]</th>  \n",
       "</tr>\n",
       "<tr>\n",
       "  <th>Intercept</th> <td>    0.0767</td> <td>    0.003</td> <td>   23.106</td> <td> 0.000</td> <td>    0.070</td> <td>    0.083</td>\n",
       "</tr>\n",
       "<tr>\n",
       "  <th>before</th>    <td>   -0.0386</td> <td>    0.005</td> <td>   -8.225</td> <td> 0.000</td> <td>   -0.048</td> <td>   -0.029</td>\n",
       "</tr>\n",
       "</table>\n",
       "<table class=\"simpletable\">\n",
       "<tr>\n",
       "  <th>Omnibus:</th>       <td>7326.455</td> <th>  Durbin-Watson:     </th> <td>   1.957</td> \n",
       "</tr>\n",
       "<tr>\n",
       "  <th>Prob(Omnibus):</th>  <td> 0.000</td>  <th>  Jarque-Bera (JB):  </th> <td>84570.020</td>\n",
       "</tr>\n",
       "<tr>\n",
       "  <th>Skew:</th>           <td> 3.765</td>  <th>  Prob(JB):          </th> <td>    0.00</td> \n",
       "</tr>\n",
       "<tr>\n",
       "  <th>Kurtosis:</th>       <td>15.304</td>  <th>  Cond. No.          </th> <td>    2.62</td> \n",
       "</tr>\n",
       "</table>"
      ],
      "text/plain": [
       "<class 'statsmodels.iolib.summary.Summary'>\n",
       "\"\"\"\n",
       "                            OLS Regression Results                            \n",
       "==============================================================================\n",
       "Dep. Variable:                   meth   R-squared:                       0.007\n",
       "Model:                            OLS   Adj. R-squared:                  0.007\n",
       "Method:                 Least Squares   F-statistic:                     67.66\n",
       "Date:                Wed, 18 Apr 2018   Prob (F-statistic):           2.19e-16\n",
       "Time:                        20:43:19   Log-Likelihood:                 417.76\n",
       "No. Observations:                9754   AIC:                            -831.5\n",
       "Df Residuals:                    9752   BIC:                            -817.1\n",
       "Df Model:                           1                                         \n",
       "Covariance Type:            nonrobust                                         \n",
       "==============================================================================\n",
       "                 coef    std err          t      P>|t|      [0.025      0.975]\n",
       "------------------------------------------------------------------------------\n",
       "Intercept      0.0767      0.003     23.106      0.000       0.070       0.083\n",
       "before        -0.0386      0.005     -8.225      0.000      -0.048      -0.029\n",
       "==============================================================================\n",
       "Omnibus:                     7326.455   Durbin-Watson:                   1.957\n",
       "Prob(Omnibus):                  0.000   Jarque-Bera (JB):            84570.020\n",
       "Skew:                           3.765   Prob(JB):                         0.00\n",
       "Kurtosis:                      15.304   Cond. No.                         2.62\n",
       "==============================================================================\n",
       "\n",
       "Warnings:\n",
       "[1] Standard Errors assume that the covariance matrix of the errors is correctly specified.\n",
       "\"\"\""
      ]
     },
     "execution_count": 51,
     "metadata": {},
     "output_type": "execute_result"
    }
   ],
   "source": [
    "m = smf.ols(formula = 'meth ~ before', data = yrbs[yrbs.state == 'MT'])\n",
    "m.fit().summary()"
   ]
  },
  {
   "cell_type": "markdown",
   "metadata": {},
   "source": [
    "Here, we do not account for any other controls and see that the coefficient is slightly negative for the variable 'before'"
   ]
  },
  {
   "cell_type": "code",
   "execution_count": 27,
   "metadata": {},
   "outputs": [
    {
     "data": {
      "text/html": [
       "<table class=\"simpletable\">\n",
       "<caption>OLS Regression Results</caption>\n",
       "<tr>\n",
       "  <th>Dep. Variable:</th>          <td>meth</td>       <th>  R-squared:         </th> <td>   0.010</td>\n",
       "</tr>\n",
       "<tr>\n",
       "  <th>Model:</th>                   <td>OLS</td>       <th>  Adj. R-squared:    </th> <td>   0.008</td>\n",
       "</tr>\n",
       "<tr>\n",
       "  <th>Method:</th>             <td>Least Squares</td>  <th>  F-statistic:       </th> <td>   6.459</td>\n",
       "</tr>\n",
       "<tr>\n",
       "  <th>Date:</th>             <td>Wed, 18 Apr 2018</td> <th>  Prob (F-statistic):</th> <td>6.08e-14</td>\n",
       "</tr>\n",
       "<tr>\n",
       "  <th>Time:</th>                 <td>19:04:46</td>     <th>  Log-Likelihood:    </th> <td>  432.32</td>\n",
       "</tr>\n",
       "<tr>\n",
       "  <th>No. Observations:</th>      <td>  9754</td>      <th>  AIC:               </th> <td>  -832.6</td>\n",
       "</tr>\n",
       "<tr>\n",
       "  <th>Df Residuals:</th>          <td>  9738</td>      <th>  BIC:               </th> <td>  -717.7</td>\n",
       "</tr>\n",
       "<tr>\n",
       "  <th>Df Model:</th>              <td>    15</td>      <th>                     </th>     <td> </td>   \n",
       "</tr>\n",
       "<tr>\n",
       "  <th>Covariance Type:</th>      <td>nonrobust</td>    <th>                     </th>     <td> </td>   \n",
       "</tr>\n",
       "</table>\n",
       "<table class=\"simpletable\">\n",
       "<tr>\n",
       "             <td></td>               <th>coef</th>     <th>std err</th>      <th>t</th>      <th>P>|t|</th>  <th>[0.025</th>    <th>0.975]</th>  \n",
       "</tr>\n",
       "<tr>\n",
       "  <th>Intercept</th>              <td>   -0.0797</td> <td>    0.102</td> <td>   -0.781</td> <td> 0.435</td> <td>   -0.280</td> <td>    0.120</td>\n",
       "</tr>\n",
       "<tr>\n",
       "  <th>sex[T.M]</th>               <td>    0.0461</td> <td>    0.155</td> <td>    0.298</td> <td> 0.766</td> <td>   -0.257</td> <td>    0.349</td>\n",
       "</tr>\n",
       "<tr>\n",
       "  <th>before</th>                 <td>   -0.1337</td> <td>    0.139</td> <td>   -0.959</td> <td> 0.338</td> <td>   -0.407</td> <td>    0.140</td>\n",
       "</tr>\n",
       "<tr>\n",
       "  <th>before:sex[T.M]</th>        <td>    0.0140</td> <td>    0.211</td> <td>    0.067</td> <td> 0.947</td> <td>   -0.399</td> <td>    0.427</td>\n",
       "</tr>\n",
       "<tr>\n",
       "  <th>tv</th>                     <td>   -0.1016</td> <td>    0.147</td> <td>   -0.691</td> <td> 0.489</td> <td>   -0.390</td> <td>    0.186</td>\n",
       "</tr>\n",
       "<tr>\n",
       "  <th>tv:sex[T.M]</th>            <td>    0.0451</td> <td>    0.216</td> <td>    0.209</td> <td> 0.835</td> <td>   -0.378</td> <td>    0.469</td>\n",
       "</tr>\n",
       "<tr>\n",
       "  <th>before:tv</th>              <td>    0.1147</td> <td>    0.206</td> <td>    0.556</td> <td> 0.579</td> <td>   -0.290</td> <td>    0.519</td>\n",
       "</tr>\n",
       "<tr>\n",
       "  <th>before:tv:sex[T.M]</th>     <td>    0.0524</td> <td>    0.302</td> <td>    0.173</td> <td> 0.862</td> <td>   -0.540</td> <td>    0.645</td>\n",
       "</tr>\n",
       "<tr>\n",
       "  <th>age</th>                    <td>    0.0099</td> <td>    0.006</td> <td>    1.533</td> <td> 0.125</td> <td>   -0.003</td> <td>    0.023</td>\n",
       "</tr>\n",
       "<tr>\n",
       "  <th>age:sex[T.M]</th>           <td>   -0.0033</td> <td>    0.010</td> <td>   -0.334</td> <td> 0.738</td> <td>   -0.023</td> <td>    0.016</td>\n",
       "</tr>\n",
       "<tr>\n",
       "  <th>before:age</th>             <td>    0.0059</td> <td>    0.009</td> <td>    0.667</td> <td> 0.505</td> <td>   -0.011</td> <td>    0.023</td>\n",
       "</tr>\n",
       "<tr>\n",
       "  <th>before:age:sex[T.M]</th>    <td>   -0.0003</td> <td>    0.013</td> <td>   -0.021</td> <td> 0.983</td> <td>   -0.026</td> <td>    0.026</td>\n",
       "</tr>\n",
       "<tr>\n",
       "  <th>tv:age</th>                 <td>    0.0070</td> <td>    0.009</td> <td>    0.744</td> <td> 0.457</td> <td>   -0.011</td> <td>    0.025</td>\n",
       "</tr>\n",
       "<tr>\n",
       "  <th>tv:age:sex[T.M]</th>        <td>   -0.0031</td> <td>    0.014</td> <td>   -0.226</td> <td> 0.822</td> <td>   -0.030</td> <td>    0.024</td>\n",
       "</tr>\n",
       "<tr>\n",
       "  <th>before:tv:age</th>          <td>   -0.0075</td> <td>    0.013</td> <td>   -0.571</td> <td> 0.568</td> <td>   -0.033</td> <td>    0.018</td>\n",
       "</tr>\n",
       "<tr>\n",
       "  <th>before:tv:age:sex[T.M]</th> <td>   -0.0036</td> <td>    0.019</td> <td>   -0.186</td> <td> 0.852</td> <td>   -0.041</td> <td>    0.034</td>\n",
       "</tr>\n",
       "</table>\n",
       "<table class=\"simpletable\">\n",
       "<tr>\n",
       "  <th>Omnibus:</th>       <td>7298.185</td> <th>  Durbin-Watson:     </th> <td>   1.962</td> \n",
       "</tr>\n",
       "<tr>\n",
       "  <th>Prob(Omnibus):</th>  <td> 0.000</td>  <th>  Jarque-Bera (JB):  </th> <td>83575.689</td>\n",
       "</tr>\n",
       "<tr>\n",
       "  <th>Skew:</th>           <td> 3.748</td>  <th>  Prob(JB):          </th> <td>    0.00</td> \n",
       "</tr>\n",
       "<tr>\n",
       "  <th>Kurtosis:</th>       <td>15.225</td>  <th>  Cond. No.          </th> <td>4.44e+03</td> \n",
       "</tr>\n",
       "</table>"
      ],
      "text/plain": [
       "<class 'statsmodels.iolib.summary.Summary'>\n",
       "\"\"\"\n",
       "                            OLS Regression Results                            \n",
       "==============================================================================\n",
       "Dep. Variable:                   meth   R-squared:                       0.010\n",
       "Model:                            OLS   Adj. R-squared:                  0.008\n",
       "Method:                 Least Squares   F-statistic:                     6.459\n",
       "Date:                Wed, 18 Apr 2018   Prob (F-statistic):           6.08e-14\n",
       "Time:                        19:04:46   Log-Likelihood:                 432.32\n",
       "No. Observations:                9754   AIC:                            -832.6\n",
       "Df Residuals:                    9738   BIC:                            -717.7\n",
       "Df Model:                          15                                         \n",
       "Covariance Type:            nonrobust                                         \n",
       "==========================================================================================\n",
       "                             coef    std err          t      P>|t|      [0.025      0.975]\n",
       "------------------------------------------------------------------------------------------\n",
       "Intercept                 -0.0797      0.102     -0.781      0.435      -0.280       0.120\n",
       "sex[T.M]                   0.0461      0.155      0.298      0.766      -0.257       0.349\n",
       "before                    -0.1337      0.139     -0.959      0.338      -0.407       0.140\n",
       "before:sex[T.M]            0.0140      0.211      0.067      0.947      -0.399       0.427\n",
       "tv                        -0.1016      0.147     -0.691      0.489      -0.390       0.186\n",
       "tv:sex[T.M]                0.0451      0.216      0.209      0.835      -0.378       0.469\n",
       "before:tv                  0.1147      0.206      0.556      0.579      -0.290       0.519\n",
       "before:tv:sex[T.M]         0.0524      0.302      0.173      0.862      -0.540       0.645\n",
       "age                        0.0099      0.006      1.533      0.125      -0.003       0.023\n",
       "age:sex[T.M]              -0.0033      0.010     -0.334      0.738      -0.023       0.016\n",
       "before:age                 0.0059      0.009      0.667      0.505      -0.011       0.023\n",
       "before:age:sex[T.M]       -0.0003      0.013     -0.021      0.983      -0.026       0.026\n",
       "tv:age                     0.0070      0.009      0.744      0.457      -0.011       0.025\n",
       "tv:age:sex[T.M]           -0.0031      0.014     -0.226      0.822      -0.030       0.024\n",
       "before:tv:age             -0.0075      0.013     -0.571      0.568      -0.033       0.018\n",
       "before:tv:age:sex[T.M]    -0.0036      0.019     -0.186      0.852      -0.041       0.034\n",
       "==============================================================================\n",
       "Omnibus:                     7298.185   Durbin-Watson:                   1.962\n",
       "Prob(Omnibus):                  0.000   Jarque-Bera (JB):            83575.689\n",
       "Skew:                           3.748   Prob(JB):                         0.00\n",
       "Kurtosis:                      15.225   Cond. No.                     4.44e+03\n",
       "==============================================================================\n",
       "\n",
       "Warnings:\n",
       "[1] Standard Errors assume that the covariance matrix of the errors is correctly specified.\n",
       "[2] The condition number is large, 4.44e+03. This might indicate that there are\n",
       "strong multicollinearity or other numerical problems.\n",
       "\"\"\""
      ]
     },
     "execution_count": 27,
     "metadata": {},
     "output_type": "execute_result"
    }
   ],
   "source": [
    "m = smf.ols(formula = 'meth ~ before*tv*age*sex', data = yrbs[yrbs.state == 'MT'])\n",
    "m.fit().summary()"
   ]
  },
  {
   "cell_type": "markdown",
   "metadata": {},
   "source": [
    "After considering all controls, we see that the coefficients is a little lower."
   ]
  },
  {
   "cell_type": "markdown",
   "metadata": {},
   "source": [
    "### 1.3 Cross Sectional Estimator"
   ]
  },
  {
   "cell_type": "code",
   "execution_count": 28,
   "metadata": {},
   "outputs": [
    {
     "data": {
      "text/plain": [
       "state\n",
       "MT    0.038115\n",
       "XX    0.039923\n",
       "Name: meth, dtype: float64"
      ]
     },
     "execution_count": 28,
     "metadata": {},
     "output_type": "execute_result"
    }
   ],
   "source": [
    "yrbs[yrbs.before == 1].groupby('state').meth.mean()"
   ]
  },
  {
   "cell_type": "markdown",
   "metadata": {},
   "source": [
    "Here, we can see that the Meth consumption in Montana is slightly lower than the rest."
   ]
  },
  {
   "cell_type": "code",
   "execution_count": 29,
   "metadata": {},
   "outputs": [
    {
     "data": {
      "text/html": [
       "<table class=\"simpletable\">\n",
       "<caption>OLS Regression Results</caption>\n",
       "<tr>\n",
       "  <th>Dep. Variable:</th>          <td>meth</td>       <th>  R-squared:         </th>  <td>   0.000</td> \n",
       "</tr>\n",
       "<tr>\n",
       "  <th>Model:</th>                   <td>OLS</td>       <th>  Adj. R-squared:    </th>  <td>  -0.000</td> \n",
       "</tr>\n",
       "<tr>\n",
       "  <th>Method:</th>             <td>Least Squares</td>  <th>  F-statistic:       </th>  <td>  0.3503</td> \n",
       "</tr>\n",
       "<tr>\n",
       "  <th>Date:</th>             <td>Wed, 18 Apr 2018</td> <th>  Prob (F-statistic):</th>   <td> 0.554</td>  \n",
       "</tr>\n",
       "<tr>\n",
       "  <th>Time:</th>                 <td>19:13:56</td>     <th>  Log-Likelihood:    </th>  <td>  6404.0</td> \n",
       "</tr>\n",
       "<tr>\n",
       "  <th>No. Observations:</th>      <td> 29728</td>      <th>  AIC:               </th> <td>-1.280e+04</td>\n",
       "</tr>\n",
       "<tr>\n",
       "  <th>Df Residuals:</th>          <td> 29726</td>      <th>  BIC:               </th> <td>-1.279e+04</td>\n",
       "</tr>\n",
       "<tr>\n",
       "  <th>Df Model:</th>              <td>     1</td>      <th>                     </th>      <td> </td>    \n",
       "</tr>\n",
       "<tr>\n",
       "  <th>Covariance Type:</th>      <td>nonrobust</td>    <th>                     </th>      <td> </td>    \n",
       "</tr>\n",
       "</table>\n",
       "<table class=\"simpletable\">\n",
       "<tr>\n",
       "       <td></td>          <th>coef</th>     <th>std err</th>      <th>t</th>      <th>P>|t|</th>  <th>[0.025</th>    <th>0.975]</th>  \n",
       "</tr>\n",
       "<tr>\n",
       "  <th>Intercept</th>   <td>    0.0381</td> <td>    0.003</td> <td>   13.648</td> <td> 0.000</td> <td>    0.033</td> <td>    0.044</td>\n",
       "</tr>\n",
       "<tr>\n",
       "  <th>state[T.XX]</th> <td>    0.0018</td> <td>    0.003</td> <td>    0.592</td> <td> 0.554</td> <td>   -0.004</td> <td>    0.008</td>\n",
       "</tr>\n",
       "</table>\n",
       "<table class=\"simpletable\">\n",
       "<tr>\n",
       "  <th>Omnibus:</th>       <td>27196.729</td> <th>  Durbin-Watson:     </th>  <td>   1.976</td> \n",
       "</tr>\n",
       "<tr>\n",
       "  <th>Prob(Omnibus):</th>  <td> 0.000</td>   <th>  Jarque-Bera (JB):  </th> <td>619647.247</td>\n",
       "</tr>\n",
       "<tr>\n",
       "  <th>Skew:</th>           <td> 4.720</td>   <th>  Prob(JB):          </th>  <td>    0.00</td> \n",
       "</tr>\n",
       "<tr>\n",
       "  <th>Kurtosis:</th>       <td>23.277</td>   <th>  Cond. No.          </th>  <td>    4.75</td> \n",
       "</tr>\n",
       "</table>"
      ],
      "text/plain": [
       "<class 'statsmodels.iolib.summary.Summary'>\n",
       "\"\"\"\n",
       "                            OLS Regression Results                            \n",
       "==============================================================================\n",
       "Dep. Variable:                   meth   R-squared:                       0.000\n",
       "Model:                            OLS   Adj. R-squared:                 -0.000\n",
       "Method:                 Least Squares   F-statistic:                    0.3503\n",
       "Date:                Wed, 18 Apr 2018   Prob (F-statistic):              0.554\n",
       "Time:                        19:13:56   Log-Likelihood:                 6404.0\n",
       "No. Observations:               29728   AIC:                        -1.280e+04\n",
       "Df Residuals:                   29726   BIC:                        -1.279e+04\n",
       "Df Model:                           1                                         \n",
       "Covariance Type:            nonrobust                                         \n",
       "===============================================================================\n",
       "                  coef    std err          t      P>|t|      [0.025      0.975]\n",
       "-------------------------------------------------------------------------------\n",
       "Intercept       0.0381      0.003     13.648      0.000       0.033       0.044\n",
       "state[T.XX]     0.0018      0.003      0.592      0.554      -0.004       0.008\n",
       "==============================================================================\n",
       "Omnibus:                    27196.729   Durbin-Watson:                   1.976\n",
       "Prob(Omnibus):                  0.000   Jarque-Bera (JB):           619647.247\n",
       "Skew:                           4.720   Prob(JB):                         0.00\n",
       "Kurtosis:                      23.277   Cond. No.                         4.75\n",
       "==============================================================================\n",
       "\n",
       "Warnings:\n",
       "[1] Standard Errors assume that the covariance matrix of the errors is correctly specified.\n",
       "\"\"\""
      ]
     },
     "execution_count": 29,
     "metadata": {},
     "output_type": "execute_result"
    }
   ],
   "source": [
    "m = smf.ols(formula = 'meth ~ state', data = yrbs[yrbs.before == 1])\n",
    "m.fit().summary()"
   ]
  },
  {
   "cell_type": "markdown",
   "metadata": {},
   "source": [
    "For states except Montana, the coefficient is slightly positive than Montana suggesting that it is better."
   ]
  },
  {
   "cell_type": "code",
   "execution_count": 30,
   "metadata": {},
   "outputs": [
    {
     "data": {
      "text/html": [
       "<table class=\"simpletable\">\n",
       "<caption>OLS Regression Results</caption>\n",
       "<tr>\n",
       "  <th>Dep. Variable:</th>          <td>meth</td>       <th>  R-squared:         </th>  <td>   0.002</td> \n",
       "</tr>\n",
       "<tr>\n",
       "  <th>Model:</th>                   <td>OLS</td>       <th>  Adj. R-squared:    </th>  <td>   0.002</td> \n",
       "</tr>\n",
       "<tr>\n",
       "  <th>Method:</th>             <td>Least Squares</td>  <th>  F-statistic:       </th>  <td>   4.184</td> \n",
       "</tr>\n",
       "<tr>\n",
       "  <th>Date:</th>             <td>Wed, 18 Apr 2018</td> <th>  Prob (F-statistic):</th>  <td>8.61e-08</td> \n",
       "</tr>\n",
       "<tr>\n",
       "  <th>Time:</th>                 <td>19:14:43</td>     <th>  Log-Likelihood:    </th>  <td>  6435.2</td> \n",
       "</tr>\n",
       "<tr>\n",
       "  <th>No. Observations:</th>      <td> 29728</td>      <th>  AIC:               </th> <td>-1.284e+04</td>\n",
       "</tr>\n",
       "<tr>\n",
       "  <th>Df Residuals:</th>          <td> 29712</td>      <th>  BIC:               </th> <td>-1.271e+04</td>\n",
       "</tr>\n",
       "<tr>\n",
       "  <th>Df Model:</th>              <td>    15</td>      <th>                     </th>      <td> </td>    \n",
       "</tr>\n",
       "<tr>\n",
       "  <th>Covariance Type:</th>      <td>nonrobust</td>    <th>                     </th>      <td> </td>    \n",
       "</tr>\n",
       "</table>\n",
       "<table class=\"simpletable\">\n",
       "<tr>\n",
       "               <td></td>                  <th>coef</th>     <th>std err</th>      <th>t</th>      <th>P>|t|</th>  <th>[0.025</th>    <th>0.975]</th>  \n",
       "</tr>\n",
       "<tr>\n",
       "  <th>Intercept</th>                   <td>   -0.2134</td> <td>    0.080</td> <td>   -2.670</td> <td> 0.008</td> <td>   -0.370</td> <td>   -0.057</td>\n",
       "</tr>\n",
       "<tr>\n",
       "  <th>state[T.XX]</th>                 <td>    0.1653</td> <td>    0.090</td> <td>    1.838</td> <td> 0.066</td> <td>   -0.011</td> <td>    0.342</td>\n",
       "</tr>\n",
       "<tr>\n",
       "  <th>sex[T.M]</th>                    <td>    0.0601</td> <td>    0.121</td> <td>    0.498</td> <td> 0.618</td> <td>   -0.176</td> <td>    0.296</td>\n",
       "</tr>\n",
       "<tr>\n",
       "  <th>state[T.XX]:sex[T.M]</th>        <td>   -0.1090</td> <td>    0.136</td> <td>   -0.803</td> <td> 0.422</td> <td>   -0.375</td> <td>    0.157</td>\n",
       "</tr>\n",
       "<tr>\n",
       "  <th>age</th>                         <td>    0.0159</td> <td>    0.005</td> <td>    3.123</td> <td> 0.002</td> <td>    0.006</td> <td>    0.026</td>\n",
       "</tr>\n",
       "<tr>\n",
       "  <th>state[T.XX]:age</th>             <td>   -0.0103</td> <td>    0.006</td> <td>   -1.813</td> <td> 0.070</td> <td>   -0.022</td> <td>    0.001</td>\n",
       "</tr>\n",
       "<tr>\n",
       "  <th>age:sex[T.M]</th>                <td>   -0.0036</td> <td>    0.008</td> <td>   -0.466</td> <td> 0.641</td> <td>   -0.019</td> <td>    0.011</td>\n",
       "</tr>\n",
       "<tr>\n",
       "  <th>state[T.XX]:age:sex[T.M]</th>    <td>    0.0069</td> <td>    0.009</td> <td>    0.804</td> <td> 0.422</td> <td>   -0.010</td> <td>    0.024</td>\n",
       "</tr>\n",
       "<tr>\n",
       "  <th>tv</th>                          <td>    0.0132</td> <td>    0.122</td> <td>    0.108</td> <td> 0.914</td> <td>   -0.226</td> <td>    0.252</td>\n",
       "</tr>\n",
       "<tr>\n",
       "  <th>state[T.XX]:tv</th>              <td>    0.0305</td> <td>    0.134</td> <td>    0.228</td> <td> 0.820</td> <td>   -0.231</td> <td>    0.292</td>\n",
       "</tr>\n",
       "<tr>\n",
       "  <th>sex[T.M]:tv</th>                 <td>    0.0975</td> <td>    0.178</td> <td>    0.548</td> <td> 0.584</td> <td>   -0.251</td> <td>    0.446</td>\n",
       "</tr>\n",
       "<tr>\n",
       "  <th>state[T.XX]:sex[T.M]:tv</th>     <td>   -0.0902</td> <td>    0.195</td> <td>   -0.463</td> <td> 0.644</td> <td>   -0.472</td> <td>    0.292</td>\n",
       "</tr>\n",
       "<tr>\n",
       "  <th>age:tv</th>                      <td>   -0.0005</td> <td>    0.008</td> <td>   -0.070</td> <td> 0.944</td> <td>   -0.016</td> <td>    0.015</td>\n",
       "</tr>\n",
       "<tr>\n",
       "  <th>state[T.XX]:age:tv</th>          <td>   -0.0026</td> <td>    0.008</td> <td>   -0.308</td> <td> 0.758</td> <td>   -0.019</td> <td>    0.014</td>\n",
       "</tr>\n",
       "<tr>\n",
       "  <th>age:sex[T.M]:tv</th>             <td>   -0.0067</td> <td>    0.011</td> <td>   -0.591</td> <td> 0.555</td> <td>   -0.029</td> <td>    0.015</td>\n",
       "</tr>\n",
       "<tr>\n",
       "  <th>state[T.XX]:age:sex[T.M]:tv</th> <td>    0.0068</td> <td>    0.012</td> <td>    0.549</td> <td> 0.583</td> <td>   -0.017</td> <td>    0.031</td>\n",
       "</tr>\n",
       "</table>\n",
       "<table class=\"simpletable\">\n",
       "<tr>\n",
       "  <th>Omnibus:</th>       <td>27133.773</td> <th>  Durbin-Watson:     </th>  <td>   1.980</td> \n",
       "</tr>\n",
       "<tr>\n",
       "  <th>Prob(Omnibus):</th>  <td> 0.000</td>   <th>  Jarque-Bera (JB):  </th> <td>614678.081</td>\n",
       "</tr>\n",
       "<tr>\n",
       "  <th>Skew:</th>           <td> 4.705</td>   <th>  Prob(JB):          </th>  <td>    0.00</td> \n",
       "</tr>\n",
       "<tr>\n",
       "  <th>Kurtosis:</th>       <td>23.191</td>   <th>  Cond. No.          </th>  <td>8.29e+03</td> \n",
       "</tr>\n",
       "</table>"
      ],
      "text/plain": [
       "<class 'statsmodels.iolib.summary.Summary'>\n",
       "\"\"\"\n",
       "                            OLS Regression Results                            \n",
       "==============================================================================\n",
       "Dep. Variable:                   meth   R-squared:                       0.002\n",
       "Model:                            OLS   Adj. R-squared:                  0.002\n",
       "Method:                 Least Squares   F-statistic:                     4.184\n",
       "Date:                Wed, 18 Apr 2018   Prob (F-statistic):           8.61e-08\n",
       "Time:                        19:14:43   Log-Likelihood:                 6435.2\n",
       "No. Observations:               29728   AIC:                        -1.284e+04\n",
       "Df Residuals:                   29712   BIC:                        -1.271e+04\n",
       "Df Model:                          15                                         \n",
       "Covariance Type:            nonrobust                                         \n",
       "===============================================================================================\n",
       "                                  coef    std err          t      P>|t|      [0.025      0.975]\n",
       "-----------------------------------------------------------------------------------------------\n",
       "Intercept                      -0.2134      0.080     -2.670      0.008      -0.370      -0.057\n",
       "state[T.XX]                     0.1653      0.090      1.838      0.066      -0.011       0.342\n",
       "sex[T.M]                        0.0601      0.121      0.498      0.618      -0.176       0.296\n",
       "state[T.XX]:sex[T.M]           -0.1090      0.136     -0.803      0.422      -0.375       0.157\n",
       "age                             0.0159      0.005      3.123      0.002       0.006       0.026\n",
       "state[T.XX]:age                -0.0103      0.006     -1.813      0.070      -0.022       0.001\n",
       "age:sex[T.M]                   -0.0036      0.008     -0.466      0.641      -0.019       0.011\n",
       "state[T.XX]:age:sex[T.M]        0.0069      0.009      0.804      0.422      -0.010       0.024\n",
       "tv                              0.0132      0.122      0.108      0.914      -0.226       0.252\n",
       "state[T.XX]:tv                  0.0305      0.134      0.228      0.820      -0.231       0.292\n",
       "sex[T.M]:tv                     0.0975      0.178      0.548      0.584      -0.251       0.446\n",
       "state[T.XX]:sex[T.M]:tv        -0.0902      0.195     -0.463      0.644      -0.472       0.292\n",
       "age:tv                         -0.0005      0.008     -0.070      0.944      -0.016       0.015\n",
       "state[T.XX]:age:tv             -0.0026      0.008     -0.308      0.758      -0.019       0.014\n",
       "age:sex[T.M]:tv                -0.0067      0.011     -0.591      0.555      -0.029       0.015\n",
       "state[T.XX]:age:sex[T.M]:tv     0.0068      0.012      0.549      0.583      -0.017       0.031\n",
       "==============================================================================\n",
       "Omnibus:                    27133.773   Durbin-Watson:                   1.980\n",
       "Prob(Omnibus):                  0.000   Jarque-Bera (JB):           614678.081\n",
       "Skew:                           4.705   Prob(JB):                         0.00\n",
       "Kurtosis:                      23.191   Cond. No.                     8.29e+03\n",
       "==============================================================================\n",
       "\n",
       "Warnings:\n",
       "[1] Standard Errors assume that the covariance matrix of the errors is correctly specified.\n",
       "[2] The condition number is large, 8.29e+03. This might indicate that there are\n",
       "strong multicollinearity or other numerical problems.\n",
       "\"\"\""
      ]
     },
     "execution_count": 30,
     "metadata": {},
     "output_type": "execute_result"
    }
   ],
   "source": [
    "m = smf.ols(formula = 'meth ~ state*age*sex*tv', data = yrbs[yrbs.before == 1])\n",
    "m.fit().summary()"
   ]
  },
  {
   "cell_type": "markdown",
   "metadata": {},
   "source": [
    "Here, we see the same but with controls."
   ]
  },
  {
   "cell_type": "markdown",
   "metadata": {},
   "source": [
    "### 1.3 Diff in Diff Estimator\n"
   ]
  },
  {
   "cell_type": "code",
   "execution_count": 32,
   "metadata": {},
   "outputs": [
    {
     "data": {
      "text/plain": [
       "state  before\n",
       "MT     0         0.076734\n",
       "       1         0.038115\n",
       "XX     0         0.060319\n",
       "       1         0.039923\n",
       "Name: meth, dtype: float64"
      ]
     },
     "execution_count": 32,
     "metadata": {},
     "output_type": "execute_result"
    }
   ],
   "source": [
    "yrbs.groupby(['state','before']).meth.mean()"
   ]
  },
  {
   "cell_type": "code",
   "execution_count": 39,
   "metadata": {},
   "outputs": [
    {
     "data": {
      "text/plain": [
       "0.018222999999999996"
      ]
     },
     "execution_count": 39,
     "metadata": {},
     "output_type": "execute_result"
    }
   ],
   "source": [
    "(0.076734 - 0.060319) - (0.038115 - 0.039923)"
   ]
  },
  {
   "cell_type": "code",
   "execution_count": 41,
   "metadata": {},
   "outputs": [
    {
     "data": {
      "text/html": [
       "<table class=\"simpletable\">\n",
       "<caption>OLS Regression Results</caption>\n",
       "<tr>\n",
       "  <th>Dep. Variable:</th>          <td>meth</td>       <th>  R-squared:         </th>  <td>   0.003</td> \n",
       "</tr>\n",
       "<tr>\n",
       "  <th>Model:</th>                   <td>OLS</td>       <th>  Adj. R-squared:    </th>  <td>   0.003</td> \n",
       "</tr>\n",
       "<tr>\n",
       "  <th>Method:</th>             <td>Least Squares</td>  <th>  F-statistic:       </th>  <td>   62.92</td> \n",
       "</tr>\n",
       "<tr>\n",
       "  <th>Date:</th>             <td>Wed, 18 Apr 2018</td> <th>  Prob (F-statistic):</th>  <td>1.31e-40</td> \n",
       "</tr>\n",
       "<tr>\n",
       "  <th>Time:</th>                 <td>19:36:22</td>     <th>  Log-Likelihood:    </th>  <td>  5566.9</td> \n",
       "</tr>\n",
       "<tr>\n",
       "  <th>No. Observations:</th>      <td> 58077</td>      <th>  AIC:               </th> <td>-1.113e+04</td>\n",
       "</tr>\n",
       "<tr>\n",
       "  <th>Df Residuals:</th>          <td> 58073</td>      <th>  BIC:               </th> <td>-1.109e+04</td>\n",
       "</tr>\n",
       "<tr>\n",
       "  <th>Df Model:</th>              <td>     3</td>      <th>                     </th>      <td> </td>    \n",
       "</tr>\n",
       "<tr>\n",
       "  <th>Covariance Type:</th>      <td>nonrobust</td>    <th>                     </th>      <td> </td>    \n",
       "</tr>\n",
       "</table>\n",
       "<table class=\"simpletable\">\n",
       "<tr>\n",
       "           <td></td>             <th>coef</th>     <th>std err</th>      <th>t</th>      <th>P>|t|</th>  <th>[0.025</th>    <th>0.975]</th>  \n",
       "</tr>\n",
       "<tr>\n",
       "  <th>Intercept</th>          <td>    0.0767</td> <td>    0.003</td> <td>   24.366</td> <td> 0.000</td> <td>    0.071</td> <td>    0.083</td>\n",
       "</tr>\n",
       "<tr>\n",
       "  <th>state[T.XX]</th>        <td>   -0.0164</td> <td>    0.003</td> <td>   -4.743</td> <td> 0.000</td> <td>   -0.023</td> <td>   -0.010</td>\n",
       "</tr>\n",
       "<tr>\n",
       "  <th>before</th>             <td>   -0.0386</td> <td>    0.004</td> <td>   -8.674</td> <td> 0.000</td> <td>   -0.047</td> <td>   -0.030</td>\n",
       "</tr>\n",
       "<tr>\n",
       "  <th>before:state[T.XX]</th> <td>    0.0182</td> <td>    0.005</td> <td>    3.733</td> <td> 0.000</td> <td>    0.009</td> <td>    0.028</td>\n",
       "</tr>\n",
       "</table>\n",
       "<table class=\"simpletable\">\n",
       "<tr>\n",
       "  <th>Omnibus:</th>       <td>46583.747</td> <th>  Durbin-Watson:     </th>  <td>   1.971</td> \n",
       "</tr>\n",
       "<tr>\n",
       "  <th>Prob(Omnibus):</th>  <td> 0.000</td>   <th>  Jarque-Bera (JB):  </th> <td>670089.493</td>\n",
       "</tr>\n",
       "<tr>\n",
       "  <th>Skew:</th>           <td> 4.057</td>   <th>  Prob(JB):          </th>  <td>    0.00</td> \n",
       "</tr>\n",
       "<tr>\n",
       "  <th>Kurtosis:</th>       <td>17.528</td>   <th>  Cond. No.          </th>  <td>    12.4</td> \n",
       "</tr>\n",
       "</table>"
      ],
      "text/plain": [
       "<class 'statsmodels.iolib.summary.Summary'>\n",
       "\"\"\"\n",
       "                            OLS Regression Results                            \n",
       "==============================================================================\n",
       "Dep. Variable:                   meth   R-squared:                       0.003\n",
       "Model:                            OLS   Adj. R-squared:                  0.003\n",
       "Method:                 Least Squares   F-statistic:                     62.92\n",
       "Date:                Wed, 18 Apr 2018   Prob (F-statistic):           1.31e-40\n",
       "Time:                        19:36:22   Log-Likelihood:                 5566.9\n",
       "No. Observations:               58077   AIC:                        -1.113e+04\n",
       "Df Residuals:                   58073   BIC:                        -1.109e+04\n",
       "Df Model:                           3                                         \n",
       "Covariance Type:            nonrobust                                         \n",
       "======================================================================================\n",
       "                         coef    std err          t      P>|t|      [0.025      0.975]\n",
       "--------------------------------------------------------------------------------------\n",
       "Intercept              0.0767      0.003     24.366      0.000       0.071       0.083\n",
       "state[T.XX]           -0.0164      0.003     -4.743      0.000      -0.023      -0.010\n",
       "before                -0.0386      0.004     -8.674      0.000      -0.047      -0.030\n",
       "before:state[T.XX]     0.0182      0.005      3.733      0.000       0.009       0.028\n",
       "==============================================================================\n",
       "Omnibus:                    46583.747   Durbin-Watson:                   1.971\n",
       "Prob(Omnibus):                  0.000   Jarque-Bera (JB):           670089.493\n",
       "Skew:                           4.057   Prob(JB):                         0.00\n",
       "Kurtosis:                      17.528   Cond. No.                         12.4\n",
       "==============================================================================\n",
       "\n",
       "Warnings:\n",
       "[1] Standard Errors assume that the covariance matrix of the errors is correctly specified.\n",
       "\"\"\""
      ]
     },
     "execution_count": 41,
     "metadata": {},
     "output_type": "execute_result"
    }
   ],
   "source": [
    "m = smf.ols(formula = 'meth ~ before*state', data = yrbs)\n",
    "m.fit().summary()"
   ]
  },
  {
   "cell_type": "markdown",
   "metadata": {},
   "source": []
  },
  {
   "cell_type": "code",
   "execution_count": 40,
   "metadata": {},
   "outputs": [
    {
     "data": {
      "text/html": [
       "<table class=\"simpletable\">\n",
       "<caption>OLS Regression Results</caption>\n",
       "<tr>\n",
       "  <th>Dep. Variable:</th>          <td>meth</td>       <th>  R-squared:         </th>  <td>   0.005</td> \n",
       "</tr>\n",
       "<tr>\n",
       "  <th>Model:</th>                   <td>OLS</td>       <th>  Adj. R-squared:    </th>  <td>   0.005</td> \n",
       "</tr>\n",
       "<tr>\n",
       "  <th>Method:</th>             <td>Least Squares</td>  <th>  F-statistic:       </th>  <td>   9.537</td> \n",
       "</tr>\n",
       "<tr>\n",
       "  <th>Date:</th>             <td>Wed, 18 Apr 2018</td> <th>  Prob (F-statistic):</th>  <td>8.25e-45</td> \n",
       "</tr>\n",
       "<tr>\n",
       "  <th>Time:</th>                 <td>19:34:03</td>     <th>  Log-Likelihood:    </th>  <td>  5620.1</td> \n",
       "</tr>\n",
       "<tr>\n",
       "  <th>No. Observations:</th>      <td> 58077</td>      <th>  AIC:               </th> <td>-1.118e+04</td>\n",
       "</tr>\n",
       "<tr>\n",
       "  <th>Df Residuals:</th>          <td> 58045</td>      <th>  BIC:               </th> <td>-1.089e+04</td>\n",
       "</tr>\n",
       "<tr>\n",
       "  <th>Df Model:</th>              <td>    31</td>      <th>                     </th>      <td> </td>    \n",
       "</tr>\n",
       "<tr>\n",
       "  <th>Covariance Type:</th>      <td>nonrobust</td>    <th>                     </th>      <td> </td>    \n",
       "</tr>\n",
       "</table>\n",
       "<table class=\"simpletable\">\n",
       "<tr>\n",
       "                   <td></td>                     <th>coef</th>     <th>std err</th>      <th>t</th>      <th>P>|t|</th>  <th>[0.025</th>    <th>0.975]</th>  \n",
       "</tr>\n",
       "<tr>\n",
       "  <th>Intercept</th>                          <td>   -0.0797</td> <td>    0.097</td> <td>   -0.823</td> <td> 0.411</td> <td>   -0.269</td> <td>    0.110</td>\n",
       "</tr>\n",
       "<tr>\n",
       "  <th>sex[T.M]</th>                           <td>    0.0461</td> <td>    0.147</td> <td>    0.314</td> <td> 0.754</td> <td>   -0.242</td> <td>    0.334</td>\n",
       "</tr>\n",
       "<tr>\n",
       "  <th>state[T.XX]</th>                        <td>    0.0527</td> <td>    0.110</td> <td>    0.477</td> <td> 0.633</td> <td>   -0.164</td> <td>    0.269</td>\n",
       "</tr>\n",
       "<tr>\n",
       "  <th>sex[T.M]:state[T.XX]</th>               <td>   -0.1283</td> <td>    0.167</td> <td>   -0.769</td> <td> 0.442</td> <td>   -0.456</td> <td>    0.199</td>\n",
       "</tr>\n",
       "<tr>\n",
       "  <th>before</th>                             <td>   -0.1337</td> <td>    0.132</td> <td>   -1.011</td> <td> 0.312</td> <td>   -0.393</td> <td>    0.125</td>\n",
       "</tr>\n",
       "<tr>\n",
       "  <th>before:sex[T.M]</th>                    <td>    0.0140</td> <td>    0.200</td> <td>    0.070</td> <td> 0.944</td> <td>   -0.378</td> <td>    0.406</td>\n",
       "</tr>\n",
       "<tr>\n",
       "  <th>before:state[T.XX]</th>                 <td>    0.1126</td> <td>    0.150</td> <td>    0.751</td> <td> 0.452</td> <td>   -0.181</td> <td>    0.406</td>\n",
       "</tr>\n",
       "<tr>\n",
       "  <th>before:sex[T.M]:state[T.XX]</th>        <td>    0.0193</td> <td>    0.226</td> <td>    0.085</td> <td> 0.932</td> <td>   -0.425</td> <td>    0.463</td>\n",
       "</tr>\n",
       "<tr>\n",
       "  <th>age</th>                                <td>    0.0099</td> <td>    0.006</td> <td>    1.617</td> <td> 0.106</td> <td>   -0.002</td> <td>    0.022</td>\n",
       "</tr>\n",
       "<tr>\n",
       "  <th>age:sex[T.M]</th>                       <td>   -0.0033</td> <td>    0.009</td> <td>   -0.352</td> <td> 0.725</td> <td>   -0.022</td> <td>    0.015</td>\n",
       "</tr>\n",
       "<tr>\n",
       "  <th>age:state[T.XX]</th>                    <td>   -0.0043</td> <td>    0.007</td> <td>   -0.611</td> <td> 0.541</td> <td>   -0.018</td> <td>    0.009</td>\n",
       "</tr>\n",
       "<tr>\n",
       "  <th>age:sex[T.M]:state[T.XX]</th>           <td>    0.0090</td> <td>    0.011</td> <td>    0.849</td> <td> 0.396</td> <td>   -0.012</td> <td>    0.030</td>\n",
       "</tr>\n",
       "<tr>\n",
       "  <th>before:age</th>                         <td>    0.0059</td> <td>    0.008</td> <td>    0.703</td> <td> 0.482</td> <td>   -0.011</td> <td>    0.022</td>\n",
       "</tr>\n",
       "<tr>\n",
       "  <th>before:age:sex[T.M]</th>                <td>   -0.0003</td> <td>    0.013</td> <td>   -0.022</td> <td> 0.982</td> <td>   -0.025</td> <td>    0.025</td>\n",
       "</tr>\n",
       "<tr>\n",
       "  <th>before:age:state[T.XX]</th>             <td>   -0.0061</td> <td>    0.010</td> <td>   -0.638</td> <td> 0.524</td> <td>   -0.025</td> <td>    0.013</td>\n",
       "</tr>\n",
       "<tr>\n",
       "  <th>before:age:sex[T.M]:state[T.XX]</th>    <td>   -0.0021</td> <td>    0.014</td> <td>   -0.145</td> <td> 0.885</td> <td>   -0.030</td> <td>    0.026</td>\n",
       "</tr>\n",
       "<tr>\n",
       "  <th>tv</th>                                 <td>   -0.1016</td> <td>    0.139</td> <td>   -0.729</td> <td> 0.466</td> <td>   -0.375</td> <td>    0.172</td>\n",
       "</tr>\n",
       "<tr>\n",
       "  <th>sex[T.M]:tv</th>                        <td>    0.0451</td> <td>    0.205</td> <td>    0.220</td> <td> 0.826</td> <td>   -0.357</td> <td>    0.447</td>\n",
       "</tr>\n",
       "<tr>\n",
       "  <th>tv:state[T.XX]</th>                     <td>    0.0959</td> <td>    0.154</td> <td>    0.622</td> <td> 0.534</td> <td>   -0.206</td> <td>    0.398</td>\n",
       "</tr>\n",
       "<tr>\n",
       "  <th>sex[T.M]:tv:state[T.XX]</th>            <td>    0.0181</td> <td>    0.227</td> <td>    0.080</td> <td> 0.936</td> <td>   -0.427</td> <td>    0.463</td>\n",
       "</tr>\n",
       "<tr>\n",
       "  <th>before:tv</th>                          <td>    0.1147</td> <td>    0.196</td> <td>    0.586</td> <td> 0.558</td> <td>   -0.269</td> <td>    0.499</td>\n",
       "</tr>\n",
       "<tr>\n",
       "  <th>before:sex[T.M]:tv</th>                 <td>    0.0524</td> <td>    0.287</td> <td>    0.183</td> <td> 0.855</td> <td>   -0.510</td> <td>    0.614</td>\n",
       "</tr>\n",
       "<tr>\n",
       "  <th>before:tv:state[T.XX]</th>              <td>   -0.0655</td> <td>    0.215</td> <td>   -0.304</td> <td> 0.761</td> <td>   -0.488</td> <td>    0.357</td>\n",
       "</tr>\n",
       "<tr>\n",
       "  <th>before:sex[T.M]:tv:state[T.XX]</th>     <td>   -0.1083</td> <td>    0.316</td> <td>   -0.343</td> <td> 0.732</td> <td>   -0.728</td> <td>    0.511</td>\n",
       "</tr>\n",
       "<tr>\n",
       "  <th>age:tv</th>                             <td>    0.0070</td> <td>    0.009</td> <td>    0.785</td> <td> 0.433</td> <td>   -0.010</td> <td>    0.024</td>\n",
       "</tr>\n",
       "<tr>\n",
       "  <th>age:sex[T.M]:tv</th>                    <td>   -0.0031</td> <td>    0.013</td> <td>   -0.238</td> <td> 0.812</td> <td>   -0.029</td> <td>    0.022</td>\n",
       "</tr>\n",
       "<tr>\n",
       "  <th>age:tv:state[T.XX]</th>                 <td>   -0.0072</td> <td>    0.010</td> <td>   -0.731</td> <td> 0.465</td> <td>   -0.026</td> <td>    0.012</td>\n",
       "</tr>\n",
       "<tr>\n",
       "  <th>age:sex[T.M]:tv:state[T.XX]</th>        <td>   -0.0010</td> <td>    0.014</td> <td>   -0.069</td> <td> 0.945</td> <td>   -0.029</td> <td>    0.027</td>\n",
       "</tr>\n",
       "<tr>\n",
       "  <th>before:age:tv</th>                      <td>   -0.0075</td> <td>    0.012</td> <td>   -0.602</td> <td> 0.547</td> <td>   -0.032</td> <td>    0.017</td>\n",
       "</tr>\n",
       "<tr>\n",
       "  <th>before:age:sex[T.M]:tv</th>             <td>   -0.0036</td> <td>    0.018</td> <td>   -0.196</td> <td> 0.844</td> <td>   -0.039</td> <td>    0.032</td>\n",
       "</tr>\n",
       "<tr>\n",
       "  <th>before:age:tv:state[T.XX]</th>          <td>    0.0045</td> <td>    0.014</td> <td>    0.332</td> <td> 0.740</td> <td>   -0.022</td> <td>    0.031</td>\n",
       "</tr>\n",
       "<tr>\n",
       "  <th>before:age:sex[T.M]:tv:state[T.XX]</th> <td>    0.0078</td> <td>    0.020</td> <td>    0.389</td> <td> 0.697</td> <td>   -0.031</td> <td>    0.047</td>\n",
       "</tr>\n",
       "</table>\n",
       "<table class=\"simpletable\">\n",
       "<tr>\n",
       "  <th>Omnibus:</th>       <td>46481.845</td> <th>  Durbin-Watson:     </th>  <td>   1.973</td> \n",
       "</tr>\n",
       "<tr>\n",
       "  <th>Prob(Omnibus):</th>  <td> 0.000</td>   <th>  Jarque-Bera (JB):  </th> <td>665492.415</td>\n",
       "</tr>\n",
       "<tr>\n",
       "  <th>Skew:</th>           <td> 4.046</td>   <th>  Prob(JB):          </th>  <td>    0.00</td> \n",
       "</tr>\n",
       "<tr>\n",
       "  <th>Kurtosis:</th>       <td>17.475</td>   <th>  Cond. No.          </th>  <td>2.24e+04</td> \n",
       "</tr>\n",
       "</table>"
      ],
      "text/plain": [
       "<class 'statsmodels.iolib.summary.Summary'>\n",
       "\"\"\"\n",
       "                            OLS Regression Results                            \n",
       "==============================================================================\n",
       "Dep. Variable:                   meth   R-squared:                       0.005\n",
       "Model:                            OLS   Adj. R-squared:                  0.005\n",
       "Method:                 Least Squares   F-statistic:                     9.537\n",
       "Date:                Wed, 18 Apr 2018   Prob (F-statistic):           8.25e-45\n",
       "Time:                        19:34:03   Log-Likelihood:                 5620.1\n",
       "No. Observations:               58077   AIC:                        -1.118e+04\n",
       "Df Residuals:                   58045   BIC:                        -1.089e+04\n",
       "Df Model:                          31                                         \n",
       "Covariance Type:            nonrobust                                         \n",
       "======================================================================================================\n",
       "                                         coef    std err          t      P>|t|      [0.025      0.975]\n",
       "------------------------------------------------------------------------------------------------------\n",
       "Intercept                             -0.0797      0.097     -0.823      0.411      -0.269       0.110\n",
       "sex[T.M]                               0.0461      0.147      0.314      0.754      -0.242       0.334\n",
       "state[T.XX]                            0.0527      0.110      0.477      0.633      -0.164       0.269\n",
       "sex[T.M]:state[T.XX]                  -0.1283      0.167     -0.769      0.442      -0.456       0.199\n",
       "before                                -0.1337      0.132     -1.011      0.312      -0.393       0.125\n",
       "before:sex[T.M]                        0.0140      0.200      0.070      0.944      -0.378       0.406\n",
       "before:state[T.XX]                     0.1126      0.150      0.751      0.452      -0.181       0.406\n",
       "before:sex[T.M]:state[T.XX]            0.0193      0.226      0.085      0.932      -0.425       0.463\n",
       "age                                    0.0099      0.006      1.617      0.106      -0.002       0.022\n",
       "age:sex[T.M]                          -0.0033      0.009     -0.352      0.725      -0.022       0.015\n",
       "age:state[T.XX]                       -0.0043      0.007     -0.611      0.541      -0.018       0.009\n",
       "age:sex[T.M]:state[T.XX]               0.0090      0.011      0.849      0.396      -0.012       0.030\n",
       "before:age                             0.0059      0.008      0.703      0.482      -0.011       0.022\n",
       "before:age:sex[T.M]                   -0.0003      0.013     -0.022      0.982      -0.025       0.025\n",
       "before:age:state[T.XX]                -0.0061      0.010     -0.638      0.524      -0.025       0.013\n",
       "before:age:sex[T.M]:state[T.XX]       -0.0021      0.014     -0.145      0.885      -0.030       0.026\n",
       "tv                                    -0.1016      0.139     -0.729      0.466      -0.375       0.172\n",
       "sex[T.M]:tv                            0.0451      0.205      0.220      0.826      -0.357       0.447\n",
       "tv:state[T.XX]                         0.0959      0.154      0.622      0.534      -0.206       0.398\n",
       "sex[T.M]:tv:state[T.XX]                0.0181      0.227      0.080      0.936      -0.427       0.463\n",
       "before:tv                              0.1147      0.196      0.586      0.558      -0.269       0.499\n",
       "before:sex[T.M]:tv                     0.0524      0.287      0.183      0.855      -0.510       0.614\n",
       "before:tv:state[T.XX]                 -0.0655      0.215     -0.304      0.761      -0.488       0.357\n",
       "before:sex[T.M]:tv:state[T.XX]        -0.1083      0.316     -0.343      0.732      -0.728       0.511\n",
       "age:tv                                 0.0070      0.009      0.785      0.433      -0.010       0.024\n",
       "age:sex[T.M]:tv                       -0.0031      0.013     -0.238      0.812      -0.029       0.022\n",
       "age:tv:state[T.XX]                    -0.0072      0.010     -0.731      0.465      -0.026       0.012\n",
       "age:sex[T.M]:tv:state[T.XX]           -0.0010      0.014     -0.069      0.945      -0.029       0.027\n",
       "before:age:tv                         -0.0075      0.012     -0.602      0.547      -0.032       0.017\n",
       "before:age:sex[T.M]:tv                -0.0036      0.018     -0.196      0.844      -0.039       0.032\n",
       "before:age:tv:state[T.XX]              0.0045      0.014      0.332      0.740      -0.022       0.031\n",
       "before:age:sex[T.M]:tv:state[T.XX]     0.0078      0.020      0.389      0.697      -0.031       0.047\n",
       "==============================================================================\n",
       "Omnibus:                    46481.845   Durbin-Watson:                   1.973\n",
       "Prob(Omnibus):                  0.000   Jarque-Bera (JB):           665492.415\n",
       "Skew:                           4.046   Prob(JB):                         0.00\n",
       "Kurtosis:                      17.475   Cond. No.                     2.24e+04\n",
       "==============================================================================\n",
       "\n",
       "Warnings:\n",
       "[1] Standard Errors assume that the covariance matrix of the errors is correctly specified.\n",
       "[2] The condition number is large, 2.24e+04. This might indicate that there are\n",
       "strong multicollinearity or other numerical problems.\n",
       "\"\"\""
      ]
     },
     "execution_count": 40,
     "metadata": {},
     "output_type": "execute_result"
    }
   ],
   "source": [
    "m = smf.ols(formula = 'meth ~ before*age*sex*tv*state', data = yrbs)\n",
    "m.fit().summary()"
   ]
  },
  {
   "cell_type": "markdown",
   "metadata": {},
   "source": [
    "Here, we consider the whole data and see that for the other states the coefficient is slightly positive. We see that the post project effect is only slight but that might be because we consider 2007 and 2009 both. In 2007, Montana's consumption is higher but in 2009 it is very low. Maybe because of that, the mean is showing an overall result. "
   ]
  }
 ],
 "metadata": {
  "kernelspec": {
   "display_name": "Python 3",
   "language": "python",
   "name": "python3"
  },
  "language_info": {
   "codemirror_mode": {
    "name": "ipython",
    "version": 3
   },
   "file_extension": ".py",
   "mimetype": "text/x-python",
   "name": "python",
   "nbconvert_exporter": "python",
   "pygments_lexer": "ipython3",
   "version": "3.6.4"
  },
  "name": "lab03_dif-in-dif.ipynb"
 },
 "nbformat": 4,
 "nbformat_minor": 2
}
